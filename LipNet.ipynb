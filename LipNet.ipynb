{
  "cells": [
    {
      "cell_type": "markdown",
      "metadata": {
        "id": "a3573a47-3689-4668-b62f-5c8451b2b4e9"
      },
      "source": [
        "# 0. Install and Import Dependencies"
      ],
      "id": "a3573a47-3689-4668-b62f-5c8451b2b4e9"
    },
    {
      "cell_type": "code",
      "execution_count": null,
      "metadata": {
        "id": "ddfbccbe-41ae-4c23-98b1-a13868e2b499",
        "scrolled": true
      },
      "outputs": [],
      "source": [
        "!pip list"
      ],
      "id": "ddfbccbe-41ae-4c23-98b1-a13868e2b499"
    },
    {
      "cell_type": "code",
      "execution_count": null,
      "metadata": {
        "colab": {
          "base_uri": "https://localhost:8080/"
        },
        "id": "02f907ea-f669-46c7-adcf-7f257e663448",
        "outputId": "9b07020c-33e5-4853-8e0b-9d09858920f1"
      },
      "outputs": [
        {
          "output_type": "stream",
          "name": "stdout",
          "text": [
            "Requirement already satisfied: opencv-python in /usr/local/lib/python3.10/dist-packages (4.8.0.76)\n",
            "Requirement already satisfied: matplotlib in /usr/local/lib/python3.10/dist-packages (3.7.1)\n",
            "Requirement already satisfied: imageio in /usr/local/lib/python3.10/dist-packages (2.31.5)\n",
            "Requirement already satisfied: gdown in /usr/local/lib/python3.10/dist-packages (4.6.6)\n",
            "Requirement already satisfied: tensorflow in /usr/local/lib/python3.10/dist-packages (2.13.0)\n",
            "Requirement already satisfied: numpy>=1.21.2 in /usr/local/lib/python3.10/dist-packages (from opencv-python) (1.23.5)\n",
            "Requirement already satisfied: contourpy>=1.0.1 in /usr/local/lib/python3.10/dist-packages (from matplotlib) (1.1.1)\n",
            "Requirement already satisfied: cycler>=0.10 in /usr/local/lib/python3.10/dist-packages (from matplotlib) (0.12.0)\n",
            "Requirement already satisfied: fonttools>=4.22.0 in /usr/local/lib/python3.10/dist-packages (from matplotlib) (4.43.0)\n",
            "Requirement already satisfied: kiwisolver>=1.0.1 in /usr/local/lib/python3.10/dist-packages (from matplotlib) (1.4.5)\n",
            "Requirement already satisfied: packaging>=20.0 in /usr/local/lib/python3.10/dist-packages (from matplotlib) (23.2)\n",
            "Requirement already satisfied: pillow>=6.2.0 in /usr/local/lib/python3.10/dist-packages (from matplotlib) (9.4.0)\n",
            "Requirement already satisfied: pyparsing>=2.3.1 in /usr/local/lib/python3.10/dist-packages (from matplotlib) (3.1.1)\n",
            "Requirement already satisfied: python-dateutil>=2.7 in /usr/local/lib/python3.10/dist-packages (from matplotlib) (2.8.2)\n",
            "Requirement already satisfied: filelock in /usr/local/lib/python3.10/dist-packages (from gdown) (3.12.4)\n",
            "Requirement already satisfied: requests[socks] in /usr/local/lib/python3.10/dist-packages (from gdown) (2.31.0)\n",
            "Requirement already satisfied: six in /usr/local/lib/python3.10/dist-packages (from gdown) (1.16.0)\n",
            "Requirement already satisfied: tqdm in /usr/local/lib/python3.10/dist-packages (from gdown) (4.66.1)\n",
            "Requirement already satisfied: beautifulsoup4 in /usr/local/lib/python3.10/dist-packages (from gdown) (4.11.2)\n",
            "Requirement already satisfied: absl-py>=1.0.0 in /usr/local/lib/python3.10/dist-packages (from tensorflow) (1.4.0)\n",
            "Requirement already satisfied: astunparse>=1.6.0 in /usr/local/lib/python3.10/dist-packages (from tensorflow) (1.6.3)\n",
            "Requirement already satisfied: flatbuffers>=23.1.21 in /usr/local/lib/python3.10/dist-packages (from tensorflow) (23.5.26)\n",
            "Requirement already satisfied: gast<=0.4.0,>=0.2.1 in /usr/local/lib/python3.10/dist-packages (from tensorflow) (0.4.0)\n",
            "Requirement already satisfied: google-pasta>=0.1.1 in /usr/local/lib/python3.10/dist-packages (from tensorflow) (0.2.0)\n",
            "Requirement already satisfied: grpcio<2.0,>=1.24.3 in /usr/local/lib/python3.10/dist-packages (from tensorflow) (1.59.0)\n",
            "Requirement already satisfied: h5py>=2.9.0 in /usr/local/lib/python3.10/dist-packages (from tensorflow) (3.9.0)\n",
            "Requirement already satisfied: keras<2.14,>=2.13.1 in /usr/local/lib/python3.10/dist-packages (from tensorflow) (2.13.1)\n",
            "Requirement already satisfied: libclang>=13.0.0 in /usr/local/lib/python3.10/dist-packages (from tensorflow) (16.0.6)\n",
            "Requirement already satisfied: opt-einsum>=2.3.2 in /usr/local/lib/python3.10/dist-packages (from tensorflow) (3.3.0)\n",
            "Requirement already satisfied: protobuf!=4.21.0,!=4.21.1,!=4.21.2,!=4.21.3,!=4.21.4,!=4.21.5,<5.0.0dev,>=3.20.3 in /usr/local/lib/python3.10/dist-packages (from tensorflow) (3.20.3)\n",
            "Requirement already satisfied: setuptools in /usr/local/lib/python3.10/dist-packages (from tensorflow) (67.7.2)\n",
            "Requirement already satisfied: tensorboard<2.14,>=2.13 in /usr/local/lib/python3.10/dist-packages (from tensorflow) (2.13.0)\n",
            "Requirement already satisfied: tensorflow-estimator<2.14,>=2.13.0 in /usr/local/lib/python3.10/dist-packages (from tensorflow) (2.13.0)\n",
            "Requirement already satisfied: termcolor>=1.1.0 in /usr/local/lib/python3.10/dist-packages (from tensorflow) (2.3.0)\n",
            "Requirement already satisfied: typing-extensions<4.6.0,>=3.6.6 in /usr/local/lib/python3.10/dist-packages (from tensorflow) (4.5.0)\n",
            "Requirement already satisfied: wrapt>=1.11.0 in /usr/local/lib/python3.10/dist-packages (from tensorflow) (1.15.0)\n",
            "Requirement already satisfied: tensorflow-io-gcs-filesystem>=0.23.1 in /usr/local/lib/python3.10/dist-packages (from tensorflow) (0.34.0)\n",
            "Requirement already satisfied: wheel<1.0,>=0.23.0 in /usr/local/lib/python3.10/dist-packages (from astunparse>=1.6.0->tensorflow) (0.41.2)\n",
            "Requirement already satisfied: google-auth<3,>=1.6.3 in /usr/local/lib/python3.10/dist-packages (from tensorboard<2.14,>=2.13->tensorflow) (2.17.3)\n",
            "Requirement already satisfied: google-auth-oauthlib<1.1,>=0.5 in /usr/local/lib/python3.10/dist-packages (from tensorboard<2.14,>=2.13->tensorflow) (1.0.0)\n",
            "Requirement already satisfied: markdown>=2.6.8 in /usr/local/lib/python3.10/dist-packages (from tensorboard<2.14,>=2.13->tensorflow) (3.4.4)\n",
            "Requirement already satisfied: tensorboard-data-server<0.8.0,>=0.7.0 in /usr/local/lib/python3.10/dist-packages (from tensorboard<2.14,>=2.13->tensorflow) (0.7.1)\n",
            "Requirement already satisfied: werkzeug>=1.0.1 in /usr/local/lib/python3.10/dist-packages (from tensorboard<2.14,>=2.13->tensorflow) (3.0.0)\n",
            "Requirement already satisfied: soupsieve>1.2 in /usr/local/lib/python3.10/dist-packages (from beautifulsoup4->gdown) (2.5)\n",
            "Requirement already satisfied: charset-normalizer<4,>=2 in /usr/local/lib/python3.10/dist-packages (from requests[socks]->gdown) (3.3.0)\n",
            "Requirement already satisfied: idna<4,>=2.5 in /usr/local/lib/python3.10/dist-packages (from requests[socks]->gdown) (3.4)\n",
            "Requirement already satisfied: urllib3<3,>=1.21.1 in /usr/local/lib/python3.10/dist-packages (from requests[socks]->gdown) (2.0.6)\n",
            "Requirement already satisfied: certifi>=2017.4.17 in /usr/local/lib/python3.10/dist-packages (from requests[socks]->gdown) (2023.7.22)\n",
            "Requirement already satisfied: PySocks!=1.5.7,>=1.5.6 in /usr/local/lib/python3.10/dist-packages (from requests[socks]->gdown) (1.7.1)\n",
            "Requirement already satisfied: cachetools<6.0,>=2.0.0 in /usr/local/lib/python3.10/dist-packages (from google-auth<3,>=1.6.3->tensorboard<2.14,>=2.13->tensorflow) (5.3.1)\n",
            "Requirement already satisfied: pyasn1-modules>=0.2.1 in /usr/local/lib/python3.10/dist-packages (from google-auth<3,>=1.6.3->tensorboard<2.14,>=2.13->tensorflow) (0.3.0)\n",
            "Requirement already satisfied: rsa<5,>=3.1.4 in /usr/local/lib/python3.10/dist-packages (from google-auth<3,>=1.6.3->tensorboard<2.14,>=2.13->tensorflow) (4.9)\n",
            "Requirement already satisfied: requests-oauthlib>=0.7.0 in /usr/local/lib/python3.10/dist-packages (from google-auth-oauthlib<1.1,>=0.5->tensorboard<2.14,>=2.13->tensorflow) (1.3.1)\n",
            "Requirement already satisfied: MarkupSafe>=2.1.1 in /usr/local/lib/python3.10/dist-packages (from werkzeug>=1.0.1->tensorboard<2.14,>=2.13->tensorflow) (2.1.3)\n",
            "Requirement already satisfied: pyasn1<0.6.0,>=0.4.6 in /usr/local/lib/python3.10/dist-packages (from pyasn1-modules>=0.2.1->google-auth<3,>=1.6.3->tensorboard<2.14,>=2.13->tensorflow) (0.5.0)\n",
            "Requirement already satisfied: oauthlib>=3.0.0 in /usr/local/lib/python3.10/dist-packages (from requests-oauthlib>=0.7.0->google-auth-oauthlib<1.1,>=0.5->tensorboard<2.14,>=2.13->tensorflow) (3.2.2)\n"
          ]
        }
      ],
      "source": [
        "!pip install opencv-python matplotlib imageio gdown tensorflow"
      ],
      "id": "02f907ea-f669-46c7-adcf-7f257e663448"
    },
    {
      "cell_type": "code",
      "execution_count": null,
      "metadata": {
        "id": "b24af50c-20b8-409d-ad78-30a933fdd669"
      },
      "outputs": [],
      "source": [
        "import os\n",
        "import cv2\n",
        "import tensorflow as tf\n",
        "import numpy as np\n",
        "from typing import List\n",
        "from matplotlib import pyplot as plt\n",
        "import imageio"
      ],
      "id": "b24af50c-20b8-409d-ad78-30a933fdd669"
    },
    {
      "cell_type": "code",
      "execution_count": null,
      "metadata": {
        "colab": {
          "base_uri": "https://localhost:8080/"
        },
        "id": "1e3db0b0-e559-4ad6-91fd-e7414b7d75e6",
        "outputId": "9d382405-6217-4cf1-9d85-6ded944590c8"
      },
      "outputs": [
        {
          "output_type": "execute_result",
          "data": {
            "text/plain": [
              "[PhysicalDevice(name='/physical_device:GPU:0', device_type='GPU')]"
            ]
          },
          "metadata": {},
          "execution_count": 3
        }
      ],
      "source": [
        "tf.config.list_physical_devices('GPU')"
      ],
      "id": "1e3db0b0-e559-4ad6-91fd-e7414b7d75e6"
    },
    {
      "cell_type": "code",
      "execution_count": null,
      "metadata": {
        "id": "378d045a-3003-4f93-b7d2-a25a97774a68"
      },
      "outputs": [],
      "source": [
        "physical_devices = tf.config.list_physical_devices('GPU')\n",
        "try:\n",
        "    tf.config.experimental.set_memory_growth(physical_devices[0], True)\n",
        "except:\n",
        "    pass"
      ],
      "id": "378d045a-3003-4f93-b7d2-a25a97774a68"
    },
    {
      "cell_type": "code",
      "execution_count": null,
      "metadata": {
        "colab": {
          "base_uri": "https://localhost:8080/"
        },
        "id": "mGeUH4MgWQLD",
        "outputId": "d471026e-3d5b-41c0-a22b-cca36f90311f"
      },
      "outputs": [
        {
          "output_type": "stream",
          "name": "stdout",
          "text": [
            "Mounted at /content/gdrive\n"
          ]
        }
      ],
      "source": [
        "from google.colab import drive\n",
        "\n",
        "drive.mount('/content/gdrive')"
      ],
      "id": "mGeUH4MgWQLD"
    },
    {
      "cell_type": "code",
      "execution_count": null,
      "metadata": {
        "id": "ntc24_Q-Wn98",
        "colab": {
          "base_uri": "https://localhost:8080/"
        },
        "outputId": "7dbf58c6-2eb2-45b4-c4f4-72555998ff96"
      },
      "outputs": [
        {
          "output_type": "stream",
          "name": "stdout",
          "text": [
            "Archive:  /content/gdrive/MyDrive/LipNet/data.zip\n",
            "   creating: data/\n",
            "   creating: data/alignments/\n",
            "   creating: data/alignments/s1/\n",
            "  inflating: data/alignments/s1/bbaf2n.align  \n",
            "  inflating: data/alignments/s1/bbaf3s.align  \n",
            "  inflating: data/alignments/s1/bbaf4p.align  \n",
            "  inflating: data/alignments/s1/bbaf5a.align  \n",
            "  inflating: data/alignments/s1/bbal6n.align  \n",
            "  inflating: data/alignments/s1/bbal7s.align  \n",
            "  inflating: data/alignments/s1/bbal8p.align  \n",
            "  inflating: data/alignments/s1/bbal9a.align  \n",
            "  inflating: data/alignments/s1/bbas1s.align  \n",
            "  inflating: data/alignments/s1/bbas2p.align  \n",
            "  inflating: data/alignments/s1/bbas3a.align  \n",
            "  inflating: data/alignments/s1/bbaszn.align  \n",
            "  inflating: data/alignments/s1/bbaz4n.align  \n",
            "  inflating: data/alignments/s1/bbaz5s.align  \n",
            "  inflating: data/alignments/s1/bbaz6p.align  \n",
            "  inflating: data/alignments/s1/bbaz7a.align  \n",
            "  inflating: data/alignments/s1/bbbf6n.align  \n",
            "  inflating: data/alignments/s1/bbbf7s.align  \n",
            "  inflating: data/alignments/s1/bbbf8p.align  \n",
            "  inflating: data/alignments/s1/bbbf9a.align  \n",
            "  inflating: data/alignments/s1/bbbm1s.align  \n",
            "  inflating: data/alignments/s1/bbbm2p.align  \n",
            "  inflating: data/alignments/s1/bbbm3a.align  \n",
            "  inflating: data/alignments/s1/bbbmzn.align  \n",
            "  inflating: data/alignments/s1/bbbs4n.align  \n",
            "  inflating: data/alignments/s1/bbbs5s.align  \n",
            "  inflating: data/alignments/s1/bbbs6p.align  \n",
            "  inflating: data/alignments/s1/bbbs7a.align  \n",
            "  inflating: data/alignments/s1/bbbz8n.align  \n",
            "  inflating: data/alignments/s1/bbbz9s.align  \n",
            "  inflating: data/alignments/s1/bbie8n.align  \n",
            "  inflating: data/alignments/s1/bbie9s.align  \n",
            "  inflating: data/alignments/s1/bbif1a.align  \n",
            "  inflating: data/alignments/s1/bbifzp.align  \n",
            "  inflating: data/alignments/s1/bbil2n.align  \n",
            "  inflating: data/alignments/s1/bbil3s.align  \n",
            "  inflating: data/alignments/s1/bbil4p.align  \n",
            "  inflating: data/alignments/s1/bbil5a.align  \n",
            "  inflating: data/alignments/s1/bbir6n.align  \n",
            "  inflating: data/alignments/s1/bbir7s.align  \n",
            "  inflating: data/alignments/s1/bbir8p.align  \n",
            "  inflating: data/alignments/s1/bbir9a.align  \n",
            "  inflating: data/alignments/s1/bbiz1s.align  \n",
            "  inflating: data/alignments/s1/bbiz2p.align  \n",
            "  inflating: data/alignments/s1/bbiz3a.align  \n",
            "  inflating: data/alignments/s1/bbizzn.align  \n",
            "  inflating: data/alignments/s1/bbwg1s.align  \n",
            "  inflating: data/alignments/s1/bbwg2p.align  \n",
            "  inflating: data/alignments/s1/bbwg3a.align  \n",
            "  inflating: data/alignments/s1/bbwgzn.align  \n",
            "  inflating: data/alignments/s1/bbwm4n.align  \n",
            "  inflating: data/alignments/s1/bbwm5s.align  \n",
            "  inflating: data/alignments/s1/bbwm6p.align  \n",
            "  inflating: data/alignments/s1/bbwm7a.align  \n",
            "  inflating: data/alignments/s1/bbws8n.align  \n",
            "  inflating: data/alignments/s1/bbws9s.align  \n",
            "  inflating: data/alignments/s1/bbwt1a.align  \n",
            "  inflating: data/alignments/s1/bbwtzp.align  \n",
            "  inflating: data/alignments/s1/bgaa6n.align  \n",
            "  inflating: data/alignments/s1/bgaa7s.align  \n",
            "  inflating: data/alignments/s1/bgaa8p.align  \n",
            "  inflating: data/alignments/s1/bgaa9a.align  \n",
            "  inflating: data/alignments/s1/bgah1s.align  \n",
            "  inflating: data/alignments/s1/bgah2p.align  \n",
            "  inflating: data/alignments/s1/bgah3a.align  \n",
            "  inflating: data/alignments/s1/bgahzn.align  \n",
            "  inflating: data/alignments/s1/bgan4n.align  \n",
            "  inflating: data/alignments/s1/bgan5s.align  \n",
            "  inflating: data/alignments/s1/bgan6p.align  \n",
            "  inflating: data/alignments/s1/bgan7a.align  \n",
            "  inflating: data/alignments/s1/bgat8n.align  \n",
            "  inflating: data/alignments/s1/bgat9s.align  \n",
            "  inflating: data/alignments/s1/bgau1a.align  \n",
            "  inflating: data/alignments/s1/bgauzp.align  \n",
            "  inflating: data/alignments/s1/bgbb1s.align  \n",
            "  inflating: data/alignments/s1/bgbb2p.align  \n",
            "  inflating: data/alignments/s1/bgbb3a.align  \n",
            "  inflating: data/alignments/s1/bgbbzn.align  \n",
            "  inflating: data/alignments/s1/bgbh4n.align  \n",
            "  inflating: data/alignments/s1/bgbh5s.align  \n",
            "  inflating: data/alignments/s1/bgbh6p.align  \n",
            "  inflating: data/alignments/s1/bgbh7a.align  \n",
            "  inflating: data/alignments/s1/bgbn8n.align  \n",
            "  inflating: data/alignments/s1/bgbn9s.align  \n",
            "  inflating: data/alignments/s1/bgbo1a.align  \n",
            "  inflating: data/alignments/s1/bgbozp.align  \n",
            "  inflating: data/alignments/s1/bgbu2n.align  \n",
            "  inflating: data/alignments/s1/bgbu3s.align  \n",
            "  inflating: data/alignments/s1/bgbu4p.align  \n",
            "  inflating: data/alignments/s1/bgbu5a.align  \n",
            "  inflating: data/alignments/s1/bgia2n.align  \n",
            "  inflating: data/alignments/s1/bgia3s.align  \n",
            "  inflating: data/alignments/s1/bgia4p.align  \n",
            "  inflating: data/alignments/s1/bgia5a.align  \n",
            "  inflating: data/alignments/s1/bgig6n.align  \n",
            "  inflating: data/alignments/s1/bgig7s.align  \n",
            "  inflating: data/alignments/s1/bgig8p.align  \n",
            "  inflating: data/alignments/s1/bgig9a.align  \n",
            "  inflating: data/alignments/s1/bgin1s.align  \n",
            "  inflating: data/alignments/s1/bgin2p.align  \n",
            "  inflating: data/alignments/s1/bgin3a.align  \n",
            "  inflating: data/alignments/s1/bginzn.align  \n",
            "  inflating: data/alignments/s1/bgit4n.align  \n",
            "  inflating: data/alignments/s1/bgit5s.align  \n",
            "  inflating: data/alignments/s1/bgit6p.align  \n",
            "  inflating: data/alignments/s1/bgit7a.align  \n",
            "  inflating: data/alignments/s1/bgwb4n.align  \n",
            "  inflating: data/alignments/s1/bgwb5s.align  \n",
            "  inflating: data/alignments/s1/bgwb6p.align  \n",
            "  inflating: data/alignments/s1/bgwb7a.align  \n",
            "  inflating: data/alignments/s1/bgwh8n.align  \n",
            "  inflating: data/alignments/s1/bgwh9s.align  \n",
            "  inflating: data/alignments/s1/bgwi1a.align  \n",
            "  inflating: data/alignments/s1/bgwizp.align  \n",
            "  inflating: data/alignments/s1/bgwo2n.align  \n",
            "  inflating: data/alignments/s1/bgwo3s.align  \n",
            "  inflating: data/alignments/s1/bgwo4p.align  \n",
            "  inflating: data/alignments/s1/bgwo5a.align  \n",
            "  inflating: data/alignments/s1/bgwu6n.align  \n",
            "  inflating: data/alignments/s1/bgwu7s.align  \n",
            "  inflating: data/alignments/s1/bgwu8p.align  \n",
            "  inflating: data/alignments/s1/bgwu9a.align  \n",
            "  inflating: data/alignments/s1/braf8n.align  \n",
            "  inflating: data/alignments/s1/braf9s.align  \n",
            "  inflating: data/alignments/s1/brag1a.align  \n",
            "  inflating: data/alignments/s1/bragzp.align  \n",
            "  inflating: data/alignments/s1/bram2n.align  \n",
            "  inflating: data/alignments/s1/bram3s.align  \n",
            "  inflating: data/alignments/s1/bram4p.align  \n",
            "  inflating: data/alignments/s1/bram5a.align  \n",
            "  inflating: data/alignments/s1/bras6n.align  \n",
            "  inflating: data/alignments/s1/bras7s.align  \n",
            "  inflating: data/alignments/s1/bras8p.align  \n",
            "  inflating: data/alignments/s1/bras9a.align  \n",
            "  inflating: data/alignments/s1/brba1a.align  \n",
            "  inflating: data/alignments/s1/brbazp.align  \n",
            "  inflating: data/alignments/s1/brbg2n.align  \n",
            "  inflating: data/alignments/s1/brbg3s.align  \n",
            "  inflating: data/alignments/s1/brbg4p.align  \n",
            "  inflating: data/alignments/s1/brbg5a.align  \n",
            "  inflating: data/alignments/s1/brbm6n.align  \n",
            "  inflating: data/alignments/s1/brbm7s.align  \n",
            "  inflating: data/alignments/s1/brbm8p.align  \n",
            "  inflating: data/alignments/s1/brbm9a.align  \n",
            "  inflating: data/alignments/s1/brbt1s.align  \n",
            "  inflating: data/alignments/s1/brbt2p.align  \n",
            "  inflating: data/alignments/s1/brbt3a.align  \n",
            "  inflating: data/alignments/s1/brbtzn.align  \n",
            "  inflating: data/alignments/s1/brif4n.align  \n",
            "  inflating: data/alignments/s1/brif5s.align  \n",
            "  inflating: data/alignments/s1/brif6p.align  \n",
            "  inflating: data/alignments/s1/brif7a.align  \n",
            "  inflating: data/alignments/s1/bril8n.align  \n",
            "  inflating: data/alignments/s1/bril9s.align  \n",
            "  inflating: data/alignments/s1/brim1a.align  \n",
            "  inflating: data/alignments/s1/brimzp.align  \n",
            "  inflating: data/alignments/s1/bris2n.align  \n",
            "  inflating: data/alignments/s1/bris3s.align  \n",
            "  inflating: data/alignments/s1/bris4p.align  \n",
            "  inflating: data/alignments/s1/bris5a.align  \n",
            "  inflating: data/alignments/s1/briz6n.align  \n",
            "  inflating: data/alignments/s1/briz7s.align  \n",
            "  inflating: data/alignments/s1/briz8p.align  \n",
            "  inflating: data/alignments/s1/briz9a.align  \n",
            "  inflating: data/alignments/s1/brwa2n.align  \n",
            "  inflating: data/alignments/s1/brwa3s.align  \n",
            "  inflating: data/alignments/s1/brwa4p.align  \n",
            "  inflating: data/alignments/s1/brwa5a.align  \n",
            "  inflating: data/alignments/s1/brwg6n.align  \n",
            "  inflating: data/alignments/s1/brwg7s.align  \n",
            "  inflating: data/alignments/s1/brwg8p.align  \n",
            "  inflating: data/alignments/s1/brwg9a.align  \n",
            "  inflating: data/alignments/s1/brwn1s.align  \n",
            "  inflating: data/alignments/s1/brwn2p.align  \n",
            "  inflating: data/alignments/s1/brwn3a.align  \n",
            "  inflating: data/alignments/s1/brwnzn.align  \n",
            "  inflating: data/alignments/s1/brwt4n.align  \n",
            "  inflating: data/alignments/s1/brwt5s.align  \n",
            "  inflating: data/alignments/s1/brwt6p.align  \n",
            "  inflating: data/alignments/s1/brwt7a.align  \n",
            "  inflating: data/alignments/s1/bwaa1s.align  \n",
            "  inflating: data/alignments/s1/bwaa2p.align  \n",
            "  inflating: data/alignments/s1/bwaa3a.align  \n",
            "  inflating: data/alignments/s1/bwaazn.align  \n",
            "  inflating: data/alignments/s1/bwag4n.align  \n",
            "  inflating: data/alignments/s1/bwag5s.align  \n",
            "  inflating: data/alignments/s1/bwag6p.align  \n",
            "  inflating: data/alignments/s1/bwag7a.align  \n",
            "  inflating: data/alignments/s1/bwam8n.align  \n",
            "  inflating: data/alignments/s1/bwam9s.align  \n",
            "  inflating: data/alignments/s1/bwan1a.align  \n",
            "  inflating: data/alignments/s1/bwanzp.align  \n",
            "  inflating: data/alignments/s1/bwat2n.align  \n",
            "  inflating: data/alignments/s1/bwat3s.align  \n",
            "  inflating: data/alignments/s1/bwat4p.align  \n",
            "  inflating: data/alignments/s1/bwat5a.align  \n",
            "  inflating: data/alignments/s1/bwba4n.align  \n",
            "  inflating: data/alignments/s1/bwba5s.align  \n",
            "  inflating: data/alignments/s1/bwba6p.align  \n",
            "  inflating: data/alignments/s1/bwba7a.align  \n",
            "  inflating: data/alignments/s1/bwbg8n.align  \n",
            "  inflating: data/alignments/s1/bwbg9s.align  \n",
            "  inflating: data/alignments/s1/bwbh1a.align  \n",
            "  inflating: data/alignments/s1/bwbhzp.align  \n",
            "  inflating: data/alignments/s1/bwbn2n.align  \n",
            "  inflating: data/alignments/s1/bwbn3s.align  \n",
            "  inflating: data/alignments/s1/bwbn4p.align  \n",
            "  inflating: data/alignments/s1/bwbn5a.align  \n",
            "  inflating: data/alignments/s1/bwbt6n.align  \n",
            "  inflating: data/alignments/s1/bwbt7s.align  \n",
            "  inflating: data/alignments/s1/bwbt8p.align  \n",
            "  inflating: data/alignments/s1/bwbt9a.align  \n",
            "  inflating: data/alignments/s1/bwig1s.align  \n",
            "  inflating: data/alignments/s1/bwig2p.align  \n",
            "  inflating: data/alignments/s1/bwig3a.align  \n",
            "  inflating: data/alignments/s1/bwigzn.align  \n",
            "  inflating: data/alignments/s1/bwim4n.align  \n",
            "  inflating: data/alignments/s1/bwim5s.align  \n",
            "  inflating: data/alignments/s1/bwim6p.align  \n",
            "  inflating: data/alignments/s1/bwim7a.align  \n",
            "  inflating: data/alignments/s1/bwis8n.align  \n",
            "  inflating: data/alignments/s1/bwis9s.align  \n",
            "  inflating: data/alignments/s1/bwit1a.align  \n",
            "  inflating: data/alignments/s1/bwitzp.align  \n",
            "  inflating: data/alignments/s1/bwwa8n.align  \n",
            "  inflating: data/alignments/s1/bwwa9s.align  \n",
            "  inflating: data/alignments/s1/bwwb1a.align  \n",
            "  inflating: data/alignments/s1/bwwbzp.align  \n",
            "  inflating: data/alignments/s1/bwwh2n.align  \n",
            "  inflating: data/alignments/s1/bwwh3s.align  \n",
            "  inflating: data/alignments/s1/bwwh4p.align  \n",
            "  inflating: data/alignments/s1/bwwh5a.align  \n",
            "  inflating: data/alignments/s1/bwwn6n.align  \n",
            "  inflating: data/alignments/s1/bwwn7s.align  \n",
            "  inflating: data/alignments/s1/bwwn8p.align  \n",
            "  inflating: data/alignments/s1/bwwn9a.align  \n",
            "  inflating: data/alignments/s1/bwwu1s.align  \n",
            "  inflating: data/alignments/s1/bwwu2p.align  \n",
            "  inflating: data/alignments/s1/bwwu3a.align  \n",
            "  inflating: data/alignments/s1/bwwuzn.align  \n",
            "  inflating: data/alignments/s1/lbad6n.align  \n",
            "  inflating: data/alignments/s1/lbad7s.align  \n",
            "  inflating: data/alignments/s1/lbad8p.align  \n",
            "  inflating: data/alignments/s1/lbad9a.align  \n",
            "  inflating: data/alignments/s1/lbak1s.align  \n",
            "  inflating: data/alignments/s1/lbak2p.align  \n",
            "  inflating: data/alignments/s1/lbak3a.align  \n",
            "  inflating: data/alignments/s1/lbakzn.align  \n",
            "  inflating: data/alignments/s1/lbaq4n.align  \n",
            "  inflating: data/alignments/s1/lbaq5s.align  \n",
            "  inflating: data/alignments/s1/lbaq6p.align  \n",
            "  inflating: data/alignments/s1/lbaq7a.align  \n",
            "  inflating: data/alignments/s1/lbax8n.align  \n",
            "  inflating: data/alignments/s1/lbax9s.align  \n",
            "  inflating: data/alignments/s1/lbay1a.align  \n",
            "  inflating: data/alignments/s1/lbayzp.align  \n",
            "  inflating: data/alignments/s1/lbbe1s.align  \n",
            "  inflating: data/alignments/s1/lbbe2p.align  \n",
            "  inflating: data/alignments/s1/lbbe3a.align  \n",
            "  inflating: data/alignments/s1/lbbezn.align  \n",
            "  inflating: data/alignments/s1/lbbk4n.align  \n",
            "  inflating: data/alignments/s1/lbbk5s.align  \n",
            "  inflating: data/alignments/s1/lbbk6p.align  \n",
            "  inflating: data/alignments/s1/lbbk7a.align  \n",
            "  inflating: data/alignments/s1/lbbq8n.align  \n",
            "  inflating: data/alignments/s1/lbbq9s.align  \n",
            "  inflating: data/alignments/s1/lbbr1a.align  \n",
            "  inflating: data/alignments/s1/lbbrzp.align  \n",
            "  inflating: data/alignments/s1/lbby2n.align  \n",
            "  inflating: data/alignments/s1/lbby3s.align  \n",
            "  inflating: data/alignments/s1/lbby4p.align  \n",
            "  inflating: data/alignments/s1/lbby5a.align  \n",
            "  inflating: data/alignments/s1/lbid2n.align  \n",
            "  inflating: data/alignments/s1/lbid3s.align  \n",
            "  inflating: data/alignments/s1/lbid4p.align  \n",
            "  inflating: data/alignments/s1/lbid5a.align  \n",
            "  inflating: data/alignments/s1/lbij6n.align  \n",
            "  inflating: data/alignments/s1/lbij7s.align  \n",
            "  inflating: data/alignments/s1/lbij8p.align  \n",
            "  inflating: data/alignments/s1/lbij9a.align  \n",
            "  inflating: data/alignments/s1/lbiq1s.align  \n",
            "  inflating: data/alignments/s1/lbiq2p.align  \n",
            "  inflating: data/alignments/s1/lbiq3a.align  \n",
            "  inflating: data/alignments/s1/lbiqzn.align  \n",
            "  inflating: data/alignments/s1/lbix4n.align  \n",
            "  inflating: data/alignments/s1/lbix5s.align  \n",
            "  inflating: data/alignments/s1/lbix6p.align  \n",
            "  inflating: data/alignments/s1/lbix7a.align  \n",
            "  inflating: data/alignments/s1/lbwe4n.align  \n",
            "  inflating: data/alignments/s1/lbwe5s.align  \n",
            "  inflating: data/alignments/s1/lbwe6p.align  \n",
            "  inflating: data/alignments/s1/lbwe7a.align  \n",
            "  inflating: data/alignments/s1/lbwk8n.align  \n",
            "  inflating: data/alignments/s1/lbwk9s.align  \n",
            "  inflating: data/alignments/s1/lbwl1a.align  \n",
            "  inflating: data/alignments/s1/lbwlzp.align  \n",
            "  inflating: data/alignments/s1/lbwr2n.align  \n",
            "  inflating: data/alignments/s1/lbwr3s.align  \n",
            "  inflating: data/alignments/s1/lbwr4p.align  \n",
            "  inflating: data/alignments/s1/lbwr5a.align  \n",
            "  inflating: data/alignments/s1/lbwy6n.align  \n",
            "  inflating: data/alignments/s1/lbwy7s.align  \n",
            "  inflating: data/alignments/s1/lbwy8p.align  \n",
            "  inflating: data/alignments/s1/lbwy9a.align  \n",
            "  inflating: data/alignments/s1/lgaf4n.align  \n",
            "  inflating: data/alignments/s1/lgaf5s.align  \n",
            "  inflating: data/alignments/s1/lgaf6p.align  \n",
            "  inflating: data/alignments/s1/lgaf7a.align  \n",
            "  inflating: data/alignments/s1/lgal8n.align  \n",
            "  inflating: data/alignments/s1/lgal9s.align  \n",
            "  inflating: data/alignments/s1/lgam1a.align  \n",
            "  inflating: data/alignments/s1/lgamzp.align  \n",
            "  inflating: data/alignments/s1/lgas2n.align  \n",
            "  inflating: data/alignments/s1/lgas3s.align  \n",
            "  inflating: data/alignments/s1/lgas4p.align  \n",
            "  inflating: data/alignments/s1/lgas5a.align  \n",
            "  inflating: data/alignments/s1/lgaz6n.align  \n",
            "  inflating: data/alignments/s1/lgaz7s.align  \n",
            "  inflating: data/alignments/s1/lgaz8p.align  \n",
            "  inflating: data/alignments/s1/lgaz9a.align  \n",
            "  inflating: data/alignments/s1/lgbf8n.align  \n",
            "  inflating: data/alignments/s1/lgbf9s.align  \n",
            "  inflating: data/alignments/s1/lgbg1a.align  \n",
            "  inflating: data/alignments/s1/lgbgzp.align  \n",
            "  inflating: data/alignments/s1/lgbm2n.align  \n",
            "  inflating: data/alignments/s1/lgbm3s.align  \n",
            "  inflating: data/alignments/s1/lgbm4p.align  \n",
            "  inflating: data/alignments/s1/lgbm5a.align  \n",
            "  inflating: data/alignments/s1/lgbs6n.align  \n",
            "  inflating: data/alignments/s1/lgbs7s.align  \n",
            "  inflating: data/alignments/s1/lgbs8p.align  \n",
            "  inflating: data/alignments/s1/lgbs9a.align  \n",
            "  inflating: data/alignments/s1/lgif1s.align  \n",
            "  inflating: data/alignments/s1/lgif2p.align  \n",
            "  inflating: data/alignments/s1/lgif3a.align  \n",
            "  inflating: data/alignments/s1/lgifzn.align  \n",
            "  inflating: data/alignments/s1/lgil4n.align  \n",
            "  inflating: data/alignments/s1/lgil5s.align  \n",
            "  inflating: data/alignments/s1/lgil6p.align  \n",
            "  inflating: data/alignments/s1/lgil7a.align  \n",
            "  inflating: data/alignments/s1/lgir8n.align  \n",
            "  inflating: data/alignments/s1/lgir9s.align  \n",
            "  inflating: data/alignments/s1/lgis1a.align  \n",
            "  inflating: data/alignments/s1/lgiszp.align  \n",
            "  inflating: data/alignments/s1/lgiz2n.align  \n",
            "  inflating: data/alignments/s1/lgiz3s.align  \n",
            "  inflating: data/alignments/s1/lgiz4p.align  \n",
            "  inflating: data/alignments/s1/lgiz5a.align  \n",
            "  inflating: data/alignments/s1/lgwa1a.align  \n",
            "  inflating: data/alignments/s1/lgwazp.align  \n",
            "  inflating: data/alignments/s1/lgwg2n.align  \n",
            "  inflating: data/alignments/s1/lgwg3s.align  \n",
            "  inflating: data/alignments/s1/lgwg4p.align  \n",
            "  inflating: data/alignments/s1/lgwg5a.align  \n",
            "  inflating: data/alignments/s1/lgwm6n.align  \n",
            "  inflating: data/alignments/s1/lgwm7s.align  \n",
            "  inflating: data/alignments/s1/lgwm8p.align  \n",
            "  inflating: data/alignments/s1/lgwm9a.align  \n",
            "  inflating: data/alignments/s1/lgwt1s.align  \n",
            "  inflating: data/alignments/s1/lgwt2p.align  \n",
            "  inflating: data/alignments/s1/lgwt3a.align  \n",
            "  inflating: data/alignments/s1/lgwtzn.align  \n",
            "  inflating: data/alignments/s1/lrae2n.align  \n",
            "  inflating: data/alignments/s1/lrae3s.align  \n",
            "  inflating: data/alignments/s1/lrae4p.align  \n",
            "  inflating: data/alignments/s1/lrae5a.align  \n",
            "  inflating: data/alignments/s1/lrak6n.align  \n",
            "  inflating: data/alignments/s1/lrak7s.align  \n",
            "  inflating: data/alignments/s1/lrak8p.align  \n",
            "  inflating: data/alignments/s1/lrak9a.align  \n",
            "  inflating: data/alignments/s1/lrar1s.align  \n",
            "  inflating: data/alignments/s1/lrar2p.align  \n",
            "  inflating: data/alignments/s1/lrar3a.align  \n",
            "  inflating: data/alignments/s1/lrarzn.align  \n",
            "  inflating: data/alignments/s1/lray4n.align  \n",
            "  inflating: data/alignments/s1/lray5s.align  \n",
            "  inflating: data/alignments/s1/lray6p.align  \n",
            "  inflating: data/alignments/s1/lray7a.align  \n",
            "  inflating: data/alignments/s1/lrbe6n.align  \n",
            "  inflating: data/alignments/s1/lrbe7s.align  \n",
            "  inflating: data/alignments/s1/lrbe8p.align  \n",
            "  inflating: data/alignments/s1/lrbe9a.align  \n",
            "  inflating: data/alignments/s1/lrbl1s.align  \n",
            "  inflating: data/alignments/s1/lrbl2p.align  \n",
            "  inflating: data/alignments/s1/lrbl3a.align  \n",
            "  inflating: data/alignments/s1/lrblzn.align  \n",
            "  inflating: data/alignments/s1/lrbr4n.align  \n",
            "  inflating: data/alignments/s1/lrbr5s.align  \n",
            "  inflating: data/alignments/s1/lrbr6p.align  \n",
            "  inflating: data/alignments/s1/lrbr7a.align  \n",
            "  inflating: data/alignments/s1/lrby8n.align  \n",
            "  inflating: data/alignments/s1/lrby9s.align  \n",
            "  inflating: data/alignments/s1/lrbz1a.align  \n",
            "  inflating: data/alignments/s1/lrbzzp.align  \n",
            "  inflating: data/alignments/s1/lrid8n.align  \n",
            "  inflating: data/alignments/s1/lrid9s.align  \n",
            "  inflating: data/alignments/s1/lrie1a.align  \n",
            "  inflating: data/alignments/s1/lriezp.align  \n",
            "  inflating: data/alignments/s1/lrik2n.align  \n",
            "  inflating: data/alignments/s1/lrik3s.align  \n",
            "  inflating: data/alignments/s1/lrik4p.align  \n",
            "  inflating: data/alignments/s1/lrik5a.align  \n",
            "  inflating: data/alignments/s1/lriq6n.align  \n",
            "  inflating: data/alignments/s1/lriq7s.align  \n",
            "  inflating: data/alignments/s1/lriq8p.align  \n",
            "  inflating: data/alignments/s1/lriq9a.align  \n",
            "  inflating: data/alignments/s1/lriy1s.align  \n",
            "  inflating: data/alignments/s1/lriy2p.align  \n",
            "  inflating: data/alignments/s1/lriy3a.align  \n",
            "  inflating: data/alignments/s1/lriyzn.align  \n",
            "  inflating: data/alignments/s1/lrwf1s.align  \n",
            "  inflating: data/alignments/s1/lrwf2p.align  \n",
            "  inflating: data/alignments/s1/lrwf3a.align  \n",
            "  inflating: data/alignments/s1/lrwfzn.align  \n",
            "  inflating: data/alignments/s1/lrwl4n.align  \n",
            "  inflating: data/alignments/s1/lrwl5s.align  \n",
            "  inflating: data/alignments/s1/lrwl6p.align  \n",
            "  inflating: data/alignments/s1/lrwl7a.align  \n",
            "  inflating: data/alignments/s1/lrwr8n.align  \n",
            "  inflating: data/alignments/s1/lrwr9s.align  \n",
            "  inflating: data/alignments/s1/lrws1a.align  \n",
            "  inflating: data/alignments/s1/lrwszp.align  \n",
            "  inflating: data/alignments/s1/lrwz2n.align  \n",
            "  inflating: data/alignments/s1/lrwz3s.align  \n",
            "  inflating: data/alignments/s1/lrwz4p.align  \n",
            "  inflating: data/alignments/s1/lrwz5a.align  \n",
            "  inflating: data/alignments/s1/lwae8n.align  \n",
            "  inflating: data/alignments/s1/lwae9s.align  \n",
            "  inflating: data/alignments/s1/lwaf1a.align  \n",
            "  inflating: data/alignments/s1/lwafzp.align  \n",
            "  inflating: data/alignments/s1/lwal2n.align  \n",
            "  inflating: data/alignments/s1/lwal3s.align  \n",
            "  inflating: data/alignments/s1/lwal4p.align  \n",
            "  inflating: data/alignments/s1/lwal5a.align  \n",
            "  inflating: data/alignments/s1/lwar6n.align  \n",
            "  inflating: data/alignments/s1/lwar7s.align  \n",
            "  inflating: data/alignments/s1/lwar8p.align  \n",
            "  inflating: data/alignments/s1/lwar9a.align  \n",
            "  inflating: data/alignments/s1/lwaz1s.align  \n",
            "  inflating: data/alignments/s1/lwaz2p.align  \n",
            "  inflating: data/alignments/s1/lwaz3a.align  \n",
            "  inflating: data/alignments/s1/lwazzn.align  \n",
            "  inflating: data/alignments/s1/lwbf2n.align  \n",
            "  inflating: data/alignments/s1/lwbf3s.align  \n",
            "  inflating: data/alignments/s1/lwbf4p.align  \n",
            "  inflating: data/alignments/s1/lwbf5a.align  \n",
            "  inflating: data/alignments/s1/lwbl6n.align  \n",
            "  inflating: data/alignments/s1/lwbl7s.align  \n",
            "  inflating: data/alignments/s1/lwbl8p.align  \n",
            "  inflating: data/alignments/s1/lwbl9a.align  \n",
            "  inflating: data/alignments/s1/lwbs1s.align  \n",
            "  inflating: data/alignments/s1/lwbs2p.align  \n",
            "  inflating: data/alignments/s1/lwbs3a.align  \n",
            "  inflating: data/alignments/s1/lwbszn.align  \n",
            "  inflating: data/alignments/s1/lwbz4n.align  \n",
            "  inflating: data/alignments/s1/lwbz5s.align  \n",
            "  inflating: data/alignments/s1/lwbz6p.align  \n",
            "  inflating: data/alignments/s1/lwbz7a.align  \n",
            "  inflating: data/alignments/s1/lwie4n.align  \n",
            "  inflating: data/alignments/s1/lwie5s.align  \n",
            "  inflating: data/alignments/s1/lwie6p.align  \n",
            "  inflating: data/alignments/s1/lwie7a.align  \n",
            "  inflating: data/alignments/s1/lwik8n.align  \n",
            "  inflating: data/alignments/s1/lwik9s.align  \n",
            "  inflating: data/alignments/s1/lwil1a.align  \n",
            "  inflating: data/alignments/s1/lwilzp.align  \n",
            "  inflating: data/alignments/s1/lwir2n.align  \n",
            "  inflating: data/alignments/s1/lwir3s.align  \n",
            "  inflating: data/alignments/s1/lwir4p.align  \n",
            "  inflating: data/alignments/s1/lwir5a.align  \n",
            "  inflating: data/alignments/s1/lwiy6n.align  \n",
            "  inflating: data/alignments/s1/lwiy7s.align  \n",
            "  inflating: data/alignments/s1/lwiy8p.align  \n",
            "  inflating: data/alignments/s1/lwiy9a.align  \n",
            "  inflating: data/alignments/s1/lwwf6n.align  \n",
            "  inflating: data/alignments/s1/lwwf7s.align  \n",
            "  inflating: data/alignments/s1/lwwf8p.align  \n",
            "  inflating: data/alignments/s1/lwwf9a.align  \n",
            "  inflating: data/alignments/s1/lwwm1s.align  \n",
            "  inflating: data/alignments/s1/lwwm2p.align  \n",
            "  inflating: data/alignments/s1/lwwm3a.align  \n",
            "  inflating: data/alignments/s1/lwwmzn.align  \n",
            "  inflating: data/alignments/s1/lwws4n.align  \n",
            "  inflating: data/alignments/s1/lwws5s.align  \n",
            "  inflating: data/alignments/s1/lwws6p.align  \n",
            "  inflating: data/alignments/s1/lwws7a.align  \n",
            "  inflating: data/alignments/s1/lwwz8n.align  \n",
            "  inflating: data/alignments/s1/lwwz9s.align  \n",
            "  inflating: data/alignments/s1/pbac1s.align  \n",
            "  inflating: data/alignments/s1/pbac2p.align  \n",
            "  inflating: data/alignments/s1/pbac3a.align  \n",
            "  inflating: data/alignments/s1/pbaczn.align  \n",
            "  inflating: data/alignments/s1/pbai4n.align  \n",
            "  inflating: data/alignments/s1/pbai5s.align  \n",
            "  inflating: data/alignments/s1/pbai6p.align  \n",
            "  inflating: data/alignments/s1/pbai7a.align  \n",
            "  inflating: data/alignments/s1/pbao8n.align  \n",
            "  inflating: data/alignments/s1/pbao9s.align  \n",
            "  inflating: data/alignments/s1/pbap1a.align  \n",
            "  inflating: data/alignments/s1/pbapzp.align  \n",
            "  inflating: data/alignments/s1/pbav2n.align  \n",
            "  inflating: data/alignments/s1/pbav3s.align  \n",
            "  inflating: data/alignments/s1/pbav4p.align  \n",
            "  inflating: data/alignments/s1/pbav5a.align  \n",
            "  inflating: data/alignments/s1/pbbc4n.align  \n",
            "  inflating: data/alignments/s1/pbbc5s.align  \n",
            "  inflating: data/alignments/s1/pbbc6p.align  \n",
            "  inflating: data/alignments/s1/pbbc7a.align  \n",
            "  inflating: data/alignments/s1/pbbi8n.align  \n",
            "  inflating: data/alignments/s1/pbbi9s.align  \n",
            "  inflating: data/alignments/s1/pbbj1a.align  \n",
            "  inflating: data/alignments/s1/pbbjzp.align  \n",
            "  inflating: data/alignments/s1/pbbp2n.align  \n",
            "  inflating: data/alignments/s1/pbbp3s.align  \n",
            "  inflating: data/alignments/s1/pbbp4p.align  \n",
            "  inflating: data/alignments/s1/pbbp5a.align  \n",
            "  inflating: data/alignments/s1/pbbv6n.align  \n",
            "  inflating: data/alignments/s1/pbbv7s.align  \n",
            "  inflating: data/alignments/s1/pbbv8p.align  \n",
            "  inflating: data/alignments/s1/pbbv9a.align  \n",
            "  inflating: data/alignments/s1/pbib6n.align  \n",
            "  inflating: data/alignments/s1/pbib7s.align  \n",
            "  inflating: data/alignments/s1/pbib8p.align  \n",
            "  inflating: data/alignments/s1/pbib9a.align  \n",
            "  inflating: data/alignments/s1/pbii1s.align  \n",
            "  inflating: data/alignments/s1/pbii2p.align  \n",
            "  inflating: data/alignments/s1/pbii3a.align  \n",
            "  inflating: data/alignments/s1/pbiizn.align  \n",
            "  inflating: data/alignments/s1/pbio4n.align  \n",
            "  inflating: data/alignments/s1/pbio5s.align  \n",
            "  inflating: data/alignments/s1/pbio6p.align  \n",
            "  inflating: data/alignments/s1/pbio7a.align  \n",
            "  inflating: data/alignments/s1/pbiu8n.align  \n",
            "  inflating: data/alignments/s1/pbiu9s.align  \n",
            "  inflating: data/alignments/s1/pbiv1a.align  \n",
            "  inflating: data/alignments/s1/pbivzp.align  \n",
            "  inflating: data/alignments/s1/pbwc8n.align  \n",
            "  inflating: data/alignments/s1/pbwc9s.align  \n",
            "  inflating: data/alignments/s1/pbwd1a.align  \n",
            "  inflating: data/alignments/s1/pbwdzp.align  \n",
            "  inflating: data/alignments/s1/pbwj2n.align  \n",
            "  inflating: data/alignments/s1/pbwj3s.align  \n",
            "  inflating: data/alignments/s1/pbwj4p.align  \n",
            "  inflating: data/alignments/s1/pbwj5a.align  \n",
            "  inflating: data/alignments/s1/pbwp6n.align  \n",
            "  inflating: data/alignments/s1/pbwp7s.align  \n",
            "  inflating: data/alignments/s1/pbwp8p.align  \n",
            "  inflating: data/alignments/s1/pbwp9a.align  \n",
            "  inflating: data/alignments/s1/pbwx1s.align  \n",
            "  inflating: data/alignments/s1/pbwx2p.align  \n",
            "  inflating: data/alignments/s1/pbwx3a.align  \n",
            "  inflating: data/alignments/s1/pbwxzn.align  \n",
            "  inflating: data/alignments/s1/pgad8n.align  \n",
            "  inflating: data/alignments/s1/pgad9s.align  \n",
            "  inflating: data/alignments/s1/pgae1a.align  \n",
            "  inflating: data/alignments/s1/pgaezp.align  \n",
            "  inflating: data/alignments/s1/pgak2n.align  \n",
            "  inflating: data/alignments/s1/pgak3s.align  \n",
            "  inflating: data/alignments/s1/pgak4p.align  \n",
            "  inflating: data/alignments/s1/pgak5a.align  \n",
            "  inflating: data/alignments/s1/pgaq6n.align  \n",
            "  inflating: data/alignments/s1/pgaq7s.align  \n",
            "  inflating: data/alignments/s1/pgaq8p.align  \n",
            "  inflating: data/alignments/s1/pgaq9a.align  \n",
            "  inflating: data/alignments/s1/pgay1s.align  \n",
            "  inflating: data/alignments/s1/pgay2p.align  \n",
            "  inflating: data/alignments/s1/pgay3a.align  \n",
            "  inflating: data/alignments/s1/pgayzn.align  \n",
            "  inflating: data/alignments/s1/pgbe2n.align  \n",
            "  inflating: data/alignments/s1/pgbe3s.align  \n",
            "  inflating: data/alignments/s1/pgbe4p.align  \n",
            "  inflating: data/alignments/s1/pgbe5a.align  \n",
            "  inflating: data/alignments/s1/pgbk6n.align  \n",
            "  inflating: data/alignments/s1/pgbk7s.align  \n",
            "  inflating: data/alignments/s1/pgbk8p.align  \n",
            "  inflating: data/alignments/s1/pgbk9a.align  \n",
            "  inflating: data/alignments/s1/pgbr1s.align  \n",
            "  inflating: data/alignments/s1/pgbr2p.align  \n",
            "  inflating: data/alignments/s1/pgbr3a.align  \n",
            "  inflating: data/alignments/s1/pgbrzn.align  \n",
            "  inflating: data/alignments/s1/pgby4n.align  \n",
            "  inflating: data/alignments/s1/pgby5s.align  \n",
            "  inflating: data/alignments/s1/pgby6p.align  \n",
            "  inflating: data/alignments/s1/pgby7a.align  \n",
            "  inflating: data/alignments/s1/pgid4n.align  \n",
            "  inflating: data/alignments/s1/pgid5s.align  \n",
            "  inflating: data/alignments/s1/pgid6p.align  \n",
            "  inflating: data/alignments/s1/pgid7a.align  \n",
            "  inflating: data/alignments/s1/pgij8n.align  \n",
            "  inflating: data/alignments/s1/pgij9s.align  \n",
            "  inflating: data/alignments/s1/pgik1a.align  \n",
            "  inflating: data/alignments/s1/pgikzp.align  \n",
            "  inflating: data/alignments/s1/pgiq2n.align  \n",
            "  inflating: data/alignments/s1/pgiq3s.align  \n",
            "  inflating: data/alignments/s1/pgiq4p.align  \n",
            "  inflating: data/alignments/s1/pgiq5a.align  \n",
            "  inflating: data/alignments/s1/pgix6n.align  \n",
            "  inflating: data/alignments/s1/pgix7s.align  \n",
            "  inflating: data/alignments/s1/pgix8p.align  \n",
            "  inflating: data/alignments/s1/pgix9a.align  \n",
            "  inflating: data/alignments/s1/pgwe6n.align  \n",
            "  inflating: data/alignments/s1/pgwe7s.align  \n",
            "  inflating: data/alignments/s1/pgwe8p.align  \n",
            "  inflating: data/alignments/s1/pgwe9a.align  \n",
            "  inflating: data/alignments/s1/pgwl1s.align  \n",
            "  inflating: data/alignments/s1/pgwl2p.align  \n",
            "  inflating: data/alignments/s1/pgwl3a.align  \n",
            "  inflating: data/alignments/s1/pgwlzn.align  \n",
            "  inflating: data/alignments/s1/pgwr4n.align  \n",
            "  inflating: data/alignments/s1/pgwr5s.align  \n",
            "  inflating: data/alignments/s1/pgwr6p.align  \n",
            "  inflating: data/alignments/s1/pgwr7a.align  \n",
            "  inflating: data/alignments/s1/pgwy8n.align  \n",
            "  inflating: data/alignments/s1/pgwy9s.align  \n",
            "  inflating: data/alignments/s1/pgwz1a.align  \n",
            "  inflating: data/alignments/s1/pgwzzp.align  \n",
            "  inflating: data/alignments/s1/prac6n.align  \n",
            "  inflating: data/alignments/s1/prac7s.align  \n",
            "  inflating: data/alignments/s1/prac8p.align  \n",
            "  inflating: data/alignments/s1/prac9a.align  \n",
            "  inflating: data/alignments/s1/praj1s.align  \n",
            "  inflating: data/alignments/s1/praj2p.align  \n",
            "  inflating: data/alignments/s1/praj3a.align  \n",
            "  inflating: data/alignments/s1/prajzn.align  \n",
            "  inflating: data/alignments/s1/prap4n.align  \n",
            "  inflating: data/alignments/s1/prap5s.align  \n",
            "  inflating: data/alignments/s1/prap6p.align  \n",
            "  inflating: data/alignments/s1/prap7a.align  \n",
            "  inflating: data/alignments/s1/prav8n.align  \n",
            "  inflating: data/alignments/s1/prav9s.align  \n",
            "  inflating: data/alignments/s1/prax1a.align  \n",
            "  inflating: data/alignments/s1/praxzp.align  \n",
            "  inflating: data/alignments/s1/prbd1s.align  \n",
            "  inflating: data/alignments/s1/prbd2p.align  \n",
            "  inflating: data/alignments/s1/prbd3a.align  \n",
            "  inflating: data/alignments/s1/prbdzn.align  \n",
            "  inflating: data/alignments/s1/prbj4n.align  \n",
            "  inflating: data/alignments/s1/prbj5s.align  \n",
            "  inflating: data/alignments/s1/prbj6p.align  \n",
            "  inflating: data/alignments/s1/prbj7a.align  \n",
            "  inflating: data/alignments/s1/prbp8n.align  \n",
            "  inflating: data/alignments/s1/prbp9s.align  \n",
            "  inflating: data/alignments/s1/prbq1a.align  \n",
            "  inflating: data/alignments/s1/prbqzp.align  \n",
            "  inflating: data/alignments/s1/prbx2n.align  \n",
            "  inflating: data/alignments/s1/prbx3s.align  \n",
            "  inflating: data/alignments/s1/prbx4p.align  \n",
            "  inflating: data/alignments/s1/prbx5a.align  \n",
            "  inflating: data/alignments/s1/pric2n.align  \n",
            "  inflating: data/alignments/s1/pric3s.align  \n",
            "  inflating: data/alignments/s1/pric4p.align  \n",
            "  inflating: data/alignments/s1/pric5a.align  \n",
            "  inflating: data/alignments/s1/prii6n.align  \n",
            "  inflating: data/alignments/s1/prii7s.align  \n",
            "  inflating: data/alignments/s1/prii8p.align  \n",
            "  inflating: data/alignments/s1/prii9a.align  \n",
            "  inflating: data/alignments/s1/prip1s.align  \n",
            "  inflating: data/alignments/s1/prip2p.align  \n",
            "  inflating: data/alignments/s1/prip3a.align  \n",
            "  inflating: data/alignments/s1/pripzn.align  \n",
            "  inflating: data/alignments/s1/priv4n.align  \n",
            "  inflating: data/alignments/s1/priv5s.align  \n",
            "  inflating: data/alignments/s1/priv6p.align  \n",
            "  inflating: data/alignments/s1/priv7a.align  \n",
            "  inflating: data/alignments/s1/prwd4n.align  \n",
            "  inflating: data/alignments/s1/prwd5s.align  \n",
            "  inflating: data/alignments/s1/prwd6p.align  \n",
            "  inflating: data/alignments/s1/prwd7a.align  \n",
            "  inflating: data/alignments/s1/prwj8n.align  \n",
            "  inflating: data/alignments/s1/prwj9s.align  \n",
            "  inflating: data/alignments/s1/prwk1a.align  \n",
            "  inflating: data/alignments/s1/prwkzp.align  \n",
            "  inflating: data/alignments/s1/prwq2n.align  \n",
            "  inflating: data/alignments/s1/prwq3s.align  \n",
            "  inflating: data/alignments/s1/prwq4p.align  \n",
            "  inflating: data/alignments/s1/prwq5a.align  \n",
            "  inflating: data/alignments/s1/prwx6n.align  \n",
            "  inflating: data/alignments/s1/prwx7s.align  \n",
            "  inflating: data/alignments/s1/prwx8p.align  \n",
            "  inflating: data/alignments/s1/prwx9a.align  \n",
            "  inflating: data/alignments/s1/pwad2n.align  \n",
            "  inflating: data/alignments/s1/pwad3s.align  \n",
            "  inflating: data/alignments/s1/pwad4p.align  \n",
            "  inflating: data/alignments/s1/pwad5a.align  \n",
            "  inflating: data/alignments/s1/pwaj6n.align  \n",
            "  inflating: data/alignments/s1/pwaj7s.align  \n",
            "  inflating: data/alignments/s1/pwaj8p.align  \n",
            "  inflating: data/alignments/s1/pwaj9a.align  \n",
            "  inflating: data/alignments/s1/pwaq1s.align  \n",
            "  inflating: data/alignments/s1/pwaq2p.align  \n",
            "  inflating: data/alignments/s1/pwaq3a.align  \n",
            "  inflating: data/alignments/s1/pwaqzn.align  \n",
            "  inflating: data/alignments/s1/pwax4n.align  \n",
            "  inflating: data/alignments/s1/pwax5s.align  \n",
            "  inflating: data/alignments/s1/pwax6p.align  \n",
            "  inflating: data/alignments/s1/pwax7a.align  \n",
            "  inflating: data/alignments/s1/pwbd6n.align  \n",
            "  inflating: data/alignments/s1/pwbd7s.align  \n",
            "  inflating: data/alignments/s1/pwbd8p.align  \n",
            "  inflating: data/alignments/s1/pwbd9a.align  \n",
            "  inflating: data/alignments/s1/pwbk1s.align  \n",
            "  inflating: data/alignments/s1/pwbk2p.align  \n",
            "  inflating: data/alignments/s1/pwbk3a.align  \n",
            "  inflating: data/alignments/s1/pwbkzn.align  \n",
            "  inflating: data/alignments/s1/pwbq4n.align  \n",
            "  inflating: data/alignments/s1/pwbq5s.align  \n",
            "  inflating: data/alignments/s1/pwbq6p.align  \n",
            "  inflating: data/alignments/s1/pwbq7a.align  \n",
            "  inflating: data/alignments/s1/pwbx8n.align  \n",
            "  inflating: data/alignments/s1/pwbx9s.align  \n",
            "  inflating: data/alignments/s1/pwby1a.align  \n",
            "  inflating: data/alignments/s1/pwbyzp.align  \n",
            "  inflating: data/alignments/s1/pwic8n.align  \n",
            "  inflating: data/alignments/s1/pwic9s.align  \n",
            "  inflating: data/alignments/s1/pwid1a.align  \n",
            "  inflating: data/alignments/s1/pwidzp.align  \n",
            "  inflating: data/alignments/s1/pwij2n.align  \n",
            "  inflating: data/alignments/s1/pwij3s.align  \n",
            "  inflating: data/alignments/s1/pwij4p.align  \n",
            "  inflating: data/alignments/s1/pwij5a.align  \n",
            "  inflating: data/alignments/s1/pwip6n.align  \n",
            "  inflating: data/alignments/s1/pwip7s.align  \n",
            "  inflating: data/alignments/s1/pwip8p.align  \n",
            "  inflating: data/alignments/s1/pwip9a.align  \n",
            "  inflating: data/alignments/s1/pwix1s.align  \n",
            "  inflating: data/alignments/s1/pwix2p.align  \n",
            "  inflating: data/alignments/s1/pwix3a.align  \n",
            "  inflating: data/alignments/s1/pwixzn.align  \n",
            "  inflating: data/alignments/s1/pwwe1s.align  \n",
            "  inflating: data/alignments/s1/pwwe2p.align  \n",
            "  inflating: data/alignments/s1/pwwe3a.align  \n",
            "  inflating: data/alignments/s1/pwwezn.align  \n",
            "  inflating: data/alignments/s1/pwwk4n.align  \n",
            "  inflating: data/alignments/s1/pwwk5s.align  \n",
            "  inflating: data/alignments/s1/pwwk6p.align  \n",
            "  inflating: data/alignments/s1/pwwk7a.align  \n",
            "  inflating: data/alignments/s1/pwwq8n.align  \n",
            "  inflating: data/alignments/s1/pwwq9s.align  \n",
            "  inflating: data/alignments/s1/pwwr1a.align  \n",
            "  inflating: data/alignments/s1/pwwrzp.align  \n",
            "  inflating: data/alignments/s1/pwwy2n.align  \n",
            "  inflating: data/alignments/s1/pwwy3s.align  \n",
            "  inflating: data/alignments/s1/pwwy4p.align  \n",
            "  inflating: data/alignments/s1/pwwy5a.align  \n",
            "  inflating: data/alignments/s1/sbaa4n.align  \n",
            "  inflating: data/alignments/s1/sbaa5s.align  \n",
            "  inflating: data/alignments/s1/sbaa6p.align  \n",
            "  inflating: data/alignments/s1/sbaa7a.align  \n",
            "  inflating: data/alignments/s1/sbag8n.align  \n",
            "  inflating: data/alignments/s1/sbag9s.align  \n",
            "  inflating: data/alignments/s1/sbah1a.align  \n",
            "  inflating: data/alignments/s1/sbahzp.align  \n",
            "  inflating: data/alignments/s1/sban2n.align  \n",
            "  inflating: data/alignments/s1/sban3s.align  \n",
            "  inflating: data/alignments/s1/sban4p.align  \n",
            "  inflating: data/alignments/s1/sban5a.align  \n",
            "  inflating: data/alignments/s1/sbat6n.align  \n",
            "  inflating: data/alignments/s1/sbat7s.align  \n",
            "  inflating: data/alignments/s1/sbat8p.align  \n",
            "  inflating: data/alignments/s1/sbat9a.align  \n",
            "  inflating: data/alignments/s1/sbba8n.align  \n",
            "  inflating: data/alignments/s1/sbba9s.align  \n",
            "  inflating: data/alignments/s1/sbbb1a.align  \n",
            "  inflating: data/alignments/s1/sbbbzp.align  \n",
            "  inflating: data/alignments/s1/sbbh2n.align  \n",
            "  inflating: data/alignments/s1/sbbh3s.align  \n",
            "  inflating: data/alignments/s1/sbbh4p.align  \n",
            "  inflating: data/alignments/s1/sbbh5a.align  \n",
            "  inflating: data/alignments/s1/sbbn6n.align  \n",
            "  inflating: data/alignments/s1/sbbn7s.align  \n",
            "  inflating: data/alignments/s1/sbbn8p.align  \n",
            "  inflating: data/alignments/s1/sbbn9a.align  \n",
            "  inflating: data/alignments/s1/sbbu1s.align  \n",
            "  inflating: data/alignments/s1/sbbu2p.align  \n",
            "  inflating: data/alignments/s1/sbbu3a.align  \n",
            "  inflating: data/alignments/s1/sbbuzn.align  \n",
            "  inflating: data/alignments/s1/sbia1s.align  \n",
            "  inflating: data/alignments/s1/sbia2p.align  \n",
            "  inflating: data/alignments/s1/sbia3a.align  \n",
            "  inflating: data/alignments/s1/sbiazn.align  \n",
            "  inflating: data/alignments/s1/sbig4n.align  \n",
            "  inflating: data/alignments/s1/sbig5s.align  \n",
            "  inflating: data/alignments/s1/sbig6p.align  \n",
            "  inflating: data/alignments/s1/sbig7a.align  \n",
            "  inflating: data/alignments/s1/sbim8n.align  \n",
            "  inflating: data/alignments/s1/sbim9s.align  \n",
            "  inflating: data/alignments/s1/sbin1a.align  \n",
            "  inflating: data/alignments/s1/sbinzp.align  \n",
            "  inflating: data/alignments/s1/sbit2n.align  \n",
            "  inflating: data/alignments/s1/sbit3s.align  \n",
            "  inflating: data/alignments/s1/sbit4p.align  \n",
            "  inflating: data/alignments/s1/sbit5a.align  \n",
            "  inflating: data/alignments/s1/sbwb2n.align  \n",
            "  inflating: data/alignments/s1/sbwb3s.align  \n",
            "  inflating: data/alignments/s1/sbwb4p.align  \n",
            "  inflating: data/alignments/s1/sbwb5a.align  \n",
            "  inflating: data/alignments/s1/sbwh6n.align  \n",
            "  inflating: data/alignments/s1/sbwh7s.align  \n",
            "  inflating: data/alignments/s1/sbwh8p.align  \n",
            "  inflating: data/alignments/s1/sbwh9a.align  \n",
            "  inflating: data/alignments/s1/sbwo1s.align  \n",
            "  inflating: data/alignments/s1/sbwo2p.align  \n",
            "  inflating: data/alignments/s1/sbwo3a.align  \n",
            "  inflating: data/alignments/s1/sbwozn.align  \n",
            "  inflating: data/alignments/s1/sbwu4n.align  \n",
            "  inflating: data/alignments/s1/sbwu5s.align  \n",
            "  inflating: data/alignments/s1/sbwu6p.align  \n",
            "  inflating: data/alignments/s1/sbwu7a.align  \n",
            "  inflating: data/alignments/s1/sgac2n.align  \n",
            "  inflating: data/alignments/s1/sgac3s.align  \n",
            "  inflating: data/alignments/s1/sgac4p.align  \n",
            "  inflating: data/alignments/s1/sgac5a.align  \n",
            "  inflating: data/alignments/s1/sgai6n.align  \n",
            "  inflating: data/alignments/s1/sgai7s.align  \n",
            "  inflating: data/alignments/s1/sgai8p.align  \n",
            "  inflating: data/alignments/s1/sgai9a.align  \n",
            "  inflating: data/alignments/s1/sgap1s.align  \n",
            "  inflating: data/alignments/s1/sgap2p.align  \n",
            "  inflating: data/alignments/s1/sgap3a.align  \n",
            "  inflating: data/alignments/s1/sgapzn.align  \n",
            "  inflating: data/alignments/s1/sgav4n.align  \n",
            "  inflating: data/alignments/s1/sgav5s.align  \n",
            "  inflating: data/alignments/s1/sgav6p.align  \n",
            "  inflating: data/alignments/s1/sgav7a.align  \n",
            "  inflating: data/alignments/s1/sgbc6n.align  \n",
            "  inflating: data/alignments/s1/sgbc7s.align  \n",
            "  inflating: data/alignments/s1/sgbc8p.align  \n",
            "  inflating: data/alignments/s1/sgbc9a.align  \n",
            "  inflating: data/alignments/s1/sgbj1s.align  \n",
            "  inflating: data/alignments/s1/sgbj2p.align  \n",
            "  inflating: data/alignments/s1/sgbj3a.align  \n",
            "  inflating: data/alignments/s1/sgbjzn.align  \n",
            "  inflating: data/alignments/s1/sgbp4n.align  \n",
            "  inflating: data/alignments/s1/sgbp5s.align  \n",
            "  inflating: data/alignments/s1/sgbp6p.align  \n",
            "  inflating: data/alignments/s1/sgbp7a.align  \n",
            "  inflating: data/alignments/s1/sgbv8n.align  \n",
            "  inflating: data/alignments/s1/sgbv9s.align  \n",
            "  inflating: data/alignments/s1/sgbx1a.align  \n",
            "  inflating: data/alignments/s1/sgbxzp.align  \n",
            "  inflating: data/alignments/s1/sgib8n.align  \n",
            "  inflating: data/alignments/s1/sgib9s.align  \n",
            "  inflating: data/alignments/s1/sgic1a.align  \n",
            "  inflating: data/alignments/s1/sgiczp.align  \n",
            "  inflating: data/alignments/s1/sgii2n.align  \n",
            "  inflating: data/alignments/s1/sgii3s.align  \n",
            "  inflating: data/alignments/s1/sgii4p.align  \n",
            "  inflating: data/alignments/s1/sgii5a.align  \n",
            "  inflating: data/alignments/s1/sgio6n.align  \n",
            "  inflating: data/alignments/s1/sgio7s.align  \n",
            "  inflating: data/alignments/s1/sgio8p.align  \n",
            "  inflating: data/alignments/s1/sgio9a.align  \n",
            "  inflating: data/alignments/s1/sgiv1s.align  \n",
            "  inflating: data/alignments/s1/sgiv2p.align  \n",
            "  inflating: data/alignments/s1/sgiv3a.align  \n",
            "  inflating: data/alignments/s1/sgivzn.align  \n",
            "  inflating: data/alignments/s1/sgwd1s.align  \n",
            "  inflating: data/alignments/s1/sgwd2p.align  \n",
            "  inflating: data/alignments/s1/sgwd3a.align  \n",
            "  inflating: data/alignments/s1/sgwdzn.align  \n",
            "  inflating: data/alignments/s1/sgwj4n.align  \n",
            "  inflating: data/alignments/s1/sgwj5s.align  \n",
            "  inflating: data/alignments/s1/sgwj6p.align  \n",
            "  inflating: data/alignments/s1/sgwj7a.align  \n",
            "  inflating: data/alignments/s1/sgwp8n.align  \n",
            "  inflating: data/alignments/s1/sgwp9s.align  \n",
            "  inflating: data/alignments/s1/sgwq1a.align  \n",
            "  inflating: data/alignments/s1/sgwqzp.align  \n",
            "  inflating: data/alignments/s1/sgwx2n.align  \n",
            "  inflating: data/alignments/s1/sgwx3s.align  \n",
            "  inflating: data/alignments/s1/sgwx4p.align  \n",
            "  inflating: data/alignments/s1/sgwx5a.align  \n",
            "  inflating: data/alignments/s1/srab1s.align  \n",
            "  inflating: data/alignments/s1/srab2p.align  \n",
            "  inflating: data/alignments/s1/srab3a.align  \n",
            "  inflating: data/alignments/s1/srabzn.align  \n",
            "  inflating: data/alignments/s1/srah4n.align  \n",
            "  inflating: data/alignments/s1/srah5s.align  \n",
            "  inflating: data/alignments/s1/srah6p.align  \n",
            "  inflating: data/alignments/s1/srah7a.align  \n",
            "  inflating: data/alignments/s1/sran8n.align  \n",
            "  inflating: data/alignments/s1/sran9s.align  \n",
            "  inflating: data/alignments/s1/srao1a.align  \n",
            "  inflating: data/alignments/s1/sraozp.align  \n",
            "  inflating: data/alignments/s1/srau2n.align  \n",
            "  inflating: data/alignments/s1/srau3s.align  \n",
            "  inflating: data/alignments/s1/srau4p.align  \n",
            "  inflating: data/alignments/s1/srau5a.align  \n",
            "  inflating: data/alignments/s1/srbb4n.align  \n",
            "  inflating: data/alignments/s1/srbb5s.align  \n",
            "  inflating: data/alignments/s1/srbb6p.align  \n",
            "  inflating: data/alignments/s1/srbb7a.align  \n",
            "  inflating: data/alignments/s1/srbh8n.align  \n",
            "  inflating: data/alignments/s1/srbh9s.align  \n",
            "  inflating: data/alignments/s1/srbi1a.align  \n",
            "  inflating: data/alignments/s1/srbizp.align  \n",
            "  inflating: data/alignments/s1/srbo2n.align  \n",
            "  inflating: data/alignments/s1/srbo3s.align  \n",
            "  inflating: data/alignments/s1/srbo4p.align  \n",
            "  inflating: data/alignments/s1/srbo5a.align  \n",
            "  inflating: data/alignments/s1/srbu6n.align  \n",
            "  inflating: data/alignments/s1/srbu7s.align  \n",
            "  inflating: data/alignments/s1/srbu8p.align  \n",
            "  inflating: data/alignments/s1/srbu9a.align  \n",
            "  inflating: data/alignments/s1/sria6n.align  \n",
            "  inflating: data/alignments/s1/sria7s.align  \n",
            "  inflating: data/alignments/s1/sria8p.align  \n",
            "  inflating: data/alignments/s1/sria9a.align  \n",
            "  inflating: data/alignments/s1/srih1s.align  \n",
            "  inflating: data/alignments/s1/srih2p.align  \n",
            "  inflating: data/alignments/s1/srih3a.align  \n",
            "  inflating: data/alignments/s1/srihzn.align  \n",
            "  inflating: data/alignments/s1/srin4n.align  \n",
            "  inflating: data/alignments/s1/srin5s.align  \n",
            "  inflating: data/alignments/s1/srin6p.align  \n",
            "  inflating: data/alignments/s1/srin7a.align  \n",
            "  inflating: data/alignments/s1/srit8n.align  \n",
            "  inflating: data/alignments/s1/srit9s.align  \n",
            "  inflating: data/alignments/s1/sriu1a.align  \n",
            "  inflating: data/alignments/s1/sriuzp.align  \n",
            "  inflating: data/alignments/s1/srwb8n.align  \n",
            "  inflating: data/alignments/s1/srwb9s.align  \n",
            "  inflating: data/alignments/s1/srwc1a.align  \n",
            "  inflating: data/alignments/s1/srwczp.align  \n",
            "  inflating: data/alignments/s1/srwi2n.align  \n",
            "  inflating: data/alignments/s1/srwi3s.align  \n",
            "  inflating: data/alignments/s1/srwi4p.align  \n",
            "  inflating: data/alignments/s1/srwi5a.align  \n",
            "  inflating: data/alignments/s1/srwo6n.align  \n",
            "  inflating: data/alignments/s1/srwo7s.align  \n",
            "  inflating: data/alignments/s1/srwo8p.align  \n",
            "  inflating: data/alignments/s1/srwo9a.align  \n",
            "  inflating: data/alignments/s1/srwv1s.align  \n",
            "  inflating: data/alignments/s1/srwv2p.align  \n",
            "  inflating: data/alignments/s1/srwv3a.align  \n",
            "  inflating: data/alignments/s1/srwvzn.align  \n",
            "  inflating: data/alignments/s1/swab6n.align  \n",
            "  inflating: data/alignments/s1/swab7s.align  \n",
            "  inflating: data/alignments/s1/swab8p.align  \n",
            "  inflating: data/alignments/s1/swab9a.align  \n",
            "  inflating: data/alignments/s1/swai1s.align  \n",
            "  inflating: data/alignments/s1/swai2p.align  \n",
            "  inflating: data/alignments/s1/swai3a.align  \n",
            "  inflating: data/alignments/s1/swaizn.align  \n",
            "  inflating: data/alignments/s1/swao4n.align  \n",
            "  inflating: data/alignments/s1/swao5s.align  \n",
            "  inflating: data/alignments/s1/swao6p.align  \n",
            "  inflating: data/alignments/s1/swao7a.align  \n",
            "  inflating: data/alignments/s1/swau8n.align  \n",
            "  inflating: data/alignments/s1/swau9s.align  \n",
            "  inflating: data/alignments/s1/swav1a.align  \n",
            "  inflating: data/alignments/s1/swavzp.align  \n",
            "  inflating: data/alignments/s1/swbc1s.align  \n",
            "  inflating: data/alignments/s1/swbc2p.align  \n",
            "  inflating: data/alignments/s1/swbc3a.align  \n",
            "  inflating: data/alignments/s1/swbczn.align  \n",
            "  inflating: data/alignments/s1/swbi4n.align  \n",
            "  inflating: data/alignments/s1/swbi5s.align  \n",
            "  inflating: data/alignments/s1/swbi6p.align  \n",
            "  inflating: data/alignments/s1/swbi7a.align  \n",
            "  inflating: data/alignments/s1/swbo8n.align  \n",
            "  inflating: data/alignments/s1/swbo9s.align  \n",
            "  inflating: data/alignments/s1/swbp1a.align  \n",
            "  inflating: data/alignments/s1/swbpzp.align  \n",
            "  inflating: data/alignments/s1/swbv2n.align  \n",
            "  inflating: data/alignments/s1/swbv3s.align  \n",
            "  inflating: data/alignments/s1/swbv4p.align  \n",
            "  inflating: data/alignments/s1/swbv5a.align  \n",
            "  inflating: data/alignments/s1/swib2n.align  \n",
            "  inflating: data/alignments/s1/swib3s.align  \n",
            "  inflating: data/alignments/s1/swib4p.align  \n",
            "  inflating: data/alignments/s1/swib5a.align  \n",
            "  inflating: data/alignments/s1/swih6n.align  \n",
            "  inflating: data/alignments/s1/swih7s.align  \n",
            "  inflating: data/alignments/s1/swih8p.align  \n",
            "  inflating: data/alignments/s1/swih9a.align  \n",
            "  inflating: data/alignments/s1/swio1s.align  \n",
            "  inflating: data/alignments/s1/swio2p.align  \n",
            "  inflating: data/alignments/s1/swio3a.align  \n",
            "  inflating: data/alignments/s1/swiozn.align  \n",
            "  inflating: data/alignments/s1/swiu4n.align  \n",
            "  inflating: data/alignments/s1/swiu5s.align  \n",
            "  inflating: data/alignments/s1/swiu6p.align  \n",
            "  inflating: data/alignments/s1/swiu7a.align  \n",
            "  inflating: data/alignments/s1/swwc4n.align  \n",
            "  inflating: data/alignments/s1/swwc5s.align  \n",
            "  inflating: data/alignments/s1/swwc6p.align  \n",
            "  inflating: data/alignments/s1/swwc7a.align  \n",
            "  inflating: data/alignments/s1/swwi8n.align  \n",
            "  inflating: data/alignments/s1/swwi9s.align  \n",
            "  inflating: data/alignments/s1/swwj1a.align  \n",
            "  inflating: data/alignments/s1/swwjzp.align  \n",
            "  inflating: data/alignments/s1/swwp2n.align  \n",
            "  inflating: data/alignments/s1/swwp3s.align  \n",
            "  inflating: data/alignments/s1/swwp4p.align  \n",
            "  inflating: data/alignments/s1/swwp5a.align  \n",
            "  inflating: data/alignments/s1/swwv6n.align  \n",
            "  inflating: data/alignments/s1/swwv7s.align  \n",
            "  inflating: data/alignments/s1/swwv8p.align  \n",
            "  inflating: data/alignments/s1/swwv9a.align  \n",
            "   creating: data/s1/\n",
            "  inflating: data/s1/bbaf2n.mpg      \n",
            "  inflating: data/s1/bbaf3s.mpg      \n",
            "  inflating: data/s1/bbaf4p.mpg      \n",
            "  inflating: data/s1/bbaf5a.mpg      \n",
            "  inflating: data/s1/bbal6n.mpg      \n",
            "  inflating: data/s1/bbal7s.mpg      \n",
            "  inflating: data/s1/bbal8p.mpg      \n",
            "  inflating: data/s1/bbal9a.mpg      \n",
            "  inflating: data/s1/bbas1s.mpg      \n",
            "  inflating: data/s1/bbas2p.mpg      \n",
            "  inflating: data/s1/bbas3a.mpg      \n",
            "  inflating: data/s1/bbaszn.mpg      \n",
            "  inflating: data/s1/bbaz4n.mpg      \n",
            "  inflating: data/s1/bbaz5s.mpg      \n",
            "  inflating: data/s1/bbaz6p.mpg      \n",
            "  inflating: data/s1/bbaz7a.mpg      \n",
            "  inflating: data/s1/bbbf6n.mpg      \n",
            "  inflating: data/s1/bbbf7s.mpg      \n",
            "  inflating: data/s1/bbbf8p.mpg      \n",
            "  inflating: data/s1/bbbf9a.mpg      \n",
            "  inflating: data/s1/bbbm1s.mpg      \n",
            "  inflating: data/s1/bbbm2p.mpg      \n",
            "  inflating: data/s1/bbbm3a.mpg      \n",
            "  inflating: data/s1/bbbmzn.mpg      \n",
            "  inflating: data/s1/bbbs4n.mpg      \n",
            "  inflating: data/s1/bbbs5s.mpg      \n",
            "  inflating: data/s1/bbbs6p.mpg      \n",
            "  inflating: data/s1/bbbs7a.mpg      \n",
            "  inflating: data/s1/bbbz8n.mpg      \n",
            "  inflating: data/s1/bbbz9s.mpg      \n",
            "  inflating: data/s1/bbie8n.mpg      \n",
            "  inflating: data/s1/bbie9s.mpg      \n",
            "  inflating: data/s1/bbif1a.mpg      \n",
            "  inflating: data/s1/bbifzp.mpg      \n",
            "  inflating: data/s1/bbil2n.mpg      \n",
            "  inflating: data/s1/bbil3s.mpg      \n",
            "  inflating: data/s1/bbil4p.mpg      \n",
            "  inflating: data/s1/bbil5a.mpg      \n",
            "  inflating: data/s1/bbir6n.mpg      \n",
            "  inflating: data/s1/bbir7s.mpg      \n",
            "  inflating: data/s1/bbir8p.mpg      \n",
            "  inflating: data/s1/bbir9a.mpg      \n",
            "  inflating: data/s1/bbiz1s.mpg      \n",
            "  inflating: data/s1/bbiz2p.mpg      \n",
            "  inflating: data/s1/bbiz3a.mpg      \n",
            "  inflating: data/s1/bbizzn.mpg      \n",
            "  inflating: data/s1/bbwg1s.mpg      \n",
            "  inflating: data/s1/bbwg2p.mpg      \n",
            "  inflating: data/s1/bbwg3a.mpg      \n",
            "  inflating: data/s1/bbwgzn.mpg      \n",
            "  inflating: data/s1/bbwm4n.mpg      \n",
            "  inflating: data/s1/bbwm5s.mpg      \n",
            "  inflating: data/s1/bbwm6p.mpg      \n",
            "  inflating: data/s1/bbwm7a.mpg      \n",
            "  inflating: data/s1/bbws8n.mpg      \n",
            "  inflating: data/s1/bbws9s.mpg      \n",
            "  inflating: data/s1/bbwt1a.mpg      \n",
            "  inflating: data/s1/bbwtzp.mpg      \n",
            "  inflating: data/s1/bgaa6n.mpg      \n",
            "  inflating: data/s1/bgaa7s.mpg      \n",
            "  inflating: data/s1/bgaa8p.mpg      \n",
            "  inflating: data/s1/bgaa9a.mpg      \n",
            "  inflating: data/s1/bgah1s.mpg      \n",
            "  inflating: data/s1/bgah2p.mpg      \n",
            "  inflating: data/s1/bgah3a.mpg      \n",
            "  inflating: data/s1/bgahzn.mpg      \n",
            "  inflating: data/s1/bgan4n.mpg      \n",
            "  inflating: data/s1/bgan5s.mpg      \n",
            "  inflating: data/s1/bgan6p.mpg      \n",
            "  inflating: data/s1/bgan7a.mpg      \n",
            "  inflating: data/s1/bgat8n.mpg      \n",
            "  inflating: data/s1/bgat9s.mpg      \n",
            "  inflating: data/s1/bgau1a.mpg      \n",
            "  inflating: data/s1/bgauzp.mpg      \n",
            "  inflating: data/s1/bgbb1s.mpg      \n",
            "  inflating: data/s1/bgbb2p.mpg      \n",
            "  inflating: data/s1/bgbb3a.mpg      \n",
            "  inflating: data/s1/bgbbzn.mpg      \n",
            "  inflating: data/s1/bgbh4n.mpg      \n",
            "  inflating: data/s1/bgbh5s.mpg      \n",
            "  inflating: data/s1/bgbh6p.mpg      \n",
            "  inflating: data/s1/bgbh7a.mpg      \n",
            "  inflating: data/s1/bgbn8n.mpg      \n",
            "  inflating: data/s1/bgbn9s.mpg      \n",
            "  inflating: data/s1/bgbo1a.mpg      \n",
            "  inflating: data/s1/bgbozp.mpg      \n",
            "  inflating: data/s1/bgbu2n.mpg      \n",
            "  inflating: data/s1/bgbu3s.mpg      \n",
            "  inflating: data/s1/bgbu4p.mpg      \n",
            "  inflating: data/s1/bgbu5a.mpg      \n",
            "  inflating: data/s1/bgia2n.mpg      \n",
            "  inflating: data/s1/bgia3s.mpg      \n",
            "  inflating: data/s1/bgia4p.mpg      \n",
            "  inflating: data/s1/bgia5a.mpg      \n",
            "  inflating: data/s1/bgig6n.mpg      \n",
            "  inflating: data/s1/bgig7s.mpg      \n",
            "  inflating: data/s1/bgig8p.mpg      \n",
            "  inflating: data/s1/bgig9a.mpg      \n",
            "  inflating: data/s1/bgin1s.mpg      \n",
            "  inflating: data/s1/bgin2p.mpg      \n",
            "  inflating: data/s1/bgin3a.mpg      \n",
            "  inflating: data/s1/bginzn.mpg      \n",
            "  inflating: data/s1/bgit4n.mpg      \n",
            "  inflating: data/s1/bgit5s.mpg      \n",
            "  inflating: data/s1/bgit6p.mpg      \n",
            "  inflating: data/s1/bgit7a.mpg      \n",
            "  inflating: data/s1/bgwb4n.mpg      \n",
            "  inflating: data/s1/bgwb5s.mpg      \n",
            "  inflating: data/s1/bgwb6p.mpg      \n",
            "  inflating: data/s1/bgwb7a.mpg      \n",
            "  inflating: data/s1/bgwh8n.mpg      \n",
            "  inflating: data/s1/bgwh9s.mpg      \n",
            "  inflating: data/s1/bgwi1a.mpg      \n",
            "  inflating: data/s1/bgwizp.mpg      \n",
            "  inflating: data/s1/bgwo2n.mpg      \n",
            "  inflating: data/s1/bgwo3s.mpg      \n",
            "  inflating: data/s1/bgwo4p.mpg      \n",
            "  inflating: data/s1/bgwo5a.mpg      \n",
            "  inflating: data/s1/bgwu6n.mpg      \n",
            "  inflating: data/s1/bgwu7s.mpg      \n",
            "  inflating: data/s1/bgwu8p.mpg      \n",
            "  inflating: data/s1/bgwu9a.mpg      \n",
            "  inflating: data/s1/braf8n.mpg      \n",
            "  inflating: data/s1/braf9s.mpg      \n",
            "  inflating: data/s1/brag1a.mpg      \n",
            "  inflating: data/s1/bragzp.mpg      \n",
            "  inflating: data/s1/bram2n.mpg      \n",
            "  inflating: data/s1/bram3s.mpg      \n",
            "  inflating: data/s1/bram4p.mpg      \n",
            "  inflating: data/s1/bram5a.mpg      \n",
            "  inflating: data/s1/bras6n.mpg      \n",
            "  inflating: data/s1/bras7s.mpg      \n",
            "  inflating: data/s1/bras8p.mpg      \n",
            "  inflating: data/s1/bras9a.mpg      \n",
            "  inflating: data/s1/brba1a.mpg      \n",
            "  inflating: data/s1/brbazp.mpg      \n",
            "  inflating: data/s1/brbg2n.mpg      \n",
            "  inflating: data/s1/brbg3s.mpg      \n",
            "  inflating: data/s1/brbg4p.mpg      \n",
            "  inflating: data/s1/brbg5a.mpg      \n",
            "  inflating: data/s1/brbm6n.mpg      \n",
            "  inflating: data/s1/brbm7s.mpg      \n",
            "  inflating: data/s1/brbm8p.mpg      \n",
            "  inflating: data/s1/brbm9a.mpg      \n",
            "  inflating: data/s1/brbt1s.mpg      \n",
            "  inflating: data/s1/brbt2p.mpg      \n",
            "  inflating: data/s1/brbt3a.mpg      \n",
            "  inflating: data/s1/brbtzn.mpg      \n",
            "  inflating: data/s1/brif4n.mpg      \n",
            "  inflating: data/s1/brif5s.mpg      \n",
            "  inflating: data/s1/brif6p.mpg      \n",
            "  inflating: data/s1/brif7a.mpg      \n",
            "  inflating: data/s1/bril8n.mpg      \n",
            "  inflating: data/s1/bril9s.mpg      \n",
            "  inflating: data/s1/brim1a.mpg      \n",
            "  inflating: data/s1/brimzp.mpg      \n",
            "  inflating: data/s1/bris2n.mpg      \n",
            "  inflating: data/s1/bris3s.mpg      \n",
            "  inflating: data/s1/bris4p.mpg      \n",
            "  inflating: data/s1/bris5a.mpg      \n",
            "  inflating: data/s1/briz6n.mpg      \n",
            "  inflating: data/s1/briz7s.mpg      \n",
            "  inflating: data/s1/briz8p.mpg      \n",
            "  inflating: data/s1/briz9a.mpg      \n",
            "  inflating: data/s1/brwa2n.mpg      \n",
            "  inflating: data/s1/brwa3s.mpg      \n",
            "  inflating: data/s1/brwa4p.mpg      \n",
            "  inflating: data/s1/brwa5a.mpg      \n",
            "  inflating: data/s1/brwg6n.mpg      \n",
            "  inflating: data/s1/brwg7s.mpg      \n",
            "  inflating: data/s1/brwg8p.mpg      \n",
            "  inflating: data/s1/brwg9a.mpg      \n",
            "  inflating: data/s1/brwn1s.mpg      \n",
            "  inflating: data/s1/brwn2p.mpg      \n",
            "  inflating: data/s1/brwn3a.mpg      \n",
            "  inflating: data/s1/brwnzn.mpg      \n",
            "  inflating: data/s1/brwt4n.mpg      \n",
            "  inflating: data/s1/brwt5s.mpg      \n",
            "  inflating: data/s1/brwt6p.mpg      \n",
            "  inflating: data/s1/brwt7a.mpg      \n",
            "  inflating: data/s1/bwaa1s.mpg      \n",
            "  inflating: data/s1/bwaa2p.mpg      \n",
            "  inflating: data/s1/bwaa3a.mpg      \n",
            "  inflating: data/s1/bwaazn.mpg      \n",
            "  inflating: data/s1/bwag4n.mpg      \n",
            "  inflating: data/s1/bwag5s.mpg      \n",
            "  inflating: data/s1/bwag6p.mpg      \n",
            "  inflating: data/s1/bwag7a.mpg      \n",
            "  inflating: data/s1/bwam8n.mpg      \n",
            "  inflating: data/s1/bwam9s.mpg      \n",
            "  inflating: data/s1/bwan1a.mpg      \n",
            "  inflating: data/s1/bwanzp.mpg      \n",
            "  inflating: data/s1/bwat2n.mpg      \n",
            "  inflating: data/s1/bwat3s.mpg      \n",
            "  inflating: data/s1/bwat4p.mpg      \n",
            "  inflating: data/s1/bwat5a.mpg      \n",
            "  inflating: data/s1/bwba4n.mpg      \n",
            "  inflating: data/s1/bwba5s.mpg      \n",
            "  inflating: data/s1/bwba6p.mpg      \n",
            "  inflating: data/s1/bwba7a.mpg      \n",
            "  inflating: data/s1/bwbg8n.mpg      \n",
            "  inflating: data/s1/bwbg9s.mpg      \n",
            "  inflating: data/s1/bwbh1a.mpg      \n",
            "  inflating: data/s1/bwbhzp.mpg      \n",
            "  inflating: data/s1/bwbn2n.mpg      \n",
            "  inflating: data/s1/bwbn3s.mpg      \n",
            "  inflating: data/s1/bwbn4p.mpg      \n",
            "  inflating: data/s1/bwbn5a.mpg      \n",
            "  inflating: data/s1/bwbt6n.mpg      \n",
            "  inflating: data/s1/bwbt7s.mpg      \n",
            "  inflating: data/s1/bwbt8p.mpg      \n",
            "  inflating: data/s1/bwbt9a.mpg      \n",
            "  inflating: data/s1/bwig1s.mpg      \n",
            "  inflating: data/s1/bwig2p.mpg      \n",
            "  inflating: data/s1/bwig3a.mpg      \n",
            "  inflating: data/s1/bwigzn.mpg      \n",
            "  inflating: data/s1/bwim4n.mpg      \n",
            "  inflating: data/s1/bwim5s.mpg      \n",
            "  inflating: data/s1/bwim6p.mpg      \n",
            "  inflating: data/s1/bwim7a.mpg      \n",
            "  inflating: data/s1/bwis8n.mpg      \n",
            "  inflating: data/s1/bwis9s.mpg      \n",
            "  inflating: data/s1/bwit1a.mpg      \n",
            "  inflating: data/s1/bwitzp.mpg      \n",
            "  inflating: data/s1/bwwa8n.mpg      \n",
            "  inflating: data/s1/bwwa9s.mpg      \n",
            "  inflating: data/s1/bwwb1a.mpg      \n",
            "  inflating: data/s1/bwwbzp.mpg      \n",
            "  inflating: data/s1/bwwh2n.mpg      \n",
            "  inflating: data/s1/bwwh3s.mpg      \n",
            "  inflating: data/s1/bwwh4p.mpg      \n",
            "  inflating: data/s1/bwwh5a.mpg      \n",
            "  inflating: data/s1/bwwn6n.mpg      \n",
            "  inflating: data/s1/bwwn7s.mpg      \n",
            "  inflating: data/s1/bwwn8p.mpg      \n",
            "  inflating: data/s1/bwwn9a.mpg      \n",
            "  inflating: data/s1/bwwu1s.mpg      \n",
            "  inflating: data/s1/bwwu2p.mpg      \n",
            "  inflating: data/s1/bwwu3a.mpg      \n",
            "  inflating: data/s1/bwwuzn.mpg      \n",
            "  inflating: data/s1/lbad6n.mpg      \n",
            "  inflating: data/s1/lbad7s.mpg      \n",
            "  inflating: data/s1/lbad8p.mpg      \n",
            "  inflating: data/s1/lbad9a.mpg      \n",
            "  inflating: data/s1/lbak1s.mpg      \n",
            "  inflating: data/s1/lbak2p.mpg      \n",
            "  inflating: data/s1/lbak3a.mpg      \n",
            "  inflating: data/s1/lbakzn.mpg      \n",
            "  inflating: data/s1/lbaq4n.mpg      \n",
            "  inflating: data/s1/lbaq5s.mpg      \n",
            "  inflating: data/s1/lbaq6p.mpg      \n",
            "  inflating: data/s1/lbaq7a.mpg      \n",
            "  inflating: data/s1/lbax8n.mpg      \n",
            "  inflating: data/s1/lbax9s.mpg      \n",
            "  inflating: data/s1/lbay1a.mpg      \n",
            "  inflating: data/s1/lbayzp.mpg      \n",
            "  inflating: data/s1/lbbe1s.mpg      \n",
            "  inflating: data/s1/lbbe2p.mpg      \n",
            "  inflating: data/s1/lbbe3a.mpg      \n",
            "  inflating: data/s1/lbbezn.mpg      \n",
            "  inflating: data/s1/lbbk4n.mpg      \n",
            "  inflating: data/s1/lbbk5s.mpg      \n",
            "  inflating: data/s1/lbbk6p.mpg      \n",
            "  inflating: data/s1/lbbk7a.mpg      \n",
            "  inflating: data/s1/lbbq8n.mpg      \n",
            "  inflating: data/s1/lbbq9s.mpg      \n",
            "  inflating: data/s1/lbbr1a.mpg      \n",
            "  inflating: data/s1/lbbrzp.mpg      \n",
            "  inflating: data/s1/lbby2n.mpg      \n",
            "  inflating: data/s1/lbby3s.mpg      \n",
            "  inflating: data/s1/lbby4p.mpg      \n",
            "  inflating: data/s1/lbby5a.mpg      \n",
            "  inflating: data/s1/lbid2n.mpg      \n",
            "  inflating: data/s1/lbid3s.mpg      \n",
            "  inflating: data/s1/lbid4p.mpg      \n",
            "  inflating: data/s1/lbid5a.mpg      \n",
            "  inflating: data/s1/lbij6n.mpg      \n",
            "  inflating: data/s1/lbij7s.mpg      \n",
            "  inflating: data/s1/lbij8p.mpg      \n",
            "  inflating: data/s1/lbij9a.mpg      \n",
            "  inflating: data/s1/lbiq1s.mpg      \n",
            "  inflating: data/s1/lbiq2p.mpg      \n",
            "  inflating: data/s1/lbiq3a.mpg      \n",
            "  inflating: data/s1/lbiqzn.mpg      \n",
            "  inflating: data/s1/lbix4n.mpg      \n",
            "  inflating: data/s1/lbix5s.mpg      \n",
            "  inflating: data/s1/lbix6p.mpg      \n",
            "  inflating: data/s1/lbix7a.mpg      \n",
            "  inflating: data/s1/lbwe4n.mpg      \n",
            "  inflating: data/s1/lbwe5s.mpg      \n",
            "  inflating: data/s1/lbwe6p.mpg      \n",
            "  inflating: data/s1/lbwe7a.mpg      \n",
            "  inflating: data/s1/lbwk8n.mpg      \n",
            "  inflating: data/s1/lbwk9s.mpg      \n",
            "  inflating: data/s1/lbwl1a.mpg      \n",
            "  inflating: data/s1/lbwlzp.mpg      \n",
            "  inflating: data/s1/lbwr2n.mpg      \n",
            "  inflating: data/s1/lbwr3s.mpg      \n",
            "  inflating: data/s1/lbwr4p.mpg      \n",
            "  inflating: data/s1/lbwr5a.mpg      \n",
            "  inflating: data/s1/lbwy6n.mpg      \n",
            "  inflating: data/s1/lbwy7s.mpg      \n",
            "  inflating: data/s1/lbwy8p.mpg      \n",
            "  inflating: data/s1/lbwy9a.mpg      \n",
            "  inflating: data/s1/lgaf4n.mpg      \n",
            "  inflating: data/s1/lgaf5s.mpg      \n",
            "  inflating: data/s1/lgaf6p.mpg      \n",
            "  inflating: data/s1/lgaf7a.mpg      \n",
            "  inflating: data/s1/lgal8n.mpg      \n",
            "  inflating: data/s1/lgal9s.mpg      \n",
            "  inflating: data/s1/lgam1a.mpg      \n",
            "  inflating: data/s1/lgamzp.mpg      \n",
            "  inflating: data/s1/lgas2n.mpg      \n",
            "  inflating: data/s1/lgas3s.mpg      \n",
            "  inflating: data/s1/lgas4p.mpg      \n",
            "  inflating: data/s1/lgas5a.mpg      \n",
            "  inflating: data/s1/lgaz6n.mpg      \n",
            "  inflating: data/s1/lgaz7s.mpg      \n",
            "  inflating: data/s1/lgaz8p.mpg      \n",
            "  inflating: data/s1/lgaz9a.mpg      \n",
            "  inflating: data/s1/lgbf8n.mpg      \n",
            "  inflating: data/s1/lgbf9s.mpg      \n",
            "  inflating: data/s1/lgbg1a.mpg      \n",
            "  inflating: data/s1/lgbgzp.mpg      \n",
            "  inflating: data/s1/lgbm2n.mpg      \n",
            "  inflating: data/s1/lgbm3s.mpg      \n",
            "  inflating: data/s1/lgbm4p.mpg      \n",
            "  inflating: data/s1/lgbm5a.mpg      \n",
            "  inflating: data/s1/lgbs6n.mpg      \n",
            "  inflating: data/s1/lgbs7s.mpg      \n",
            "  inflating: data/s1/lgbs8p.mpg      \n",
            "  inflating: data/s1/lgbs9a.mpg      \n",
            "  inflating: data/s1/lgif1s.mpg      \n",
            "  inflating: data/s1/lgif2p.mpg      \n",
            "  inflating: data/s1/lgif3a.mpg      \n",
            "  inflating: data/s1/lgifzn.mpg      \n",
            "  inflating: data/s1/lgil4n.mpg      \n",
            "  inflating: data/s1/lgil5s.mpg      \n",
            "  inflating: data/s1/lgil6p.mpg      \n",
            "  inflating: data/s1/lgil7a.mpg      \n",
            "  inflating: data/s1/lgir8n.mpg      \n",
            "  inflating: data/s1/lgir9s.mpg      \n",
            "  inflating: data/s1/lgis1a.mpg      \n",
            "  inflating: data/s1/lgiszp.mpg      \n",
            "  inflating: data/s1/lgiz2n.mpg      \n",
            "  inflating: data/s1/lgiz3s.mpg      \n",
            "  inflating: data/s1/lgiz4p.mpg      \n",
            "  inflating: data/s1/lgiz5a.mpg      \n",
            "  inflating: data/s1/lgwa1a.mpg      \n",
            "  inflating: data/s1/lgwazp.mpg      \n",
            "  inflating: data/s1/lgwg2n.mpg      \n",
            "  inflating: data/s1/lgwg3s.mpg      \n",
            "  inflating: data/s1/lgwg4p.mpg      \n",
            "  inflating: data/s1/lgwg5a.mpg      \n",
            "  inflating: data/s1/lgwm6n.mpg      \n",
            "  inflating: data/s1/lgwm7s.mpg      \n",
            "  inflating: data/s1/lgwm8p.mpg      \n",
            "  inflating: data/s1/lgwm9a.mpg      \n",
            "  inflating: data/s1/lgwt1s.mpg      \n",
            "  inflating: data/s1/lgwt2p.mpg      \n",
            "  inflating: data/s1/lgwt3a.mpg      \n",
            "  inflating: data/s1/lgwtzn.mpg      \n",
            "  inflating: data/s1/lrae2n.mpg      \n",
            "  inflating: data/s1/lrae3s.mpg      \n",
            "  inflating: data/s1/lrae4p.mpg      \n",
            "  inflating: data/s1/lrae5a.mpg      \n",
            "  inflating: data/s1/lrak6n.mpg      \n",
            "  inflating: data/s1/lrak7s.mpg      \n",
            "  inflating: data/s1/lrak8p.mpg      \n",
            "  inflating: data/s1/lrak9a.mpg      \n",
            "  inflating: data/s1/lrar1s.mpg      \n",
            "  inflating: data/s1/lrar2p.mpg      \n",
            "  inflating: data/s1/lrar3a.mpg      \n",
            "  inflating: data/s1/lrarzn.mpg      \n",
            "  inflating: data/s1/lray4n.mpg      \n",
            "  inflating: data/s1/lray5s.mpg      \n",
            "  inflating: data/s1/lray6p.mpg      \n",
            "  inflating: data/s1/lray7a.mpg      \n",
            "  inflating: data/s1/lrbe6n.mpg      \n",
            "  inflating: data/s1/lrbe7s.mpg      \n",
            "  inflating: data/s1/lrbe8p.mpg      \n",
            "  inflating: data/s1/lrbe9a.mpg      \n",
            "  inflating: data/s1/lrbl1s.mpg      \n",
            "  inflating: data/s1/lrbl2p.mpg      \n",
            "  inflating: data/s1/lrbl3a.mpg      \n",
            "  inflating: data/s1/lrblzn.mpg      \n",
            "  inflating: data/s1/lrbr4n.mpg      \n",
            "  inflating: data/s1/lrbr5s.mpg      \n",
            "  inflating: data/s1/lrbr6p.mpg      \n",
            "  inflating: data/s1/lrbr7a.mpg      \n",
            "  inflating: data/s1/lrby8n.mpg      \n",
            "  inflating: data/s1/lrby9s.mpg      \n",
            "  inflating: data/s1/lrbz1a.mpg      \n",
            "  inflating: data/s1/lrbzzp.mpg      \n",
            "  inflating: data/s1/lrid8n.mpg      \n",
            "  inflating: data/s1/lrid9s.mpg      \n",
            "  inflating: data/s1/lrie1a.mpg      \n",
            "  inflating: data/s1/lriezp.mpg      \n",
            "  inflating: data/s1/lrik2n.mpg      \n",
            "  inflating: data/s1/lrik3s.mpg      \n",
            "  inflating: data/s1/lrik4p.mpg      \n",
            "  inflating: data/s1/lrik5a.mpg      \n",
            "  inflating: data/s1/lriq6n.mpg      \n",
            "  inflating: data/s1/lriq7s.mpg      \n",
            "  inflating: data/s1/lriq8p.mpg      \n",
            "  inflating: data/s1/lriq9a.mpg      \n",
            "  inflating: data/s1/lriy1s.mpg      \n",
            "  inflating: data/s1/lriy2p.mpg      \n",
            "  inflating: data/s1/lriy3a.mpg      \n",
            "  inflating: data/s1/lriyzn.mpg      \n",
            "  inflating: data/s1/lrwf1s.mpg      \n",
            "  inflating: data/s1/lrwf2p.mpg      \n",
            "  inflating: data/s1/lrwf3a.mpg      \n",
            "  inflating: data/s1/lrwfzn.mpg      \n",
            "  inflating: data/s1/lrwl4n.mpg      \n",
            "  inflating: data/s1/lrwl5s.mpg      \n",
            "  inflating: data/s1/lrwl6p.mpg      \n",
            "  inflating: data/s1/lrwl7a.mpg      \n",
            "  inflating: data/s1/lrwr8n.mpg      \n",
            "  inflating: data/s1/lrwr9s.mpg      \n",
            "  inflating: data/s1/lrws1a.mpg      \n",
            "  inflating: data/s1/lrwszp.mpg      \n",
            "  inflating: data/s1/lrwz2n.mpg      \n",
            "  inflating: data/s1/lrwz3s.mpg      \n",
            "  inflating: data/s1/lrwz4p.mpg      \n",
            "  inflating: data/s1/lrwz5a.mpg      \n",
            "  inflating: data/s1/lwae8n.mpg      \n",
            "  inflating: data/s1/lwae9s.mpg      \n",
            "  inflating: data/s1/lwaf1a.mpg      \n",
            "  inflating: data/s1/lwafzp.mpg      \n",
            "  inflating: data/s1/lwal2n.mpg      \n",
            "  inflating: data/s1/lwal3s.mpg      \n",
            "  inflating: data/s1/lwal4p.mpg      \n",
            "  inflating: data/s1/lwal5a.mpg      \n",
            "  inflating: data/s1/lwar6n.mpg      \n",
            "  inflating: data/s1/lwar7s.mpg      \n",
            "  inflating: data/s1/lwar8p.mpg      \n",
            "  inflating: data/s1/lwar9a.mpg      \n",
            "  inflating: data/s1/lwaz1s.mpg      \n",
            "  inflating: data/s1/lwaz2p.mpg      \n",
            "  inflating: data/s1/lwaz3a.mpg      \n",
            "  inflating: data/s1/lwazzn.mpg      \n",
            "  inflating: data/s1/lwbf2n.mpg      \n",
            "  inflating: data/s1/lwbf3s.mpg      \n",
            "  inflating: data/s1/lwbf4p.mpg      \n",
            "  inflating: data/s1/lwbf5a.mpg      \n",
            "  inflating: data/s1/lwbl6n.mpg      \n",
            "  inflating: data/s1/lwbl7s.mpg      \n",
            "  inflating: data/s1/lwbl8p.mpg      \n",
            "  inflating: data/s1/lwbl9a.mpg      \n",
            "  inflating: data/s1/lwbs1s.mpg      \n",
            "  inflating: data/s1/lwbs2p.mpg      \n",
            "  inflating: data/s1/lwbs3a.mpg      \n",
            "  inflating: data/s1/lwbszn.mpg      \n",
            "  inflating: data/s1/lwbz4n.mpg      \n",
            "  inflating: data/s1/lwbz5s.mpg      \n",
            "  inflating: data/s1/lwbz6p.mpg      \n",
            "  inflating: data/s1/lwbz7a.mpg      \n",
            "  inflating: data/s1/lwie4n.mpg      \n",
            "  inflating: data/s1/lwie5s.mpg      \n",
            "  inflating: data/s1/lwie6p.mpg      \n",
            "  inflating: data/s1/lwie7a.mpg      \n",
            "  inflating: data/s1/lwik8n.mpg      \n",
            "  inflating: data/s1/lwik9s.mpg      \n",
            "  inflating: data/s1/lwil1a.mpg      \n",
            "  inflating: data/s1/lwilzp.mpg      \n",
            "  inflating: data/s1/lwir2n.mpg      \n",
            "  inflating: data/s1/lwir3s.mpg      \n",
            "  inflating: data/s1/lwir4p.mpg      \n",
            "  inflating: data/s1/lwir5a.mpg      \n",
            "  inflating: data/s1/lwiy6n.mpg      \n",
            "  inflating: data/s1/lwiy7s.mpg      \n",
            "  inflating: data/s1/lwiy8p.mpg      \n",
            "  inflating: data/s1/lwiy9a.mpg      \n",
            "  inflating: data/s1/lwwf6n.mpg      \n",
            "  inflating: data/s1/lwwf7s.mpg      \n",
            "  inflating: data/s1/lwwf8p.mpg      \n",
            "  inflating: data/s1/lwwf9a.mpg      \n",
            "  inflating: data/s1/lwwm1s.mpg      \n",
            "  inflating: data/s1/lwwm2p.mpg      \n",
            "  inflating: data/s1/lwwm3a.mpg      \n",
            "  inflating: data/s1/lwwmzn.mpg      \n",
            "  inflating: data/s1/lwws4n.mpg      \n",
            "  inflating: data/s1/lwws5s.mpg      \n",
            "  inflating: data/s1/lwws6p.mpg      \n",
            "  inflating: data/s1/lwws7a.mpg      \n",
            "  inflating: data/s1/lwwz8n.mpg      \n",
            "  inflating: data/s1/lwwz9s.mpg      \n",
            "  inflating: data/s1/pbac1s.mpg      \n",
            "  inflating: data/s1/pbac2p.mpg      \n",
            "  inflating: data/s1/pbac3a.mpg      \n",
            "  inflating: data/s1/pbaczn.mpg      \n",
            "  inflating: data/s1/pbai4n.mpg      \n",
            "  inflating: data/s1/pbai5s.mpg      \n",
            "  inflating: data/s1/pbai6p.mpg      \n",
            "  inflating: data/s1/pbai7a.mpg      \n",
            "  inflating: data/s1/pbao8n.mpg      \n",
            "  inflating: data/s1/pbao9s.mpg      \n",
            "  inflating: data/s1/pbap1a.mpg      \n",
            "  inflating: data/s1/pbapzp.mpg      \n",
            "  inflating: data/s1/pbav2n.mpg      \n",
            "  inflating: data/s1/pbav3s.mpg      \n",
            "  inflating: data/s1/pbav4p.mpg      \n",
            "  inflating: data/s1/pbav5a.mpg      \n",
            "  inflating: data/s1/pbbc4n.mpg      \n",
            "  inflating: data/s1/pbbc5s.mpg      \n",
            "  inflating: data/s1/pbbc6p.mpg      \n",
            "  inflating: data/s1/pbbc7a.mpg      \n",
            "  inflating: data/s1/pbbi8n.mpg      \n",
            "  inflating: data/s1/pbbi9s.mpg      \n",
            "  inflating: data/s1/pbbj1a.mpg      \n",
            "  inflating: data/s1/pbbjzp.mpg      \n",
            "  inflating: data/s1/pbbp2n.mpg      \n",
            "  inflating: data/s1/pbbp3s.mpg      \n",
            "  inflating: data/s1/pbbp4p.mpg      \n",
            "  inflating: data/s1/pbbp5a.mpg      \n",
            "  inflating: data/s1/pbbv6n.mpg      \n",
            "  inflating: data/s1/pbbv7s.mpg      \n",
            "  inflating: data/s1/pbbv8p.mpg      \n",
            "  inflating: data/s1/pbbv9a.mpg      \n",
            "  inflating: data/s1/pbib6n.mpg      \n",
            "  inflating: data/s1/pbib7s.mpg      \n",
            "  inflating: data/s1/pbib8p.mpg      \n",
            "  inflating: data/s1/pbib9a.mpg      \n",
            "  inflating: data/s1/pbii1s.mpg      \n",
            "  inflating: data/s1/pbii2p.mpg      \n",
            "  inflating: data/s1/pbii3a.mpg      \n",
            "  inflating: data/s1/pbiizn.mpg      \n",
            "  inflating: data/s1/pbio4n.mpg      \n",
            "  inflating: data/s1/pbio5s.mpg      \n",
            "  inflating: data/s1/pbio6p.mpg      \n",
            "  inflating: data/s1/pbio7a.mpg      \n",
            "  inflating: data/s1/pbiu8n.mpg      \n",
            "  inflating: data/s1/pbiu9s.mpg      \n",
            "  inflating: data/s1/pbiv1a.mpg      \n",
            "  inflating: data/s1/pbivzp.mpg      \n",
            "  inflating: data/s1/pbwc8n.mpg      \n",
            "  inflating: data/s1/pbwc9s.mpg      \n",
            "  inflating: data/s1/pbwd1a.mpg      \n",
            "  inflating: data/s1/pbwdzp.mpg      \n",
            "  inflating: data/s1/pbwj2n.mpg      \n",
            "  inflating: data/s1/pbwj3s.mpg      \n",
            "  inflating: data/s1/pbwj4p.mpg      \n",
            "  inflating: data/s1/pbwj5a.mpg      \n",
            "  inflating: data/s1/pbwp6n.mpg      \n",
            "  inflating: data/s1/pbwp7s.mpg      \n",
            "  inflating: data/s1/pbwp8p.mpg      \n",
            "  inflating: data/s1/pbwp9a.mpg      \n",
            "  inflating: data/s1/pbwx1s.mpg      \n",
            "  inflating: data/s1/pbwx2p.mpg      \n",
            "  inflating: data/s1/pbwx3a.mpg      \n",
            "  inflating: data/s1/pbwxzn.mpg      \n",
            "  inflating: data/s1/pgad8n.mpg      \n",
            "  inflating: data/s1/pgad9s.mpg      \n",
            "  inflating: data/s1/pgae1a.mpg      \n",
            "  inflating: data/s1/pgaezp.mpg      \n",
            "  inflating: data/s1/pgak2n.mpg      \n",
            "  inflating: data/s1/pgak3s.mpg      \n",
            "  inflating: data/s1/pgak4p.mpg      \n",
            "  inflating: data/s1/pgak5a.mpg      \n",
            "  inflating: data/s1/pgaq6n.mpg      \n",
            "  inflating: data/s1/pgaq7s.mpg      \n",
            "  inflating: data/s1/pgaq8p.mpg      \n",
            "  inflating: data/s1/pgaq9a.mpg      \n",
            "  inflating: data/s1/pgay1s.mpg      \n",
            "  inflating: data/s1/pgay2p.mpg      \n",
            "  inflating: data/s1/pgay3a.mpg      \n",
            "  inflating: data/s1/pgayzn.mpg      \n",
            "  inflating: data/s1/pgbe2n.mpg      \n",
            "  inflating: data/s1/pgbe3s.mpg      \n",
            "  inflating: data/s1/pgbe4p.mpg      \n",
            "  inflating: data/s1/pgbe5a.mpg      \n",
            "  inflating: data/s1/pgbk6n.mpg      \n",
            "  inflating: data/s1/pgbk7s.mpg      \n",
            "  inflating: data/s1/pgbk8p.mpg      \n",
            "  inflating: data/s1/pgbk9a.mpg      \n",
            "  inflating: data/s1/pgbr1s.mpg      \n",
            "  inflating: data/s1/pgbr2p.mpg      \n",
            "  inflating: data/s1/pgbr3a.mpg      \n",
            "  inflating: data/s1/pgbrzn.mpg      \n",
            "  inflating: data/s1/pgby4n.mpg      \n",
            "  inflating: data/s1/pgby5s.mpg      \n",
            "  inflating: data/s1/pgby6p.mpg      \n",
            "  inflating: data/s1/pgby7a.mpg      \n",
            "  inflating: data/s1/pgid4n.mpg      \n",
            "  inflating: data/s1/pgid5s.mpg      \n",
            "  inflating: data/s1/pgid6p.mpg      \n",
            "  inflating: data/s1/pgid7a.mpg      \n",
            "  inflating: data/s1/pgij8n.mpg      \n",
            "  inflating: data/s1/pgij9s.mpg      \n",
            "  inflating: data/s1/pgik1a.mpg      \n",
            "  inflating: data/s1/pgikzp.mpg      \n",
            "  inflating: data/s1/pgiq2n.mpg      \n",
            "  inflating: data/s1/pgiq3s.mpg      \n",
            "  inflating: data/s1/pgiq4p.mpg      \n",
            "  inflating: data/s1/pgiq5a.mpg      \n",
            "  inflating: data/s1/pgix6n.mpg      \n",
            "  inflating: data/s1/pgix7s.mpg      \n",
            "  inflating: data/s1/pgix8p.mpg      \n",
            "  inflating: data/s1/pgix9a.mpg      \n",
            "  inflating: data/s1/pgwe6n.mpg      \n",
            "  inflating: data/s1/pgwe7s.mpg      \n",
            "  inflating: data/s1/pgwe8p.mpg      \n",
            "  inflating: data/s1/pgwe9a.mpg      \n",
            "  inflating: data/s1/pgwl1s.mpg      \n",
            "  inflating: data/s1/pgwl2p.mpg      \n",
            "  inflating: data/s1/pgwl3a.mpg      \n",
            "  inflating: data/s1/pgwlzn.mpg      \n",
            "  inflating: data/s1/pgwr4n.mpg      \n",
            "  inflating: data/s1/pgwr5s.mpg      \n",
            "  inflating: data/s1/pgwr6p.mpg      \n",
            "  inflating: data/s1/pgwr7a.mpg      \n",
            "  inflating: data/s1/pgwy8n.mpg      \n",
            "  inflating: data/s1/pgwy9s.mpg      \n",
            "  inflating: data/s1/pgwz1a.mpg      \n",
            "  inflating: data/s1/pgwzzp.mpg      \n",
            "  inflating: data/s1/prac6n.mpg      \n",
            "  inflating: data/s1/prac7s.mpg      \n",
            "  inflating: data/s1/prac8p.mpg      \n",
            "  inflating: data/s1/prac9a.mpg      \n",
            "  inflating: data/s1/praj1s.mpg      \n",
            "  inflating: data/s1/praj2p.mpg      \n",
            "  inflating: data/s1/praj3a.mpg      \n",
            "  inflating: data/s1/prajzn.mpg      \n",
            "  inflating: data/s1/prap4n.mpg      \n",
            "  inflating: data/s1/prap5s.mpg      \n",
            "  inflating: data/s1/prap6p.mpg      \n",
            "  inflating: data/s1/prap7a.mpg      \n",
            "  inflating: data/s1/prav8n.mpg      \n",
            "  inflating: data/s1/prav9s.mpg      \n",
            "  inflating: data/s1/prax1a.mpg      \n",
            "  inflating: data/s1/praxzp.mpg      \n",
            "  inflating: data/s1/prbd1s.mpg      \n",
            "  inflating: data/s1/prbd2p.mpg      \n",
            "  inflating: data/s1/prbd3a.mpg      \n",
            "  inflating: data/s1/prbdzn.mpg      \n",
            "  inflating: data/s1/prbj4n.mpg      \n",
            "  inflating: data/s1/prbj5s.mpg      \n",
            "  inflating: data/s1/prbj6p.mpg      \n",
            "  inflating: data/s1/prbj7a.mpg      \n",
            "  inflating: data/s1/prbp8n.mpg      \n",
            "  inflating: data/s1/prbp9s.mpg      \n",
            "  inflating: data/s1/prbq1a.mpg      \n",
            "  inflating: data/s1/prbqzp.mpg      \n",
            "  inflating: data/s1/prbx2n.mpg      \n",
            "  inflating: data/s1/prbx3s.mpg      \n",
            "  inflating: data/s1/prbx4p.mpg      \n",
            "  inflating: data/s1/prbx5a.mpg      \n",
            "  inflating: data/s1/pric2n.mpg      \n",
            "  inflating: data/s1/pric3s.mpg      \n",
            "  inflating: data/s1/pric4p.mpg      \n",
            "  inflating: data/s1/pric5a.mpg      \n",
            "  inflating: data/s1/prii6n.mpg      \n",
            "  inflating: data/s1/prii7s.mpg      \n",
            "  inflating: data/s1/prii8p.mpg      \n",
            "  inflating: data/s1/prii9a.mpg      \n",
            "  inflating: data/s1/prip1s.mpg      \n",
            "  inflating: data/s1/prip2p.mpg      \n",
            "  inflating: data/s1/prip3a.mpg      \n",
            "  inflating: data/s1/pripzn.mpg      \n",
            "  inflating: data/s1/priv4n.mpg      \n",
            "  inflating: data/s1/priv5s.mpg      \n",
            "  inflating: data/s1/priv6p.mpg      \n",
            "  inflating: data/s1/priv7a.mpg      \n",
            "  inflating: data/s1/prwd4n.mpg      \n",
            "  inflating: data/s1/prwd5s.mpg      \n",
            "  inflating: data/s1/prwd6p.mpg      \n",
            "  inflating: data/s1/prwd7a.mpg      \n",
            "  inflating: data/s1/prwj8n.mpg      \n",
            "  inflating: data/s1/prwj9s.mpg      \n",
            "  inflating: data/s1/prwk1a.mpg      \n",
            "  inflating: data/s1/prwkzp.mpg      \n",
            "  inflating: data/s1/prwq2n.mpg      \n",
            "  inflating: data/s1/prwq3s.mpg      \n",
            "  inflating: data/s1/prwq4p.mpg      \n",
            "  inflating: data/s1/prwq5a.mpg      \n",
            "  inflating: data/s1/prwx6n.mpg      \n",
            "  inflating: data/s1/prwx7s.mpg      \n",
            "  inflating: data/s1/prwx8p.mpg      \n",
            "  inflating: data/s1/prwx9a.mpg      \n",
            "  inflating: data/s1/pwad2n.mpg      \n",
            "  inflating: data/s1/pwad3s.mpg      \n",
            "  inflating: data/s1/pwad4p.mpg      \n",
            "  inflating: data/s1/pwad5a.mpg      \n",
            "  inflating: data/s1/pwaj6n.mpg      \n",
            "  inflating: data/s1/pwaj7s.mpg      \n",
            "  inflating: data/s1/pwaj8p.mpg      \n",
            "  inflating: data/s1/pwaj9a.mpg      \n",
            "  inflating: data/s1/pwaq1s.mpg      \n",
            "  inflating: data/s1/pwaq2p.mpg      \n",
            "  inflating: data/s1/pwaq3a.mpg      \n",
            "  inflating: data/s1/pwaqzn.mpg      \n",
            "  inflating: data/s1/pwax4n.mpg      \n",
            "  inflating: data/s1/pwax5s.mpg      \n",
            "  inflating: data/s1/pwax6p.mpg      \n",
            "  inflating: data/s1/pwax7a.mpg      \n",
            "  inflating: data/s1/pwbd6n.mpg      \n",
            "  inflating: data/s1/pwbd7s.mpg      \n",
            "  inflating: data/s1/pwbd8p.mpg      \n",
            "  inflating: data/s1/pwbd9a.mpg      \n",
            "  inflating: data/s1/pwbk1s.mpg      \n",
            "  inflating: data/s1/pwbk2p.mpg      \n",
            "  inflating: data/s1/pwbk3a.mpg      \n",
            "  inflating: data/s1/pwbkzn.mpg      \n",
            "  inflating: data/s1/pwbq4n.mpg      \n",
            "  inflating: data/s1/pwbq5s.mpg      \n",
            "  inflating: data/s1/pwbq6p.mpg      \n",
            "  inflating: data/s1/pwbq7a.mpg      \n",
            "  inflating: data/s1/pwbx8n.mpg      \n",
            "  inflating: data/s1/pwbx9s.mpg      \n",
            "  inflating: data/s1/pwby1a.mpg      \n",
            "  inflating: data/s1/pwbyzp.mpg      \n",
            "  inflating: data/s1/pwic8n.mpg      \n",
            "  inflating: data/s1/pwic9s.mpg      \n",
            "  inflating: data/s1/pwid1a.mpg      \n",
            "  inflating: data/s1/pwidzp.mpg      \n",
            "  inflating: data/s1/pwij2n.mpg      \n",
            "  inflating: data/s1/pwij3s.mpg      \n",
            "  inflating: data/s1/pwij4p.mpg      \n",
            "  inflating: data/s1/pwij5a.mpg      \n",
            "  inflating: data/s1/pwip6n.mpg      \n",
            "  inflating: data/s1/pwip7s.mpg      \n",
            "  inflating: data/s1/pwip8p.mpg      \n",
            "  inflating: data/s1/pwip9a.mpg      \n",
            "  inflating: data/s1/pwix1s.mpg      \n",
            "  inflating: data/s1/pwix2p.mpg      \n",
            "  inflating: data/s1/pwix3a.mpg      \n",
            "  inflating: data/s1/pwixzn.mpg      \n",
            "  inflating: data/s1/pwwe1s.mpg      \n",
            "  inflating: data/s1/pwwe2p.mpg      \n",
            "  inflating: data/s1/pwwe3a.mpg      \n",
            "  inflating: data/s1/pwwezn.mpg      \n",
            "  inflating: data/s1/pwwk4n.mpg      \n",
            "  inflating: data/s1/pwwk5s.mpg      \n",
            "  inflating: data/s1/pwwk6p.mpg      \n",
            "  inflating: data/s1/pwwk7a.mpg      \n",
            "  inflating: data/s1/pwwq8n.mpg      \n",
            "  inflating: data/s1/pwwq9s.mpg      \n",
            "  inflating: data/s1/pwwr1a.mpg      \n",
            "  inflating: data/s1/pwwrzp.mpg      \n",
            "  inflating: data/s1/pwwy2n.mpg      \n",
            "  inflating: data/s1/pwwy3s.mpg      \n",
            "  inflating: data/s1/pwwy4p.mpg      \n",
            "  inflating: data/s1/pwwy5a.mpg      \n",
            "  inflating: data/s1/sbaa4n.mpg      \n",
            "  inflating: data/s1/sbaa5s.mpg      \n",
            "  inflating: data/s1/sbaa6p.mpg      \n",
            "  inflating: data/s1/sbaa7a.mpg      \n",
            "  inflating: data/s1/sbag8n.mpg      \n",
            "  inflating: data/s1/sbag9s.mpg      \n",
            "  inflating: data/s1/sbah1a.mpg      \n",
            "  inflating: data/s1/sbahzp.mpg      \n",
            "  inflating: data/s1/sban2n.mpg      \n",
            "  inflating: data/s1/sban3s.mpg      \n",
            "  inflating: data/s1/sban4p.mpg      \n",
            "  inflating: data/s1/sban5a.mpg      \n",
            "  inflating: data/s1/sbat6n.mpg      \n",
            "  inflating: data/s1/sbat7s.mpg      \n",
            "  inflating: data/s1/sbat8p.mpg      \n",
            "  inflating: data/s1/sbat9a.mpg      \n",
            "  inflating: data/s1/sbba8n.mpg      \n",
            "  inflating: data/s1/sbba9s.mpg      \n",
            "  inflating: data/s1/sbbb1a.mpg      \n",
            "  inflating: data/s1/sbbbzp.mpg      \n",
            "  inflating: data/s1/sbbh2n.mpg      \n",
            "  inflating: data/s1/sbbh3s.mpg      \n",
            "  inflating: data/s1/sbbh4p.mpg      \n",
            "  inflating: data/s1/sbbh5a.mpg      \n",
            "  inflating: data/s1/sbbn6n.mpg      \n",
            "  inflating: data/s1/sbbn7s.mpg      \n",
            "  inflating: data/s1/sbbn8p.mpg      \n",
            "  inflating: data/s1/sbbn9a.mpg      \n",
            "  inflating: data/s1/sbbu1s.mpg      \n",
            "  inflating: data/s1/sbbu2p.mpg      \n",
            "  inflating: data/s1/sbbu3a.mpg      \n",
            "  inflating: data/s1/sbbuzn.mpg      \n",
            "  inflating: data/s1/sbia1s.mpg      \n",
            "  inflating: data/s1/sbia2p.mpg      \n",
            "  inflating: data/s1/sbia3a.mpg      \n",
            "  inflating: data/s1/sbiazn.mpg      \n",
            "  inflating: data/s1/sbig4n.mpg      \n",
            "  inflating: data/s1/sbig5s.mpg      \n",
            "  inflating: data/s1/sbig6p.mpg      \n",
            "  inflating: data/s1/sbig7a.mpg      \n",
            "  inflating: data/s1/sbim8n.mpg      \n",
            "  inflating: data/s1/sbim9s.mpg      \n",
            "  inflating: data/s1/sbin1a.mpg      \n",
            "  inflating: data/s1/sbinzp.mpg      \n",
            "  inflating: data/s1/sbit2n.mpg      \n",
            "  inflating: data/s1/sbit3s.mpg      \n",
            "  inflating: data/s1/sbit4p.mpg      \n",
            "  inflating: data/s1/sbit5a.mpg      \n",
            "  inflating: data/s1/sbwb2n.mpg      \n",
            "  inflating: data/s1/sbwb3s.mpg      \n",
            "  inflating: data/s1/sbwb4p.mpg      \n",
            "  inflating: data/s1/sbwb5a.mpg      \n",
            "  inflating: data/s1/sbwh6n.mpg      \n",
            "  inflating: data/s1/sbwh7s.mpg      \n",
            "  inflating: data/s1/sbwh8p.mpg      \n",
            "  inflating: data/s1/sbwh9a.mpg      \n",
            "  inflating: data/s1/sbwo1s.mpg      \n",
            "  inflating: data/s1/sbwo2p.mpg      \n",
            "  inflating: data/s1/sbwo3a.mpg      \n",
            "  inflating: data/s1/sbwozn.mpg      \n",
            "  inflating: data/s1/sbwu4n.mpg      \n",
            "  inflating: data/s1/sbwu5s.mpg      \n",
            "  inflating: data/s1/sbwu6p.mpg      \n",
            "  inflating: data/s1/sbwu7a.mpg      \n",
            "  inflating: data/s1/sgac2n.mpg      \n",
            "  inflating: data/s1/sgac3s.mpg      \n",
            "  inflating: data/s1/sgac4p.mpg      \n",
            "  inflating: data/s1/sgac5a.mpg      \n",
            "  inflating: data/s1/sgai6n.mpg      \n",
            "  inflating: data/s1/sgai7s.mpg      \n",
            "  inflating: data/s1/sgai8p.mpg      \n",
            "  inflating: data/s1/sgai9a.mpg      \n",
            "  inflating: data/s1/sgap1s.mpg      \n",
            "  inflating: data/s1/sgap2p.mpg      \n",
            "  inflating: data/s1/sgap3a.mpg      \n",
            "  inflating: data/s1/sgapzn.mpg      \n",
            "  inflating: data/s1/sgav4n.mpg      \n",
            "  inflating: data/s1/sgav5s.mpg      \n",
            "  inflating: data/s1/sgav6p.mpg      \n",
            "  inflating: data/s1/sgav7a.mpg      \n",
            "  inflating: data/s1/sgbc6n.mpg      \n",
            "  inflating: data/s1/sgbc7s.mpg      \n",
            "  inflating: data/s1/sgbc8p.mpg      \n",
            "  inflating: data/s1/sgbc9a.mpg      \n",
            "  inflating: data/s1/sgbj1s.mpg      \n",
            "  inflating: data/s1/sgbj2p.mpg      \n",
            "  inflating: data/s1/sgbj3a.mpg      \n",
            "  inflating: data/s1/sgbjzn.mpg      \n",
            "  inflating: data/s1/sgbp4n.mpg      \n",
            "  inflating: data/s1/sgbp5s.mpg      \n",
            "  inflating: data/s1/sgbp6p.mpg      \n",
            "  inflating: data/s1/sgbp7a.mpg      \n",
            "  inflating: data/s1/sgbv8n.mpg      \n",
            "  inflating: data/s1/sgbv9s.mpg      \n",
            "  inflating: data/s1/sgbx1a.mpg      \n",
            "  inflating: data/s1/sgbxzp.mpg      \n",
            "  inflating: data/s1/sgib8n.mpg      \n",
            "  inflating: data/s1/sgib9s.mpg      \n",
            "  inflating: data/s1/sgic1a.mpg      \n",
            "  inflating: data/s1/sgiczp.mpg      \n",
            "  inflating: data/s1/sgii2n.mpg      \n",
            "  inflating: data/s1/sgii3s.mpg      \n",
            "  inflating: data/s1/sgii4p.mpg      \n",
            "  inflating: data/s1/sgii5a.mpg      \n",
            "  inflating: data/s1/sgio6n.mpg      \n",
            "  inflating: data/s1/sgio7s.mpg      \n",
            "  inflating: data/s1/sgio8p.mpg      \n",
            "  inflating: data/s1/sgio9a.mpg      \n",
            "  inflating: data/s1/sgiv1s.mpg      \n",
            "  inflating: data/s1/sgiv2p.mpg      \n",
            "  inflating: data/s1/sgiv3a.mpg      \n",
            "  inflating: data/s1/sgivzn.mpg      \n",
            "  inflating: data/s1/sgwd1s.mpg      \n",
            "  inflating: data/s1/sgwd2p.mpg      \n",
            "  inflating: data/s1/sgwd3a.mpg      \n",
            "  inflating: data/s1/sgwdzn.mpg      \n",
            "  inflating: data/s1/sgwj4n.mpg      \n",
            "  inflating: data/s1/sgwj5s.mpg      \n",
            "  inflating: data/s1/sgwj6p.mpg      \n",
            "  inflating: data/s1/sgwj7a.mpg      \n",
            "  inflating: data/s1/sgwp8n.mpg      \n",
            "  inflating: data/s1/sgwp9s.mpg      \n",
            "  inflating: data/s1/sgwq1a.mpg      \n",
            "  inflating: data/s1/sgwqzp.mpg      \n",
            "  inflating: data/s1/sgwx2n.mpg      \n",
            "  inflating: data/s1/sgwx3s.mpg      \n",
            "  inflating: data/s1/sgwx4p.mpg      \n",
            "  inflating: data/s1/sgwx5a.mpg      \n",
            "  inflating: data/s1/srab1s.mpg      \n",
            "  inflating: data/s1/srab2p.mpg      \n",
            "  inflating: data/s1/srab3a.mpg      \n",
            "  inflating: data/s1/srabzn.mpg      \n",
            "  inflating: data/s1/srah4n.mpg      \n",
            "  inflating: data/s1/srah5s.mpg      \n",
            "  inflating: data/s1/srah6p.mpg      \n",
            "  inflating: data/s1/srah7a.mpg      \n",
            "  inflating: data/s1/sran8n.mpg      \n",
            "  inflating: data/s1/sran9s.mpg      \n",
            "  inflating: data/s1/srao1a.mpg      \n",
            "  inflating: data/s1/sraozp.mpg      \n",
            "  inflating: data/s1/srau2n.mpg      \n",
            "  inflating: data/s1/srau3s.mpg      \n",
            "  inflating: data/s1/srau4p.mpg      \n",
            "  inflating: data/s1/srau5a.mpg      \n",
            "  inflating: data/s1/srbb4n.mpg      \n",
            "  inflating: data/s1/srbb5s.mpg      \n",
            "  inflating: data/s1/srbb6p.mpg      \n",
            "  inflating: data/s1/srbb7a.mpg      \n",
            "  inflating: data/s1/srbh8n.mpg      \n",
            "  inflating: data/s1/srbh9s.mpg      \n",
            "  inflating: data/s1/srbi1a.mpg      \n",
            "  inflating: data/s1/srbizp.mpg      \n",
            "  inflating: data/s1/srbo2n.mpg      \n",
            "  inflating: data/s1/srbo3s.mpg      \n",
            "  inflating: data/s1/srbo4p.mpg      \n",
            "  inflating: data/s1/srbo5a.mpg      \n",
            "  inflating: data/s1/srbu6n.mpg      \n",
            "  inflating: data/s1/srbu7s.mpg      \n",
            "  inflating: data/s1/srbu8p.mpg      \n",
            "  inflating: data/s1/srbu9a.mpg      \n",
            "  inflating: data/s1/sria6n.mpg      \n",
            "  inflating: data/s1/sria7s.mpg      \n",
            "  inflating: data/s1/sria8p.mpg      \n",
            "  inflating: data/s1/sria9a.mpg      \n",
            "  inflating: data/s1/srih1s.mpg      \n",
            "  inflating: data/s1/srih2p.mpg      \n",
            "  inflating: data/s1/srih3a.mpg      \n",
            "  inflating: data/s1/srihzn.mpg      \n",
            "  inflating: data/s1/srin4n.mpg      \n",
            "  inflating: data/s1/srin5s.mpg      \n",
            "  inflating: data/s1/srin6p.mpg      \n",
            "  inflating: data/s1/srin7a.mpg      \n",
            "  inflating: data/s1/srit8n.mpg      \n",
            "  inflating: data/s1/srit9s.mpg      \n",
            "  inflating: data/s1/sriu1a.mpg      \n",
            "  inflating: data/s1/sriuzp.mpg      \n",
            "  inflating: data/s1/srwb8n.mpg      \n",
            "  inflating: data/s1/srwb9s.mpg      \n",
            "  inflating: data/s1/srwc1a.mpg      \n",
            "  inflating: data/s1/srwczp.mpg      \n",
            "  inflating: data/s1/srwi2n.mpg      \n",
            "  inflating: data/s1/srwi3s.mpg      \n",
            "  inflating: data/s1/srwi4p.mpg      \n",
            "  inflating: data/s1/srwi5a.mpg      \n",
            "  inflating: data/s1/srwo6n.mpg      \n",
            "  inflating: data/s1/srwo7s.mpg      \n",
            "  inflating: data/s1/srwo8p.mpg      \n",
            "  inflating: data/s1/srwo9a.mpg      \n",
            "  inflating: data/s1/srwv1s.mpg      \n",
            "  inflating: data/s1/srwv2p.mpg      \n",
            "  inflating: data/s1/srwv3a.mpg      \n",
            "  inflating: data/s1/srwvzn.mpg      \n",
            "  inflating: data/s1/swab6n.mpg      \n",
            "  inflating: data/s1/swab7s.mpg      \n",
            "  inflating: data/s1/swab8p.mpg      \n",
            "  inflating: data/s1/swab9a.mpg      \n",
            "  inflating: data/s1/swai1s.mpg      \n",
            "  inflating: data/s1/swai2p.mpg      \n",
            "  inflating: data/s1/swai3a.mpg      \n",
            "  inflating: data/s1/swaizn.mpg      \n",
            "  inflating: data/s1/swao4n.mpg      \n",
            "  inflating: data/s1/swao5s.mpg      \n",
            "  inflating: data/s1/swao6p.mpg      \n",
            "  inflating: data/s1/swao7a.mpg      \n",
            "  inflating: data/s1/swau8n.mpg      \n",
            "  inflating: data/s1/swau9s.mpg      \n",
            "  inflating: data/s1/swav1a.mpg      \n",
            "  inflating: data/s1/swavzp.mpg      \n",
            "  inflating: data/s1/swbc1s.mpg      \n",
            "  inflating: data/s1/swbc2p.mpg      \n",
            "  inflating: data/s1/swbc3a.mpg      \n",
            "  inflating: data/s1/swbczn.mpg      \n",
            "  inflating: data/s1/swbi4n.mpg      \n",
            "  inflating: data/s1/swbi5s.mpg      \n",
            "  inflating: data/s1/swbi6p.mpg      \n",
            "  inflating: data/s1/swbi7a.mpg      \n",
            "  inflating: data/s1/swbo8n.mpg      \n",
            "  inflating: data/s1/swbo9s.mpg      \n",
            "  inflating: data/s1/swbp1a.mpg      \n",
            "  inflating: data/s1/swbpzp.mpg      \n",
            "  inflating: data/s1/swbv2n.mpg      \n",
            "  inflating: data/s1/swbv3s.mpg      \n",
            "  inflating: data/s1/swbv4p.mpg      \n",
            "  inflating: data/s1/swbv5a.mpg      \n",
            "  inflating: data/s1/swib2n.mpg      \n",
            "  inflating: data/s1/swib3s.mpg      \n",
            "  inflating: data/s1/swib4p.mpg      \n",
            "  inflating: data/s1/swib5a.mpg      \n",
            "  inflating: data/s1/swih6n.mpg      \n",
            "  inflating: data/s1/swih7s.mpg      \n",
            "  inflating: data/s1/swih8p.mpg      \n",
            "  inflating: data/s1/swih9a.mpg      \n",
            "  inflating: data/s1/swio1s.mpg      \n",
            "  inflating: data/s1/swio2p.mpg      \n",
            "  inflating: data/s1/swio3a.mpg      \n",
            "  inflating: data/s1/swiozn.mpg      \n",
            "  inflating: data/s1/swiu4n.mpg      \n",
            "  inflating: data/s1/swiu5s.mpg      \n",
            "  inflating: data/s1/swiu6p.mpg      \n",
            "  inflating: data/s1/swiu7a.mpg      \n",
            "  inflating: data/s1/swwc4n.mpg      \n",
            "  inflating: data/s1/swwc5s.mpg      \n",
            "  inflating: data/s1/swwc6p.mpg      \n",
            "  inflating: data/s1/swwc7a.mpg      \n",
            "  inflating: data/s1/swwi8n.mpg      \n",
            "  inflating: data/s1/swwi9s.mpg      \n",
            "  inflating: data/s1/swwj1a.mpg      \n",
            "  inflating: data/s1/swwjzp.mpg      \n",
            "  inflating: data/s1/swwp2n.mpg      \n",
            "  inflating: data/s1/swwp3s.mpg      \n",
            "  inflating: data/s1/swwp4p.mpg      \n",
            "  inflating: data/s1/swwp5a.mpg      \n",
            "  inflating: data/s1/swwv6n.mpg      \n",
            "  inflating: data/s1/swwv7s.mpg      \n",
            "  inflating: data/s1/swwv8p.mpg      \n",
            "  inflating: data/s1/swwv9a.mpg      \n",
            "  inflating: data/s1/Thumbs.db       \n"
          ]
        }
      ],
      "source": [
        "!unzip \"/content/gdrive/MyDrive/LipNet/data.zip\""
      ],
      "id": "ntc24_Q-Wn98"
    },
    {
      "cell_type": "markdown",
      "metadata": {
        "id": "7a19e88e-c7b9-45c1-ae1e-f2109329c71b"
      },
      "source": [
        "# 1. Build Data Loading Functions"
      ],
      "id": "7a19e88e-c7b9-45c1-ae1e-f2109329c71b"
    },
    {
      "cell_type": "code",
      "execution_count": null,
      "metadata": {
        "id": "8fb99c90-e05a-437f-839d-6e772f8c1dd5"
      },
      "outputs": [],
      "source": [
        "import gdown"
      ],
      "id": "8fb99c90-e05a-437f-839d-6e772f8c1dd5"
    },
    {
      "cell_type": "code",
      "execution_count": null,
      "metadata": {
        "id": "c019e4c6-2af3-4160-99ea-5c8cb009f1a7"
      },
      "outputs": [],
      "source": [
        "url = 'https://drive.google.com/uc?id=1YlvpDLix3S-U8fd-gqRwPcWXAXm8JwjL'\n",
        "output = 'data.zip'\n",
        "gdown.download(url, output, quiet=False)\n",
        "gdown.extractall('data.zip')"
      ],
      "id": "c019e4c6-2af3-4160-99ea-5c8cb009f1a7"
    },
    {
      "cell_type": "code",
      "execution_count": null,
      "metadata": {
        "id": "8548cc59-6dfc-4acc-abc3-3e65212db02e"
      },
      "outputs": [],
      "source": [
        "def load_video(path:str) -> List[float]: # path --> each video path\n",
        "\n",
        "    cap = cv2.VideoCapture(path)\n",
        "    frames = []\n",
        "    for _ in range(int(cap.get(cv2.CAP_PROP_FRAME_COUNT))):\n",
        "        ret, frame = cap.read()\n",
        "        frame = tf.image.rgb_to_grayscale(frame)\n",
        "        frames.append(frame[190:236,80:220,:]) #focuouse on lips part by cropping the image\n",
        "\n",
        "        #Each video has 75 frame and each frame is now 236-190 = 46 width and 220-80 = 140 height\n",
        "    cap.release()\n",
        "\n",
        "    mean = tf.math.reduce_mean(frames) #calculating the overall mean\n",
        "    std = tf.math.reduce_std(tf.cast(frames, tf.float32)) #calculating the overall sd\n",
        "    return tf.cast((frames - mean), tf.float32) / std # standardizing each frame"
      ],
      "id": "8548cc59-6dfc-4acc-abc3-3e65212db02e"
    },
    {
      "cell_type": "code",
      "execution_count": null,
      "metadata": {
        "id": "ec735e0b-ec98-4eb0-8f49-c35527d6670a"
      },
      "outputs": [],
      "source": [
        "vocab = [x for x in \"abcdefghijklmnopqrstuvwxyz'?!123456789 \"]"
      ],
      "id": "ec735e0b-ec98-4eb0-8f49-c35527d6670a"
    },
    {
      "cell_type": "code",
      "execution_count": null,
      "metadata": {
        "colab": {
          "base_uri": "https://localhost:8080/"
        },
        "id": "be04e972-d7a5-4a72-82d8-a6bdde1f3ce6",
        "outputId": "a7c3100c-166d-44ce-917b-b66a81624107"
      },
      "outputs": [
        {
          "output_type": "stream",
          "name": "stdout",
          "text": [
            "The vocabulary is: ['', 'a', 'b', 'c', 'd', 'e', 'f', 'g', 'h', 'i', 'j', 'k', 'l', 'm', 'n', 'o', 'p', 'q', 'r', 's', 't', 'u', 'v', 'w', 'x', 'y', 'z', \"'\", '?', '!', '1', '2', '3', '4', '5', '6', '7', '8', '9', ' '] (size =40)\n"
          ]
        }
      ],
      "source": [
        "char_to_num = tf.keras.layers.StringLookup(vocabulary=vocab, oov_token=\"\")\n",
        "num_to_char = tf.keras.layers.StringLookup(\n",
        "    vocabulary=char_to_num.get_vocabulary(), oov_token=\"\", invert=True\n",
        ")\n",
        "\n",
        "print(\n",
        "    f\"The vocabulary is: {char_to_num.get_vocabulary()} \"\n",
        "    f\"(size ={char_to_num.vocabulary_size()})\"\n",
        ")"
      ],
      "id": "be04e972-d7a5-4a72-82d8-a6bdde1f3ce6"
    },
    {
      "cell_type": "code",
      "execution_count": null,
      "metadata": {
        "id": "559f7420-6802-45fa-9ca0-b1ff209b461c"
      },
      "outputs": [],
      "source": [
        "char_to_num.get_vocabulary()"
      ],
      "id": "559f7420-6802-45fa-9ca0-b1ff209b461c"
    },
    {
      "cell_type": "code",
      "execution_count": null,
      "metadata": {
        "colab": {
          "base_uri": "https://localhost:8080/"
        },
        "id": "797ff78b-b48f-4e14-bb62-8cd0ebf9501a",
        "outputId": "653c6a14-697b-4e76-bb87-ad87114265d3"
      },
      "outputs": [
        {
          "data": {
            "text/plain": [
              "<tf.Tensor: shape=(2,), dtype=int64, numpy=array([1, 2])>"
            ]
          },
          "execution_count": 11,
          "metadata": {},
          "output_type": "execute_result"
        }
      ],
      "source": [
        "char_to_num(['a','b'])"
      ],
      "id": "797ff78b-b48f-4e14-bb62-8cd0ebf9501a"
    },
    {
      "cell_type": "code",
      "execution_count": null,
      "metadata": {
        "colab": {
          "base_uri": "https://localhost:8080/"
        },
        "id": "8cd7f4f4-ae77-4509-a4f4-c723787ebad1",
        "outputId": "8fe051fa-d0e5-4b88-bf54-bea178db3f85"
      },
      "outputs": [
        {
          "data": {
            "text/plain": [
              "<tf.Tensor: shape=(4,), dtype=string, numpy=array([b'a', b'b', b'c', b'd'], dtype=object)>"
            ]
          },
          "execution_count": 12,
          "metadata": {},
          "output_type": "execute_result"
        }
      ],
      "source": [
        "num_to_char([1,  2,  3, 4])"
      ],
      "id": "8cd7f4f4-ae77-4509-a4f4-c723787ebad1"
    },
    {
      "cell_type": "code",
      "execution_count": null,
      "metadata": {
        "id": "9491bab5-6a3c-4f79-879a-8f9fbe73ae2e"
      },
      "outputs": [],
      "source": [
        "\"\"\"\n",
        "each alignments contains text like below\n",
        "\n",
        "0 23750 sil\n",
        "\n",
        "23750 29500 bin\n",
        "\n",
        "29500 34000 blue\n",
        "\n",
        "34000 35500 at\n",
        "\n",
        "35500 41000 f\n",
        "\n",
        "41000 47250 two\n",
        "\n",
        "47250 53000 now\n",
        "\n",
        "53000 74500 sil\n",
        "\"\"\"\n",
        "\n",
        "def load_alignments(path:str) -> List[str]:\n",
        "    with open(path, 'r') as f:\n",
        "        lines = f.readlines()\n",
        "    tokens = []\n",
        "    for line in lines:\n",
        "        line = line.split()\n",
        "        if line[2] != 'sil': # if the text is sil or silence then just ignore it\n",
        "            tokens = [*tokens,' ',line[2]]\n",
        "    return char_to_num(tf.reshape(tf.strings.unicode_split(tokens, input_encoding='UTF-8'), (-1)))[1:]"
      ],
      "id": "9491bab5-6a3c-4f79-879a-8f9fbe73ae2e"
    },
    {
      "cell_type": "code",
      "execution_count": null,
      "metadata": {
        "colab": {
          "base_uri": "https://localhost:8080/"
        },
        "id": "9Ts0QfWvyjtD",
        "outputId": "e84ea813-39ea-4986-e8c9-0c3ef2ec3319"
      },
      "outputs": [
        {
          "data": {
            "text/plain": [
              "<tf.Tensor: shape=(21,), dtype=int64, numpy=\n",
              "array([ 2,  9, 14, 39,  2, 12, 21,  5, 39,  1, 20, 39,  6, 39, 20, 23, 15,\n",
              "       39, 14, 15, 23])>"
            ]
          },
          "execution_count": 14,
          "metadata": {},
          "output_type": "execute_result"
        }
      ],
      "source": [
        "path = \"/content/data/alignments/s1/bbaf2n.align\"\n",
        "load_alignments(path)"
      ],
      "id": "9Ts0QfWvyjtD"
    },
    {
      "cell_type": "code",
      "execution_count": null,
      "metadata": {
        "id": "dd01ca9f-77fb-4643-a2aa-47dd82c5d66b"
      },
      "outputs": [],
      "source": [
        "def load_data(path: str):\n",
        "    path = bytes.decode(path.numpy())\n",
        "    file_name = path.split('/')[-1].split('.')[0]\n",
        "    # File name splitting for windows\n",
        "    #file_name = path.split('\\\\')[-1].split('.')[0]\n",
        "    video_path = os.path.join('data','s1',f'{file_name}.mpg')\n",
        "    alignment_path = os.path.join('data','alignments','s1',f'{file_name}.align')\n",
        "    frames = load_video(video_path)\n",
        "    alignments = load_alignments(alignment_path)\n",
        "\n",
        "    return frames, alignments"
      ],
      "id": "dd01ca9f-77fb-4643-a2aa-47dd82c5d66b"
    },
    {
      "cell_type": "code",
      "execution_count": null,
      "metadata": {
        "id": "8cb7cc58-31ae-4904-a805-1177a82717d2"
      },
      "outputs": [],
      "source": [
        "test_path = './data/s1/bbal6n.mpg'"
      ],
      "id": "8cb7cc58-31ae-4904-a805-1177a82717d2"
    },
    {
      "cell_type": "code",
      "execution_count": null,
      "metadata": {
        "colab": {
          "base_uri": "https://localhost:8080/",
          "height": 35
        },
        "id": "76aa964f-0c84-490d-897a-d00e3966e2c9",
        "outputId": "6564d401-1282-4a6b-9a04-3e220ab7795f"
      },
      "outputs": [
        {
          "data": {
            "application/vnd.google.colaboratory.intrinsic+json": {
              "type": "string"
            },
            "text/plain": [
              "''"
            ]
          },
          "execution_count": 17,
          "metadata": {},
          "output_type": "execute_result"
        }
      ],
      "source": [
        "tf.convert_to_tensor(test_path).numpy().decode('utf-8').split('\\\\')[-1].split('.')[0]"
      ],
      "id": "76aa964f-0c84-490d-897a-d00e3966e2c9"
    },
    {
      "cell_type": "code",
      "execution_count": null,
      "metadata": {
        "id": "eb602c71-8560-4f9e-b26b-08202febb937",
        "scrolled": true
      },
      "outputs": [],
      "source": [
        "frames, alignments = load_data(tf.convert_to_tensor(test_path))"
      ],
      "id": "eb602c71-8560-4f9e-b26b-08202febb937"
    },
    {
      "cell_type": "code",
      "execution_count": null,
      "metadata": {
        "colab": {
          "base_uri": "https://localhost:8080/"
        },
        "id": "-dWZewguFVex",
        "outputId": "3d263a18-414e-4cd9-82bf-a33328618280"
      },
      "outputs": [
        {
          "data": {
            "text/plain": [
              "<tf.Tensor: shape=(21,), dtype=int64, numpy=\n",
              "array([ 2,  9, 14, 39,  2, 12, 21,  5, 39,  1, 20, 39, 12, 39, 19,  9, 24,\n",
              "       39, 14, 15, 23])>"
            ]
          },
          "execution_count": 19,
          "metadata": {},
          "output_type": "execute_result"
        }
      ],
      "source": [
        "alignments"
      ],
      "id": "-dWZewguFVex"
    },
    {
      "cell_type": "code",
      "execution_count": null,
      "metadata": {
        "colab": {
          "base_uri": "https://localhost:8080/",
          "height": 244
        },
        "id": "0e3184a1-6b02-4b4f-84a8-a0a65f951ea2",
        "outputId": "cefd139e-33f3-4eb7-a10d-c67dfe002dc9"
      },
      "outputs": [
        {
          "data": {
            "text/plain": [
              "<matplotlib.image.AxesImage at 0x7d538e162aa0>"
            ]
          },
          "execution_count": 20,
          "metadata": {},
          "output_type": "execute_result"
        },
        {
          "data": {
            "image/png": "[encoded data removed]",
            "text/plain": [
              "<Figure size 640x480 with 1 Axes>"
            ]
          },
          "metadata": {},
          "output_type": "display_data"
        }
      ],
      "source": [
        "plt.imshow(frames[40])"
      ],
      "id": "0e3184a1-6b02-4b4f-84a8-a0a65f951ea2"
    },
    {
      "cell_type": "code",
      "execution_count": null,
      "metadata": {
        "colab": {
          "base_uri": "https://localhost:8080/"
        },
        "id": "d7ec0833-d54b-4073-84cf-92d011c60ec1",
        "outputId": "d6903e2c-7572-425c-ab1c-352f4b037aae"
      },
      "outputs": [
        {
          "data": {
            "text/plain": [
              "<tf.Tensor: shape=(21,), dtype=int64, numpy=\n",
              "array([ 2,  9, 14, 39,  2, 12, 21,  5, 39,  1, 20, 39, 12, 39, 19,  9, 24,\n",
              "       39, 14, 15, 23])>"
            ]
          },
          "execution_count": 21,
          "metadata": {},
          "output_type": "execute_result"
        }
      ],
      "source": [
        "alignments"
      ],
      "id": "d7ec0833-d54b-4073-84cf-92d011c60ec1"
    },
    {
      "cell_type": "code",
      "execution_count": null,
      "metadata": {
        "colab": {
          "base_uri": "https://localhost:8080/"
        },
        "id": "fe1ad370-b287-4b46-85a2-7c45b0bd9b10",
        "outputId": "ff2fe54e-6eda-4c82-9d3d-714ec5597247"
      },
      "outputs": [
        {
          "data": {
            "text/plain": [
              "<tf.Tensor: shape=(), dtype=string, numpy=b'bin blue at l six now'>"
            ]
          },
          "execution_count": 22,
          "metadata": {},
          "output_type": "execute_result"
        }
      ],
      "source": [
        "tf.strings.reduce_join([bytes.decode(x) for x in num_to_char(alignments.numpy()).numpy()])"
      ],
      "id": "fe1ad370-b287-4b46-85a2-7c45b0bd9b10"
    },
    {
      "cell_type": "code",
      "execution_count": null,
      "metadata": {
        "id": "6871031a-b0ba-4c76-a852-f6329b0f2606"
      },
      "outputs": [],
      "source": [
        "def mappable_function(path:str) ->List[str]:\n",
        "    result = tf.py_function(load_data, [path], (tf.float32, tf.int64))\n",
        "    return result #it returns the video and the alignmetns in a list of length 2"
      ],
      "id": "6871031a-b0ba-4c76-a852-f6329b0f2606"
    },
    {
      "cell_type": "code",
      "execution_count": null,
      "metadata": {
        "id": "xp4t_a-dFgkQ"
      },
      "outputs": [],
      "source": [
        "temp = mappable_function(test_path)"
      ],
      "id": "xp4t_a-dFgkQ"
    },
    {
      "cell_type": "code",
      "execution_count": null,
      "metadata": {
        "colab": {
          "base_uri": "https://localhost:8080/"
        },
        "id": "LiiEqBnMFnvM",
        "outputId": "8b8e838d-c186-4552-8195-a2b97865a1aa"
      },
      "outputs": [
        {
          "data": {
            "text/plain": [
              "2"
            ]
          },
          "execution_count": 25,
          "metadata": {},
          "output_type": "execute_result"
        }
      ],
      "source": [
        "len(temp)"
      ],
      "id": "LiiEqBnMFnvM"
    },
    {
      "cell_type": "markdown",
      "metadata": {
        "id": "c40a7eb4-0c3e-4eab-9291-5611cb68ce08"
      },
      "source": [
        "# 2. Create Data Pipeline"
      ],
      "id": "c40a7eb4-0c3e-4eab-9291-5611cb68ce08"
    },
    {
      "cell_type": "code",
      "execution_count": null,
      "metadata": {
        "colab": {
          "base_uri": "https://localhost:8080/"
        },
        "id": "f066fea2-91b1-42ed-a67d-00566a1a53ff",
        "outputId": "bf182425-0dcc-4af0-dad0-f685ee01d291"
      },
      "outputs": [
        {
          "output_type": "stream",
          "name": "stdout",
          "text": [
            "1000\n"
          ]
        }
      ],
      "source": [
        "data = tf.data.Dataset.list_files('./data/s1/*.mpg') #list down all the files which has file format .mpg or our videos\n",
        "data = data.shuffle(500, reshuffle_each_iteration=False, seed=0) #shuffle each 500 videos and returns the data then shuffle next 500 videos and returns\n",
        "data = data.map(mappable_function) #returns the video and the alignments\n",
        "print(len(data))\n",
        "data = data.padded_batch(2, padded_shapes=([75,None,None,None],[40]))\n",
        "#[75,None,None,None] means no padding for videos\n",
        "#[40] means doing a padding for alignments with a length of 40\n",
        "data = data.prefetch(tf.data.AUTOTUNE)\n",
        "# Added for split\n",
        "train = data.take(150)\n",
        "test = data.skip(900)"
      ],
      "id": "f066fea2-91b1-42ed-a67d-00566a1a53ff"
    },
    {
      "cell_type": "code",
      "execution_count": null,
      "metadata": {
        "id": "yD2W6hFytQSD"
      },
      "outputs": [],
      "source": [
        "frame,alignments = data.as_numpy_iterator().next()"
      ],
      "id": "yD2W6hFytQSD"
    },
    {
      "cell_type": "code",
      "execution_count": null,
      "metadata": {
        "colab": {
          "base_uri": "https://localhost:8080/"
        },
        "id": "vC8EQuGU2p9x",
        "outputId": "486d1455-e1cf-4033-bc09-740b8e473374"
      },
      "outputs": [
        {
          "output_type": "execute_result",
          "data": {
            "text/plain": [
              "2"
            ]
          },
          "metadata": {},
          "execution_count": 15
        }
      ],
      "source": [
        "len(frame)"
      ],
      "id": "vC8EQuGU2p9x"
    },
    {
      "cell_type": "code",
      "execution_count": null,
      "metadata": {
        "colab": {
          "base_uri": "https://localhost:8080/"
        },
        "id": "O-Rhdk41xt6W",
        "outputId": "e311c170-b79d-4ea2-f1d5-384ad74fee35"
      },
      "outputs": [
        {
          "output_type": "execute_result",
          "data": {
            "text/plain": [
              "array([[16, 12,  1,  3,  5, 39,  2, 12, 21,  5, 39, 23,  9, 20,  8, 39,\n",
              "        16, 39, 14,  9, 14,  5, 39,  1,  7,  1,  9, 14,  0,  0,  0,  0,\n",
              "         0,  0,  0,  0,  0,  0,  0,  0],\n",
              "       [19,  5, 20, 39,  7, 18,  5,  5, 14, 39, 23,  9, 20,  8, 39,  4,\n",
              "        39, 26,  5, 18, 15, 39, 14, 15, 23,  0,  0,  0,  0,  0,  0,  0,\n",
              "         0,  0,  0,  0,  0,  0,  0,  0]])"
            ]
          },
          "metadata": {},
          "execution_count": 16
        }
      ],
      "source": [
        "alignments"
      ],
      "id": "O-Rhdk41xt6W"
    },
    {
      "cell_type": "code",
      "execution_count": null,
      "metadata": {
        "colab": {
          "base_uri": "https://localhost:8080/"
        },
        "id": "GNd-TOY5uesS",
        "outputId": "4468ba53-6e86-41f4-fa4a-106146fe06ce"
      },
      "outputs": [
        {
          "output_type": "execute_result",
          "data": {
            "text/plain": [
              "(2, 75, 46, 140, 1)"
            ]
          },
          "metadata": {},
          "execution_count": 17
        }
      ],
      "source": [
        "frame.shape"
      ],
      "id": "GNd-TOY5uesS"
    },
    {
      "cell_type": "code",
      "execution_count": null,
      "metadata": {
        "colab": {
          "base_uri": "https://localhost:8080/"
        },
        "id": "6b1365bd-7742-41d1-95d4-247021751c3a",
        "outputId": "bfc8e36a-3b83-42f9-8106-a32d6d63a8bf"
      },
      "outputs": [
        {
          "output_type": "execute_result",
          "data": {
            "text/plain": [
              "0"
            ]
          },
          "metadata": {},
          "execution_count": 18
        }
      ],
      "source": [
        "len(test)"
      ],
      "id": "6b1365bd-7742-41d1-95d4-247021751c3a"
    },
    {
      "cell_type": "code",
      "execution_count": null,
      "metadata": {
        "id": "5281bde8-fdc8-4da1-bd55-5a7929a9e80c"
      },
      "outputs": [],
      "source": [
        "frames, alignments = data.as_numpy_iterator().next()"
      ],
      "id": "5281bde8-fdc8-4da1-bd55-5a7929a9e80c"
    },
    {
      "cell_type": "code",
      "execution_count": null,
      "metadata": {
        "colab": {
          "base_uri": "https://localhost:8080/"
        },
        "id": "cbebe683-6afd-47fd-bba4-c83b4b13bb32",
        "outputId": "d3e23b30-4fe3-4d16-9ae0-a54f806c2ecb"
      },
      "outputs": [
        {
          "output_type": "execute_result",
          "data": {
            "text/plain": [
              "2"
            ]
          },
          "metadata": {},
          "execution_count": 20
        }
      ],
      "source": [
        "len(frames)"
      ],
      "id": "cbebe683-6afd-47fd-bba4-c83b4b13bb32"
    },
    {
      "cell_type": "code",
      "execution_count": null,
      "metadata": {
        "id": "5cf2d676-93a9-434c-b3c7-bdcc2577b2e7"
      },
      "outputs": [],
      "source": [
        "sample = data.as_numpy_iterator()"
      ],
      "id": "5cf2d676-93a9-434c-b3c7-bdcc2577b2e7"
    },
    {
      "cell_type": "code",
      "execution_count": null,
      "metadata": {
        "id": "efa6cd46-7079-46c0-b45b-832f339f6cb0",
        "scrolled": true
      },
      "outputs": [],
      "source": [
        "val = sample.next()"
      ],
      "id": "efa6cd46-7079-46c0-b45b-832f339f6cb0"
    },
    {
      "cell_type": "code",
      "execution_count": null,
      "metadata": {
        "id": "acf5eb4f-a0da-4a9a-bf24-af13e9cc2fbe"
      },
      "outputs": [],
      "source": [
        "imageio.mimsave('./animation.gif', val[0][0], fps=10)#saving the whole video in gif format with a fps equal to 10"
      ],
      "id": "acf5eb4f-a0da-4a9a-bf24-af13e9cc2fbe"
    },
    {
      "cell_type": "code",
      "execution_count": null,
      "metadata": {
        "colab": {
          "base_uri": "https://localhost:8080/",
          "height": 244
        },
        "id": "c33a87a2-d5e0-4ec9-b174-73ebf41bf03a",
        "outputId": "98c8c5c2-1107-4f6c-bb67-554b7e5016ac"
      },
      "outputs": [
        {
          "data": {
            "text/plain": [
              "<matplotlib.image.AxesImage at 0x7bbd261fbbb0>"
            ]
          },
          "execution_count": 85,
          "metadata": {},
          "output_type": "execute_result"
        },
        {
          "data": {
            "image/png": "[encoded data removed]",
            "text/plain": [
              "<Figure size 640x480 with 1 Axes>"
            ]
          },
          "metadata": {},
          "output_type": "display_data"
        }
      ],
      "source": [
        "# 0:videos, 0: 1st video out of the batch,  0: return the first frame in the video\n",
        "\n",
        "#val[0] --> video\n",
        "#val[1] --> alignments\n",
        "plt.imshow(val[0][0][35])"
      ],
      "id": "c33a87a2-d5e0-4ec9-b174-73ebf41bf03a"
    },
    {
      "cell_type": "code",
      "execution_count": null,
      "metadata": {
        "colab": {
          "base_uri": "https://localhost:8080/"
        },
        "id": "84593332-133c-4205-b7a6-8e235d5e2b3b",
        "outputId": "a3404364-638b-4c63-d05e-1f404e7dea50"
      },
      "outputs": [
        {
          "data": {
            "text/plain": [
              "<tf.Tensor: shape=(), dtype=string, numpy=b'set green with q zero please'>"
            ]
          },
          "execution_count": 23,
          "metadata": {},
          "output_type": "execute_result"
        }
      ],
      "source": [
        "tf.strings.reduce_join([num_to_char(word) for word in val[1][0]])"
      ],
      "id": "84593332-133c-4205-b7a6-8e235d5e2b3b"
    },
    {
      "cell_type": "markdown",
      "metadata": {
        "id": "0f47733c-83bc-465c-b118-b198b492ad37"
      },
      "source": [
        "# 3. Design the Deep Neural Network"
      ],
      "id": "0f47733c-83bc-465c-b118-b198b492ad37"
    },
    {
      "cell_type": "code",
      "execution_count": null,
      "metadata": {
        "id": "d8e9a497-191b-4842-afbd-26f5e13c43ba"
      },
      "outputs": [],
      "source": [
        "from tensorflow.keras.models import Sequential\n",
        "from tensorflow.keras.layers import Conv3D, LSTM, Dense, Dropout, Bidirectional, MaxPool3D, Activation, Reshape, SpatialDropout3D, BatchNormalization, TimeDistributed, Flatten\n",
        "from tensorflow.keras.optimizers import Adam\n",
        "from tensorflow.keras.callbacks import ModelCheckpoint, LearningRateScheduler"
      ],
      "id": "d8e9a497-191b-4842-afbd-26f5e13c43ba"
    },
    {
      "cell_type": "code",
      "execution_count": null,
      "metadata": {
        "colab": {
          "base_uri": "https://localhost:8080/"
        },
        "id": "3f753ed2-70b9-4236-8c1c-08ca065dc8bf",
        "outputId": "bbdf5392-ebcf-4721-a704-dc58c2e23610"
      },
      "outputs": [
        {
          "data": {
            "text/plain": [
              "(75, 46, 140, 1)"
            ]
          },
          "execution_count": 25,
          "metadata": {},
          "output_type": "execute_result"
        }
      ],
      "source": [
        "data.as_numpy_iterator().next()[0][0].shape"
      ],
      "id": "3f753ed2-70b9-4236-8c1c-08ca065dc8bf"
    },
    {
      "cell_type": "code",
      "execution_count": null,
      "metadata": {
        "id": "f9171056-a352-491a-9ed9-92b28ced268e"
      },
      "outputs": [],
      "source": [
        "model = Sequential()\n",
        "model.add(Conv3D(128, 3, input_shape=(75,46,140,1), padding='same'))\n",
        "model.add(Activation('relu'))\n",
        "model.add(MaxPool3D((1,2,2)))\n",
        "\n",
        "model.add(Conv3D(256, 3, padding='same'))\n",
        "model.add(Activation('relu'))\n",
        "model.add(MaxPool3D((1,2,2)))\n",
        "\n",
        "model.add(Conv3D(75, 3, padding='same'))\n",
        "model.add(Activation('relu'))\n",
        "model.add(MaxPool3D((1,2,2)))\n",
        "\n",
        "model.add(TimeDistributed(Flatten()))\n",
        "\n",
        "model.add(Bidirectional(LSTM(128, kernel_initializer='Orthogonal', return_sequences=True)))\n",
        "model.add(Dropout(.5))\n",
        "\n",
        "model.add(Bidirectional(LSTM(128, kernel_initializer='Orthogonal', return_sequences=True)))\n",
        "model.add(Dropout(.5))\n",
        "\n",
        "model.add(Dense(char_to_num.vocabulary_size()+1, kernel_initializer='he_normal', activation='softmax'))"
      ],
      "id": "f9171056-a352-491a-9ed9-92b28ced268e"
    },
    {
      "cell_type": "code",
      "execution_count": null,
      "metadata": {
        "collapsed": true,
        "id": "78851825-2bcd-42a9-b7f2-28bb5a6bf43a",
        "outputId": "3a62de88-2d5d-4801-b627-0169e81f393a"
      },
      "outputs": [
        {
          "name": "stdout",
          "output_type": "stream",
          "text": [
            "Model: \"sequential\"\n",
            "_________________________________________________________________\n",
            " Layer (type)                Output Shape              Param #   \n",
            "=================================================================\n",
            " conv3d (Conv3D)             (None, 75, 46, 140, 128)  3584      \n",
            "                                                                 \n",
            " activation (Activation)     (None, 75, 46, 140, 128)  0         \n",
            "                                                                 \n",
            " max_pooling3d (MaxPooling3D  (None, 75, 23, 70, 128)  0         \n",
            " )                                                               \n",
            "                                                                 \n",
            " conv3d_1 (Conv3D)           (None, 75, 23, 70, 256)   884992    \n",
            "                                                                 \n",
            " activation_1 (Activation)   (None, 75, 23, 70, 256)   0         \n",
            "                                                                 \n",
            " max_pooling3d_1 (MaxPooling  (None, 75, 11, 35, 256)  0         \n",
            " 3D)                                                             \n",
            "                                                                 \n",
            " conv3d_2 (Conv3D)           (None, 75, 11, 35, 75)    518475    \n",
            "                                                                 \n",
            " activation_2 (Activation)   (None, 75, 11, 35, 75)    0         \n",
            "                                                                 \n",
            " max_pooling3d_2 (MaxPooling  (None, 75, 5, 17, 75)    0         \n",
            " 3D)                                                             \n",
            "                                                                 \n",
            " time_distributed (TimeDistr  (None, 75, 6375)         0         \n",
            " ibuted)                                                         \n",
            "                                                                 \n",
            " bidirectional (Bidirectiona  (None, 75, 256)          6660096   \n",
            " l)                                                              \n",
            "                                                                 \n",
            " dropout (Dropout)           (None, 75, 256)           0         \n",
            "                                                                 \n",
            " bidirectional_1 (Bidirectio  (None, 75, 256)          394240    \n",
            " nal)                                                            \n",
            "                                                                 \n",
            " dropout_1 (Dropout)         (None, 75, 256)           0         \n",
            "                                                                 \n",
            " dense (Dense)               (None, 75, 41)            10537     \n",
            "                                                                 \n",
            "=================================================================\n",
            "Total params: 8,471,924\n",
            "Trainable params: 8,471,924\n",
            "Non-trainable params: 0\n",
            "_________________________________________________________________\n"
          ]
        }
      ],
      "source": [
        "model.summary()"
      ],
      "id": "78851825-2bcd-42a9-b7f2-28bb5a6bf43a"
    },
    {
      "cell_type": "code",
      "execution_count": null,
      "metadata": {
        "id": "f4b4798c-a65a-4c47-9e2a-3b09dc98d320"
      },
      "outputs": [],
      "source": [
        "5*17*75"
      ],
      "id": "f4b4798c-a65a-4c47-9e2a-3b09dc98d320"
    },
    {
      "cell_type": "code",
      "execution_count": null,
      "metadata": {
        "colab": {
          "base_uri": "https://localhost:8080/"
        },
        "id": "e5c2eae0-c359-41a4-97a0-75c44dccb7d1",
        "outputId": "2cbcc4b2-2f6d-40e1-802e-cfc9ce1f7631"
      },
      "outputs": [
        {
          "output_type": "stream",
          "name": "stdout",
          "text": [
            "1/1 [==============================] - 7s 7s/step\n"
          ]
        }
      ],
      "source": [
        "yhat = model.predict(val[0])"
      ],
      "id": "e5c2eae0-c359-41a4-97a0-75c44dccb7d1"
    },
    {
      "cell_type": "code",
      "execution_count": null,
      "metadata": {
        "colab": {
          "base_uri": "https://localhost:8080/"
        },
        "id": "ffdc7319-0d69-4f7e-a6d4-ce72deb81c0b",
        "outputId": "cb3a93be-e67e-492a-8560-dadd18bca7fe"
      },
      "outputs": [
        {
          "output_type": "execute_result",
          "data": {
            "text/plain": [
              "<tf.Tensor: shape=(), dtype=string, numpy=b'                                                                     222222'>"
            ]
          },
          "metadata": {},
          "execution_count": 26
        }
      ],
      "source": [
        "tf.strings.reduce_join([num_to_char(x) for x in tf.argmax(yhat[0],axis=1)])"
      ],
      "id": "ffdc7319-0d69-4f7e-a6d4-ce72deb81c0b"
    },
    {
      "cell_type": "code",
      "execution_count": null,
      "metadata": {
        "colab": {
          "base_uri": "https://localhost:8080/"
        },
        "id": "6ed47531-8317-4255-9a12-b757642258e6",
        "outputId": "eb024d0d-91b2-468d-a97e-200713606439"
      },
      "outputs": [
        {
          "output_type": "execute_result",
          "data": {
            "text/plain": [
              "<tf.Tensor: shape=(), dtype=string, numpy=b'                                                                     222222'>"
            ]
          },
          "metadata": {},
          "execution_count": 27
        }
      ],
      "source": [
        "tf.strings.reduce_join([num_to_char(tf.argmax(x)) for x in yhat[0]])"
      ],
      "id": "6ed47531-8317-4255-9a12-b757642258e6"
    },
    {
      "cell_type": "code",
      "execution_count": null,
      "metadata": {
        "colab": {
          "base_uri": "https://localhost:8080/"
        },
        "id": "7c37b9b9-5298-4038-9c33-5031d1b457f0",
        "outputId": "4a276394-a7f2-4c23-ad11-b6f782ac0129"
      },
      "outputs": [
        {
          "output_type": "execute_result",
          "data": {
            "text/plain": [
              "(None, 75, 46, 140, 1)"
            ]
          },
          "metadata": {},
          "execution_count": 28
        }
      ],
      "source": [
        "model.input_shape"
      ],
      "id": "7c37b9b9-5298-4038-9c33-5031d1b457f0"
    },
    {
      "cell_type": "code",
      "execution_count": null,
      "metadata": {
        "colab": {
          "base_uri": "https://localhost:8080/"
        },
        "id": "98b316a4-5322-4782-8e36-4b3c1a696d85",
        "outputId": "e6dc12f3-38eb-4f2a-9aee-817d974e2c8b"
      },
      "outputs": [
        {
          "data": {
            "text/plain": [
              "(None, 75, 41)"
            ]
          },
          "execution_count": 45,
          "metadata": {},
          "output_type": "execute_result"
        }
      ],
      "source": [
        "model.output_shape"
      ],
      "id": "98b316a4-5322-4782-8e36-4b3c1a696d85"
    },
    {
      "cell_type": "markdown",
      "metadata": {
        "id": "2ec02176-5c26-46c3-aff7-8352e6563c7d"
      },
      "source": [
        "# 4. Setup Training Options and Train"
      ],
      "id": "2ec02176-5c26-46c3-aff7-8352e6563c7d"
    },
    {
      "cell_type": "code",
      "execution_count": null,
      "metadata": {
        "id": "ab015fd0-7fb4-4d5d-9fa2-30a05dbd515a"
      },
      "outputs": [],
      "source": [
        "def scheduler(epoch, lr):\n",
        "    if epoch < 30:\n",
        "        return lr\n",
        "    else:\n",
        "        return lr * tf.math.exp(-0.1)"
      ],
      "id": "ab015fd0-7fb4-4d5d-9fa2-30a05dbd515a"
    },
    {
      "cell_type": "code",
      "execution_count": null,
      "metadata": {
        "id": "c564d5c9-db54-4e88-b311-9aeab7fb3e69"
      },
      "outputs": [],
      "source": [
        "def CTCLoss(y_true, y_pred):\n",
        "    batch_len = tf.cast(tf.shape(y_true)[0], dtype=\"int64\")\n",
        "    input_length = tf.cast(tf.shape(y_pred)[1], dtype=\"int64\")\n",
        "    label_length = tf.cast(tf.shape(y_true)[1], dtype=\"int64\")\n",
        "\n",
        "    input_length = input_length * tf.ones(shape=(batch_len, 1), dtype=\"int64\")\n",
        "    label_length = label_length * tf.ones(shape=(batch_len, 1), dtype=\"int64\")\n",
        "\n",
        "    loss = tf.keras.backend.ctc_batch_cost(y_true, y_pred, input_length, label_length)\n",
        "    return loss"
      ],
      "id": "c564d5c9-db54-4e88-b311-9aeab7fb3e69"
    },
    {
      "cell_type": "code",
      "execution_count": null,
      "metadata": {
        "id": "a26dc3fc-a19c-4378-bd8c-e2b597a1d15c"
      },
      "outputs": [],
      "source": [
        "class ProduceExample(tf.keras.callbacks.Callback):\n",
        "    def __init__(self, dataset) -> None:\n",
        "        self.dataset = dataset.as_numpy_iterator()\n",
        "\n",
        "    def on_epoch_end(self, epoch, logs=None) -> None:\n",
        "        data = self.dataset.next()\n",
        "        yhat = self.model.predict(data[0])\n",
        "        decoded = tf.keras.backend.ctc_decode(yhat, [75,75], greedy=False)[0][0].numpy()\n",
        "        for x in range(len(yhat)):\n",
        "            print('Original:', tf.strings.reduce_join(num_to_char(data[1][x])).numpy().decode('utf-8'))\n",
        "            print('Prediction:', tf.strings.reduce_join(num_to_char(decoded[x])).numpy().decode('utf-8'))\n",
        "            print('~'*100)"
      ],
      "id": "a26dc3fc-a19c-4378-bd8c-e2b597a1d15c"
    },
    {
      "cell_type": "code",
      "execution_count": null,
      "metadata": {
        "id": "04be90d8-2482-46f9-b513-d5f4f8001c7e"
      },
      "outputs": [],
      "source": [
        "model.compile(optimizer=Adam(learning_rate=0.0001), loss=CTCLoss)"
      ],
      "id": "04be90d8-2482-46f9-b513-d5f4f8001c7e"
    },
    {
      "cell_type": "code",
      "execution_count": null,
      "metadata": {
        "id": "eab49367-3f1e-4464-ae76-dbd07549d97e"
      },
      "outputs": [],
      "source": [
        "#checkpoint_callback = ModelCheckpoint(os.path.join('models','checkpoint'), monitor='loss', save_weights_only=True)\n",
        "checkpoint_callback = ModelCheckpoint(os.path.join('/content/gdrive/MyDrive/LipNet/model_weights_2','checkpoint'), monitor='loss', save_weights_only=True)"
      ],
      "id": "eab49367-3f1e-4464-ae76-dbd07549d97e"
    },
    {
      "cell_type": "code",
      "execution_count": null,
      "metadata": {
        "id": "e085a632-d464-46ef-8777-959cad4adb2c"
      },
      "outputs": [],
      "source": [
        "schedule_callback = LearningRateScheduler(scheduler)"
      ],
      "id": "e085a632-d464-46ef-8777-959cad4adb2c"
    },
    {
      "cell_type": "code",
      "execution_count": null,
      "metadata": {
        "id": "48eca991-90ab-4592-8a79-b50e9ca015b6"
      },
      "outputs": [],
      "source": [
        "#example_callback = ProduceExample(test)"
      ],
      "id": "48eca991-90ab-4592-8a79-b50e9ca015b6"
    },
    {
      "cell_type": "code",
      "execution_count": null,
      "metadata": {
        "colab": {
          "base_uri": "https://localhost:8080/"
        },
        "id": "8ffba483-aa61-4bbe-a15f-a73e1ddf097c",
        "outputId": "7e6f3997-72e4-4c8a-9717-50ba9d23acf7"
      },
      "outputs": [
        {
          "name": "stdout",
          "output_type": "stream",
          "text": [
            "Epoch 1/50\n",
            "150/150 [==============================] - 171s 1s/step - loss: 99.8431 - lr: 1.0000e-04\n",
            "Epoch 2/50\n",
            "150/150 [==============================] - 150s 1s/step - loss: 77.7571 - lr: 1.0000e-04\n",
            "Epoch 3/50\n",
            "150/150 [==============================] - 151s 1s/step - loss: 75.1017 - lr: 1.0000e-04\n",
            "Epoch 4/50\n",
            "150/150 [==============================] - 150s 1000ms/step - loss: 72.7205 - lr: 1.0000e-04\n",
            "Epoch 5/50\n",
            "150/150 [==============================] - 150s 999ms/step - loss: 70.7609 - lr: 1.0000e-04\n",
            "Epoch 6/50\n",
            "150/150 [==============================] - 150s 1000ms/step - loss: 69.1993 - lr: 1.0000e-04\n",
            "Epoch 7/50\n",
            "150/150 [==============================] - 149s 993ms/step - loss: 68.8182 - lr: 1.0000e-04\n",
            "Epoch 8/50\n",
            "150/150 [==============================] - 150s 999ms/step - loss: 67.3262 - lr: 1.0000e-04\n",
            "Epoch 9/50\n",
            "150/150 [==============================] - 151s 1s/step - loss: 65.8895 - lr: 1.0000e-04\n",
            "Epoch 10/50\n",
            "150/150 [==============================] - 151s 1s/step - loss: 65.3306 - lr: 1.0000e-04\n",
            "Epoch 11/50\n",
            "150/150 [==============================] - 149s 994ms/step - loss: 64.3704 - lr: 1.0000e-04\n",
            "Epoch 12/50\n",
            "150/150 [==============================] - 149s 994ms/step - loss: 63.5466 - lr: 1.0000e-04\n",
            "Epoch 13/50\n",
            "150/150 [==============================] - 151s 1s/step - loss: 63.0184 - lr: 1.0000e-04\n",
            "Epoch 14/50\n",
            "150/150 [==============================] - 151s 1s/step - loss: 62.5224 - lr: 1.0000e-04\n",
            "Epoch 15/50\n",
            "150/150 [==============================] - 150s 1s/step - loss: 61.0822 - lr: 1.0000e-04\n",
            "Epoch 16/50\n",
            "150/150 [==============================] - 151s 1s/step - loss: 61.1983 - lr: 1.0000e-04\n",
            "Epoch 17/50\n",
            "150/150 [==============================] - 149s 992ms/step - loss: 60.7181 - lr: 1.0000e-04\n",
            "Epoch 18/50\n",
            "150/150 [==============================] - 150s 998ms/step - loss: 59.9029 - lr: 1.0000e-04\n",
            "Epoch 19/50\n",
            "150/150 [==============================] - 150s 1s/step - loss: 59.4920 - lr: 1.0000e-04\n",
            "Epoch 20/50\n",
            "150/150 [==============================] - 147s 981ms/step - loss: 59.0488 - lr: 1.0000e-04\n",
            "Epoch 21/50\n",
            "150/150 [==============================] - 147s 982ms/step - loss: 56.6266 - lr: 1.0000e-04\n",
            "Epoch 22/50\n",
            "150/150 [==============================] - 150s 1s/step - loss: 55.1830 - lr: 1.0000e-04\n",
            "Epoch 23/50\n",
            "150/150 [==============================] - 151s 1s/step - loss: 54.7618 - lr: 1.0000e-04\n",
            "Epoch 24/50\n",
            "150/150 [==============================] - 148s 988ms/step - loss: 53.8910 - lr: 1.0000e-04\n",
            "Epoch 25/50\n",
            "150/150 [==============================] - 150s 1s/step - loss: 53.3036 - lr: 1.0000e-04\n",
            "Epoch 26/50\n",
            "150/150 [==============================] - 148s 984ms/step - loss: 52.4883 - lr: 1.0000e-04\n",
            "Epoch 27/50\n",
            "150/150 [==============================] - 147s 978ms/step - loss: 51.6312 - lr: 1.0000e-04\n",
            "Epoch 28/50\n",
            "150/150 [==============================] - 146s 972ms/step - loss: 51.3226 - lr: 1.0000e-04\n",
            "Epoch 29/50\n",
            "150/150 [==============================] - 150s 1s/step - loss: 51.3913 - lr: 1.0000e-04\n",
            "Epoch 30/50\n",
            "150/150 [==============================] - 148s 985ms/step - loss: 50.4351 - lr: 1.0000e-04\n",
            "Epoch 31/50\n",
            "150/150 [==============================] - 149s 992ms/step - loss: 49.7026 - lr: 9.0484e-05\n",
            "Epoch 32/50\n",
            "150/150 [==============================] - 148s 987ms/step - loss: 49.3434 - lr: 8.1873e-05\n",
            "Epoch 33/50\n",
            "150/150 [==============================] - 146s 975ms/step - loss: 48.1735 - lr: 7.4082e-05\n",
            "Epoch 34/50\n",
            "150/150 [==============================] - 147s 982ms/step - loss: 47.7354 - lr: 6.7032e-05\n",
            "Epoch 35/50\n",
            "150/150 [==============================] - 148s 987ms/step - loss: 47.7097 - lr: 6.0653e-05\n",
            "Epoch 36/50\n",
            "150/150 [==============================] - 148s 989ms/step - loss: 47.0788 - lr: 5.4881e-05\n",
            "Epoch 37/50\n",
            "150/150 [==============================] - 147s 983ms/step - loss: 46.5839 - lr: 4.9659e-05\n",
            "Epoch 38/50\n",
            "150/150 [==============================] - 151s 1s/step - loss: 46.1562 - lr: 4.4933e-05\n",
            "Epoch 39/50\n",
            "150/150 [==============================] - 146s 974ms/step - loss: 45.6986 - lr: 4.0657e-05\n",
            "Epoch 40/50\n",
            "150/150 [==============================] - 148s 987ms/step - loss: 45.3748 - lr: 3.6788e-05\n",
            "Epoch 41/50\n",
            "150/150 [==============================] - 150s 1000ms/step - loss: 45.2028 - lr: 3.3287e-05\n",
            "Epoch 42/50\n",
            "150/150 [==============================] - 148s 990ms/step - loss: 44.6507 - lr: 3.0119e-05\n",
            "Epoch 43/50\n",
            "150/150 [==============================] - 149s 996ms/step - loss: 44.3113 - lr: 2.7253e-05\n",
            "Epoch 44/50\n",
            "150/150 [==============================] - 150s 998ms/step - loss: 43.8684 - lr: 2.4660e-05\n",
            "Epoch 45/50\n",
            "150/150 [==============================] - 148s 989ms/step - loss: 43.2733 - lr: 2.2313e-05\n",
            "Epoch 46/50\n",
            "150/150 [==============================] - 147s 979ms/step - loss: 43.1301 - lr: 2.0190e-05\n",
            "Epoch 47/50\n",
            "150/150 [==============================] - 149s 991ms/step - loss: 42.3189 - lr: 1.8268e-05\n",
            "Epoch 48/50\n",
            "150/150 [==============================] - 148s 988ms/step - loss: 42.6286 - lr: 1.6530e-05\n",
            "Epoch 49/50\n",
            "150/150 [==============================] - 149s 990ms/step - loss: 42.1810 - lr: 1.4957e-05\n",
            "Epoch 50/50\n",
            "150/150 [==============================] - 150s 999ms/step - loss: 41.7593 - lr: 1.3534e-05\n"
          ]
        },
        {
          "data": {
            "text/plain": [
              "<keras.src.callbacks.History at 0x7d53096dc250>"
            ]
          },
          "execution_count": 43,
          "metadata": {},
          "output_type": "execute_result"
        }
      ],
      "source": [
        "model.fit(train, validation_data=test, epochs=50, callbacks=[checkpoint_callback, schedule_callback])"
      ],
      "id": "8ffba483-aa61-4bbe-a15f-a73e1ddf097c"
    },
    {
      "cell_type": "code",
      "execution_count": null,
      "metadata": {
        "id": "Vys7OGYM_fvp"
      },
      "outputs": [],
      "source": [
        "#model.save_weights('/content/gdrive/MyDrive/LipNet/Weights/my_checkpoint')"
      ],
      "id": "Vys7OGYM_fvp"
    },
    {
      "cell_type": "markdown",
      "metadata": {
        "id": "kJftcF9XUOKD"
      },
      "source": [
        "#Training2"
      ],
      "id": "kJftcF9XUOKD"
    },
    {
      "cell_type": "code",
      "execution_count": null,
      "metadata": {
        "colab": {
          "base_uri": "https://localhost:8080/"
        },
        "id": "L5Cbhx_KUPuy",
        "outputId": "9ce91029-6484-432d-a73a-b9fd4906c0c5"
      },
      "outputs": [
        {
          "output_type": "execute_result",
          "data": {
            "text/plain": [
              "<tensorflow.python.checkpoint.checkpoint.CheckpointLoadStatus at 0x7c6583febd90>"
            ]
          },
          "metadata": {},
          "execution_count": 34
        }
      ],
      "source": [
        "model.load_weights('/content/gdrive/MyDrive/LipNet/model_weights_1/checkpoint')"
      ],
      "id": "L5Cbhx_KUPuy"
    },
    {
      "cell_type": "code",
      "execution_count": null,
      "metadata": {
        "colab": {
          "base_uri": "https://localhost:8080/"
        },
        "id": "_Un0L0n1UvDY",
        "outputId": "4dbbffcd-8fe3-4a15-a55a-b9abb72a7e2e"
      },
      "outputs": [
        {
          "output_type": "stream",
          "name": "stdout",
          "text": [
            "Epoch 51/100\n",
            "150/150 [==============================] - 170s 963ms/step - loss: 42.1343 - lr: 1.2246e-05\n",
            "Epoch 52/100\n",
            "150/150 [==============================] - 145s 965ms/step - loss: 41.2351 - lr: 1.1080e-05\n",
            "Epoch 53/100\n",
            "150/150 [==============================] - 145s 966ms/step - loss: 41.4514 - lr: 1.0026e-05\n",
            "Epoch 54/100\n",
            "150/150 [==============================] - 144s 959ms/step - loss: 41.2439 - lr: 9.0718e-06\n",
            "Epoch 55/100\n",
            "150/150 [==============================] - 145s 965ms/step - loss: 41.0137 - lr: 8.2085e-06\n",
            "Epoch 56/100\n",
            "150/150 [==============================] - 144s 961ms/step - loss: 40.7341 - lr: 7.4273e-06\n",
            "Epoch 57/100\n",
            "150/150 [==============================] - 146s 973ms/step - loss: 41.3394 - lr: 6.7205e-06\n",
            "Epoch 58/100\n",
            "150/150 [==============================] - 149s 992ms/step - loss: 40.3949 - lr: 6.0810e-06\n",
            "Epoch 59/100\n",
            "150/150 [==============================] - 145s 965ms/step - loss: 40.4102 - lr: 5.5023e-06\n",
            "Epoch 60/100\n",
            "150/150 [==============================] - 146s 971ms/step - loss: 41.0786 - lr: 4.9787e-06\n",
            "Epoch 61/100\n",
            "150/150 [==============================] - 143s 955ms/step - loss: 40.6277 - lr: 4.5049e-06\n",
            "Epoch 62/100\n",
            "150/150 [==============================] - 145s 963ms/step - loss: 40.7189 - lr: 4.0762e-06\n",
            "Epoch 63/100\n",
            "150/150 [==============================] - 145s 965ms/step - loss: 40.3285 - lr: 3.6883e-06\n",
            "Epoch 64/100\n",
            "150/150 [==============================] - 145s 968ms/step - loss: 40.2682 - lr: 3.3373e-06\n",
            "Epoch 65/100\n",
            "150/150 [==============================] - 145s 965ms/step - loss: 39.9962 - lr: 3.0197e-06\n",
            "Epoch 66/100\n",
            "150/150 [==============================] - 145s 966ms/step - loss: 40.0635 - lr: 2.7324e-06\n",
            "Epoch 67/100\n",
            "150/150 [==============================] - 144s 960ms/step - loss: 40.3755 - lr: 2.4723e-06\n",
            "Epoch 68/100\n",
            "150/150 [==============================] - 144s 962ms/step - loss: 40.0374 - lr: 2.2371e-06\n",
            "Epoch 69/100\n",
            "150/150 [==============================] - 146s 972ms/step - loss: 40.3284 - lr: 2.0242e-06\n",
            "Epoch 70/100\n",
            "150/150 [==============================] - 144s 962ms/step - loss: 39.9534 - lr: 1.8316e-06\n",
            "Epoch 71/100\n",
            "150/150 [==============================] - 145s 968ms/step - loss: 40.6605 - lr: 1.6573e-06\n",
            "Epoch 72/100\n",
            "150/150 [==============================] - 145s 968ms/step - loss: 40.1419 - lr: 1.4996e-06\n",
            "Epoch 73/100\n",
            "150/150 [==============================] - 146s 972ms/step - loss: 40.2584 - lr: 1.3569e-06\n",
            "Epoch 74/100\n",
            "150/150 [==============================] - 145s 965ms/step - loss: 39.9703 - lr: 1.2277e-06\n",
            "Epoch 75/100\n",
            "150/150 [==============================] - 145s 966ms/step - loss: 39.8590 - lr: 1.1109e-06\n",
            "Epoch 76/100\n",
            "150/150 [==============================] - 145s 966ms/step - loss: 39.9991 - lr: 1.0052e-06\n",
            "Epoch 77/100\n",
            "150/150 [==============================] - 145s 968ms/step - loss: 40.1563 - lr: 9.0953e-07\n",
            "Epoch 78/100\n",
            "150/150 [==============================] - 144s 959ms/step - loss: 39.9753 - lr: 8.2297e-07\n",
            "Epoch 79/100\n",
            "150/150 [==============================] - 145s 964ms/step - loss: 40.3619 - lr: 7.4466e-07\n",
            "Epoch 80/100\n",
            "150/150 [==============================] - 144s 956ms/step - loss: 40.0562 - lr: 6.7379e-07\n",
            "Epoch 81/100\n",
            "150/150 [==============================] - 144s 958ms/step - loss: 39.6573 - lr: 6.0967e-07\n",
            "Epoch 82/100\n",
            "150/150 [==============================] - 144s 959ms/step - loss: 40.3236 - lr: 5.5165e-07\n",
            "Epoch 83/100\n",
            "150/150 [==============================] - 145s 969ms/step - loss: 39.7352 - lr: 4.9916e-07\n",
            "Epoch 84/100\n",
            "150/150 [==============================] - 145s 968ms/step - loss: 39.7737 - lr: 4.5166e-07\n",
            "Epoch 85/100\n",
            "150/150 [==============================] - 145s 963ms/step - loss: 40.0156 - lr: 4.0868e-07\n",
            "Epoch 86/100\n",
            "150/150 [==============================] - 145s 968ms/step - loss: 39.9219 - lr: 3.6979e-07\n",
            "Epoch 87/100\n",
            "150/150 [==============================] - 145s 967ms/step - loss: 39.8075 - lr: 3.3460e-07\n",
            "Epoch 88/100\n",
            "150/150 [==============================] - 144s 958ms/step - loss: 39.4987 - lr: 3.0275e-07\n",
            "Epoch 89/100\n",
            "150/150 [==============================] - 143s 952ms/step - loss: 39.9023 - lr: 2.7394e-07\n",
            "Epoch 90/100\n",
            "150/150 [==============================] - 144s 959ms/step - loss: 39.6344 - lr: 2.4787e-07\n",
            "Epoch 91/100\n",
            "150/150 [==============================] - 145s 967ms/step - loss: 39.6377 - lr: 2.2429e-07\n",
            "Epoch 92/100\n",
            "150/150 [==============================] - 145s 968ms/step - loss: 39.7221 - lr: 2.0294e-07\n",
            "Epoch 93/100\n",
            "150/150 [==============================] - 144s 961ms/step - loss: 39.6981 - lr: 1.8363e-07\n",
            "Epoch 94/100\n",
            " 81/150 [===============>..............] - ETA: 1:05 - loss: 40.3676"
          ]
        }
      ],
      "source": [
        "model.fit(train, validation_data=test, epochs=100, initial_epoch=50, callbacks=[checkpoint_callback, schedule_callback])"
      ],
      "id": "_Un0L0n1UvDY"
    },
    {
      "cell_type": "markdown",
      "metadata": {
        "id": "fa8ee94b-89f7-4733-8a0c-a86f86ff590a"
      },
      "source": [
        "# 5. Make a Prediction"
      ],
      "id": "fa8ee94b-89f7-4733-8a0c-a86f86ff590a"
    },
    {
      "cell_type": "code",
      "execution_count": null,
      "metadata": {
        "id": "01fa7204-ce0e-49a8-8dbd-14fe5dfead40"
      },
      "outputs": [],
      "source": [
        "url = 'https://drive.google.com/uc?id=1vWscXs4Vt0a_1IH1-ct2TCgXAZT-N3_Y'\n",
        "output = 'checkpoints.zip'\n",
        "gdown.download(url, output, quiet=False)\n",
        "gdown.extractall('checkpoints.zip', 'models')"
      ],
      "id": "01fa7204-ce0e-49a8-8dbd-14fe5dfead40"
    },
    {
      "cell_type": "code",
      "execution_count": null,
      "metadata": {
        "id": "247f664d-3c87-4e96-946e-930dad0e1c2c",
        "outputId": "37d0233a-f7a5-4883-919c-1ae328bcf2af"
      },
      "outputs": [
        {
          "data": {
            "text/plain": [
              "<tensorflow.python.checkpoint.checkpoint.CheckpointLoadStatus at 0x10cfb56c6a0>"
            ]
          },
          "execution_count": 53,
          "metadata": {},
          "output_type": "execute_result"
        }
      ],
      "source": [
        "#model.load_weights('models/checkpoint')\n",
        "path = os.path.join('/content/gdrive/MyDrive/LipNet/model_weights_1','checkpoint')\n"
      ],
      "id": "247f664d-3c87-4e96-946e-930dad0e1c2c"
    },
    {
      "cell_type": "code",
      "execution_count": null,
      "metadata": {
        "id": "7f8d689f-b7bb-443c-9b88-e40c1d800828"
      },
      "outputs": [],
      "source": [
        "test_data = test.as_numpy_iterator()"
      ],
      "id": "7f8d689f-b7bb-443c-9b88-e40c1d800828"
    },
    {
      "cell_type": "code",
      "execution_count": null,
      "metadata": {
        "id": "38546dc2-bee9-4837-864b-8a884df40ad7"
      },
      "outputs": [],
      "source": [
        "sample = test_data.next()"
      ],
      "id": "38546dc2-bee9-4837-864b-8a884df40ad7"
    },
    {
      "cell_type": "code",
      "execution_count": null,
      "metadata": {
        "id": "a43621f0-229d-4c0d-9554-9c3a3da9c61a"
      },
      "outputs": [],
      "source": [
        "#yhat = model.predict(sample[0])\n",
        "yhat = model.predict(val[0])"
      ],
      "id": "a43621f0-229d-4c0d-9554-9c3a3da9c61a"
    },
    {
      "cell_type": "code",
      "execution_count": null,
      "metadata": {
        "colab": {
          "base_uri": "https://localhost:8080/"
        },
        "id": "ea462999-f87e-4a7e-a057-5be7b6d8f7d5",
        "outputId": "e77e76f3-8333-4b76-cb91-96f8848b00bc"
      },
      "outputs": [
        {
          "data": {
            "text/plain": [
              "[<tf.Tensor: shape=(), dtype=string, numpy=b'place green in k zero please'>,\n",
              " <tf.Tensor: shape=(), dtype=string, numpy=b'bin green with o three soon'>]"
            ]
          },
          "execution_count": 51,
          "metadata": {},
          "output_type": "execute_result"
        }
      ],
      "source": [
        "#print('~'*100, 'REAL TEXT')\n",
        "[tf.strings.reduce_join([num_to_char(word) for word in sentence]) for sentence in val[1]]"
      ],
      "id": "ea462999-f87e-4a7e-a057-5be7b6d8f7d5"
    },
    {
      "cell_type": "code",
      "execution_count": null,
      "metadata": {
        "id": "82bd4c10-dd6e-411e-834b-2a3b43fd12c5"
      },
      "outputs": [],
      "source": [
        "decoded = tf.keras.backend.ctc_decode(yhat, input_length=[75,75], greedy=True)[0][0].numpy()"
      ],
      "id": "82bd4c10-dd6e-411e-834b-2a3b43fd12c5"
    },
    {
      "cell_type": "code",
      "execution_count": null,
      "metadata": {
        "colab": {
          "base_uri": "https://localhost:8080/"
        },
        "id": "5d68ac46-c90b-4eab-a709-f19aee569ff5",
        "outputId": "dd48f73a-804f-4b31-ad66-b1159a52417d"
      },
      "outputs": [
        {
          "output_type": "execute_result",
          "data": {
            "text/plain": [
              "[<tf.Tensor: shape=(), dtype=string, numpy=b'sia re it e an'>,\n",
              " <tf.Tensor: shape=(), dtype=string, numpy=b'la re t e plae'>]"
            ]
          },
          "metadata": {},
          "execution_count": 37
        }
      ],
      "source": [
        "#print('~'*100, 'PREDICTIONS')\n",
        "[tf.strings.reduce_join([num_to_char(word) for word in sentence]) for sentence in decoded]"
      ],
      "id": "5d68ac46-c90b-4eab-a709-f19aee569ff5"
    },
    {
      "cell_type": "markdown",
      "metadata": {
        "id": "64622f98-e99b-4fed-a2cc-f0da82eb5431"
      },
      "source": [
        "# Test on a Video"
      ],
      "id": "64622f98-e99b-4fed-a2cc-f0da82eb5431"
    },
    {
      "cell_type": "code",
      "execution_count": null,
      "metadata": {
        "id": "a8b0c4d0-2031-4331-b91d-d87b1ae6f6e2"
      },
      "outputs": [],
      "source": [
        "sample = load_data(tf.convert_to_tensor('.\\\\data\\\\s1\\\\bras9a.mpg'))"
      ],
      "id": "a8b0c4d0-2031-4331-b91d-d87b1ae6f6e2"
    },
    {
      "cell_type": "code",
      "execution_count": null,
      "metadata": {
        "id": "0cca60e4-47a9-4683-8a75-48f4684f723d",
        "outputId": "2467d7bd-dd6d-4bee-b960-220d1d70834e"
      },
      "outputs": [
        {
          "name": "stdout",
          "output_type": "stream",
          "text": [
            "~~~~~~~~~~~~~~~~~~~~~~~~~~~~~~~~~~~~~~~~~~~~~~~~~~~~~~~~~~~~~~~~~~~~~~~~~~~~~~~~~~~~~~~~~~~~~~~~~~~~ REAL TEXT\n"
          ]
        },
        {
          "data": {
            "text/plain": [
              "[<tf.Tensor: shape=(), dtype=string, numpy=b'bin red at s nine again'>]"
            ]
          },
          "execution_count": 62,
          "metadata": {},
          "output_type": "execute_result"
        }
      ],
      "source": [
        "print('~'*100, 'REAL TEXT')\n",
        "[tf.strings.reduce_join([num_to_char(word) for word in sentence]) for sentence in [sample[1]]]"
      ],
      "id": "0cca60e4-47a9-4683-8a75-48f4684f723d"
    },
    {
      "cell_type": "code",
      "execution_count": null,
      "metadata": {
        "id": "8cc5037c-1e32-435c-b0cc-01e1fb3b863c",
        "outputId": "c8493fc6-ba0c-45be-8012-ea321372161b"
      },
      "outputs": [
        {
          "name": "stdout",
          "output_type": "stream",
          "text": [
            "1/1 [==============================] - 1s 720ms/step\n"
          ]
        }
      ],
      "source": [
        "yhat = model.predict(tf.expand_dims(sample[0], axis=0))"
      ],
      "id": "8cc5037c-1e32-435c-b0cc-01e1fb3b863c"
    },
    {
      "cell_type": "code",
      "execution_count": null,
      "metadata": {
        "id": "22c4f77d-715d-409f-bc5e-3ebe48704e8f"
      },
      "outputs": [],
      "source": [
        "decoded = tf.keras.backend.ctc_decode(yhat, input_length=[75], greedy=True)[0][0].numpy()"
      ],
      "id": "22c4f77d-715d-409f-bc5e-3ebe48704e8f"
    },
    {
      "cell_type": "code",
      "execution_count": null,
      "metadata": {
        "id": "e4d12ecc-b634-499e-a4bc-db9f010835fb",
        "outputId": "fd2e1252-9bc2-440d-8bba-2b61f517948f"
      },
      "outputs": [
        {
          "name": "stdout",
          "output_type": "stream",
          "text": [
            "~~~~~~~~~~~~~~~~~~~~~~~~~~~~~~~~~~~~~~~~~~~~~~~~~~~~~~~~~~~~~~~~~~~~~~~~~~~~~~~~~~~~~~~~~~~~~~~~~~~~ PREDICTIONS\n"
          ]
        },
        {
          "data": {
            "text/plain": [
              "[<tf.Tensor: shape=(), dtype=string, numpy=b'bin red at s nine again'>]"
            ]
          },
          "execution_count": 65,
          "metadata": {},
          "output_type": "execute_result"
        }
      ],
      "source": [
        "print('~'*100, 'PREDICTIONS')\n",
        "[tf.strings.reduce_join([num_to_char(word) for word in sentence]) for sentence in decoded]"
      ],
      "id": "e4d12ecc-b634-499e-a4bc-db9f010835fb"
    },
    {
      "cell_type": "code",
      "execution_count": null,
      "metadata": {
        "id": "551dfea2-de6b-4400-b71a-a17631529e3f"
      },
      "outputs": [],
      "source": [],
      "id": "551dfea2-de6b-4400-b71a-a17631529e3f"
    },
    {
      "cell_type": "code",
      "execution_count": null,
      "metadata": {
        "id": "fa95863d-3832-47bf-8a77-ebaa38054ace"
      },
      "outputs": [],
      "source": [],
      "id": "fa95863d-3832-47bf-8a77-ebaa38054ace"
    }
  ],
  "metadata": {
    "accelerator": "GPU",
    "colab": {
      "provenance": []
    },
    "kernelspec": {
      "display_name": "Python 3",
      "name": "python3"
    },
    "language_info": {
      "name": "python"
    }
  },
  "nbformat": 4,
  "nbformat_minor": 5
}